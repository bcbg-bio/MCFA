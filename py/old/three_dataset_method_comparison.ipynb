{
 "cells": [
  {
   "cell_type": "code",
   "execution_count": 1,
   "id": "2a983df8-d37a-4173-abdb-2bb0eaf20e1d",
   "metadata": {},
   "outputs": [],
   "source": [
    "import torch\n",
    "import numpy as np\n",
    "import micca_model\n",
    "import simulate_model_gaussian\n",
    "torch.set_printoptions(linewidth = 200)"
   ]
  },
  {
   "cell_type": "code",
   "execution_count": 2,
   "id": "5a6e74ea-27ea-46cf-b685-1c77682311df",
   "metadata": {},
   "outputs": [],
   "source": [
    "def sqrtm(X):\n",
    "    U, l, VT = torch.linalg.svd(X)\n",
    "    return((U * torch.sqrt(l)) @ VT)"
   ]
  },
  {
   "cell_type": "code",
   "execution_count": 8,
   "id": "03e038ab-d3ef-4d01-90d3-238e35ef75ba",
   "metadata": {},
   "outputs": [],
   "source": [
    "n = 1000\n",
    "p = [3, 3, 3]\n",
    "psum = np.concatenate([[0], np.cumsum(p, 0)]) \n",
    "d = 2\n",
    "k = None"
   ]
  },
  {
   "cell_type": "code",
   "execution_count": 9,
   "id": "40447670-73d0-4746-981c-222c10682818",
   "metadata": {},
   "outputs": [],
   "source": [
    "model = simulate_model_gaussian.generate_model(p, k, d)\n",
    "data = model.simulate(n)\n",
    "Y_all = torch.cat(data.Y, dim = 1)\n",
    "Y_all = Y_all - torch.mean(Y_all, 0)\n",
    "Sigma_tilde = (Y_all.T @ Y_all) / (n - 1)\n",
    "W = torch.cat(model.W, dim = 1)\n",
    "Phi = torch.block_diag(*model.Phi)"
   ]
  },
  {
   "cell_type": "code",
   "execution_count": 27,
   "id": "109f71b4-626d-4606-9072-419acfbac433",
   "metadata": {},
   "outputs": [],
   "source": [
    "Y = [Y_m - torch.mean(Y_m, 0) for Y_m in data.Y]\n",
    "S11 = (Y[0].T @ Y[0])/(n-1)\n",
    "S22 = (Y[1].T @ Y[1])/(n-1)\n",
    "S33 = (Y[2].T @ Y[2])/(n-1)\n",
    "S12 = (Y[0].T @ Y[1])/(n-1)\n",
    "S13 = (Y[0].T @ Y[2])/(n-1)\n",
    "S23 = (Y[1].T @ Y[2])/(n-1)\n",
    "S11_inv2 = sqrtm(torch.linalg.pinv(S11, rcond = 1e-06))\n",
    "S22_inv2 = sqrtm(torch.linalg.pinv(S22, rcond = 1e-06))\n",
    "S33_inv2 = sqrtm(torch.linalg.pinv(S33, rcond = 1e-06))\n",
    "C12_tilde = S11_inv2 @ S12 @ S22_inv2\n",
    "C13_tilde = S11_inv2 @ S13 @ S33_inv2"
   ]
  },
  {
   "cell_type": "code",
   "execution_count": 12,
   "id": "87089e41-9e8d-4c76-9123-270cc98a3976",
   "metadata": {},
   "outputs": [
    {
     "name": "stdout",
     "output_type": "stream",
     "text": [
      "tensor(4.6638) tensor(239.7270) tensor(17477.3555)\n",
      "tensor(4.9947e-07) tensor(9.5019e-06) tensor(16560.2324)\n",
      "tensor(8.6580e-08) tensor(1.6055e-06) tensor(16560.0742)\n",
      "tensor(1.8795e-08) tensor(3.4518e-07) tensor(16560.0449)\n",
      "tensor(5.2162e-09) tensor(8.9491e-08) tensor(16560.0352)\n",
      "tensor(1.8878e-09) tensor(2.9314e-08) tensor(16560.0312)\n",
      "tensor(9.1882e-10) tensor(1.2139e-08) tensor(16560.0293)\n",
      "tensor(5.6278e-10) tensor(6.1705e-09) tensor(16560.0273)\n",
      "tensor(4.0663e-10) tensor(3.6414e-09) tensor(16560.0273)\n",
      "tensor(3.1441e-10) tensor(2.6928e-09) tensor(16560.0273)\n",
      "tensor(2.5285e-10) tensor(1.8450e-09) tensor(16560.0254)\n",
      "tensor(2.0248e-10) tensor(1.4001e-09) tensor(16560.0254)\n",
      "tensor(1.5084e-10) tensor(1.1128e-09) tensor(16560.0254)\n",
      "tensor(1.2883e-10) tensor(9.7860e-10) tensor(16560.0273)\n",
      "tensor(1.0562e-10) tensor(6.8894e-10) tensor(16560.0254)\n",
      "tensor(8.9485e-11) tensor(6.4739e-10) tensor(16560.0234)\n",
      "tensor(6.8341e-11) tensor(5.8229e-10) tensor(16560.0234)\n",
      "tensor(5.6238e-11) tensor(3.6079e-10) tensor(16560.0254)\n",
      "tensor(4.6767e-11) tensor(3.0931e-10) tensor(16560.0234)\n",
      "tensor(3.5790e-11) tensor(2.5455e-10) tensor(16560.0254)\n",
      "tensor(3.0665e-11) tensor(2.1467e-10) tensor(16560.0234)\n",
      "tensor(2.5925e-11) tensor(1.8372e-10) tensor(16560.0234)\n",
      "tensor(2.1725e-11) tensor(1.4558e-10) tensor(16560.0234)\n",
      "tensor(1.8506e-11) tensor(1.3973e-10) tensor(16560.0254)\n",
      "tensor(1.3814e-11) tensor(9.4577e-11) tensor(16560.0234)\n",
      "tensor(1.4148e-11) tensor(7.7133e-11) tensor(16560.0234)\n",
      "tensor(9.2478e-12) tensor(8.5397e-11) tensor(16560.0234)\n",
      "tensor(6.8545e-12) tensor(6.2858e-11) tensor(16560.0234)\n",
      "tensor(6.1661e-12) tensor(4.0345e-11) tensor(16560.0234)\n",
      "tensor(6.6798e-12) tensor(4.4619e-11) tensor(16560.0254)\n",
      "tensor(6.8057e-12) tensor(4.6338e-11) tensor(16560.0234)\n",
      "tensor(4.3390e-12) tensor(2.7050e-11) tensor(16560.0254)\n",
      "tensor(4.3381e-12) tensor(5.3898e-11) tensor(16560.0234)\n",
      "tensor(2.5958e-12) tensor(2.5132e-11) tensor(16560.0234)\n",
      "tensor(3.1719e-12) tensor(3.7350e-11) tensor(16560.0254)\n",
      "tensor(2.7891e-12) tensor(1.1415e-11) tensor(16560.0234)\n",
      "tensor(1.9098e-12) tensor(2.2112e-11) tensor(16560.0254)\n",
      "tensor(1.6782e-12) tensor(6.8248e-12) tensor(16560.0234)\n",
      "tensor(9.6639e-13) tensor(6.5761e-12) tensor(16560.0234)\n",
      "tensor(8.4434e-13) tensor(9.0381e-12) tensor(16560.0234)\n",
      "tensor(1.8741e-12) tensor(1.0292e-11) tensor(16560.0234)\n",
      "tensor(8.1157e-13) tensor(4.2384e-12) tensor(16560.0234)\n",
      "tensor(7.6100e-13) tensor(3.3928e-12) tensor(16560.0234)\n",
      "tensor(5.3135e-13) tensor(4.2277e-12) tensor(16560.0254)\n",
      "tensor(1.0118e-12) tensor(4.0785e-12) tensor(16560.0234)\n",
      "tensor(1.8999e-12) tensor(3.3431e-12) tensor(16560.0254)\n",
      "tensor(1.0137e-12) tensor(8.1535e-12) tensor(16560.0234)\n",
      "tensor(4.1173e-13) tensor(3.7836e-12) tensor(16560.0234)\n",
      "tensor(9.4702e-13) tensor(1.1447e-11) tensor(16560.0254)\n",
      "tensor(2.4138e-13) tensor(1.3358e-12) tensor(16560.0234)\n"
     ]
    }
   ],
   "source": [
    "# Fit 2-D\n",
    "std_normal = torch.distributions.Normal(0, 1)\n",
    "W_curr = std_normal.sample([d, sum(p)])\n",
    "Phi_curr = torch.eye(sum(p))\n",
    "for i in range(5000):\n",
    "    # W_next, Phi_next = micca_model.EM_step_stable(W_curr, Phi_curr, Y_all, Sigma_tilde, p = p)\n",
    "    W_next, Phi_next = micca_model.EM_step(W_curr, Phi_curr, Sigma_tilde, p = p)\n",
    "    delta_W = torch.sum((W_curr - W_next)**2)\n",
    "    delta_Phi = torch.sum((Phi_curr - Phi_next)**2)\n",
    "    W_curr = W_next\n",
    "    Phi_curr = Phi_next\n",
    "    if (i%100 == 0): \n",
    "        print(delta_W, delta_Phi, micca_model.loglik(W_curr.T @ W_curr + Phi_curr, Sigma_tilde, n))\n",
    "W_hat = W_curr\n",
    "Phi_hat = Phi_curr"
   ]
  },
  {
   "cell_type": "code",
   "execution_count": 13,
   "id": "e777f9b2-61a1-4a58-8695-29344d1fd0c5",
   "metadata": {},
   "outputs": [
    {
     "name": "stdout",
     "output_type": "stream",
     "text": [
      "tensor(16560.0234)\n",
      "tensor(16559.8652)\n"
     ]
    }
   ],
   "source": [
    "W1 = W_hat[:, psum[0]:psum[1]]\n",
    "W2 = W_hat[:, psum[1]:psum[2]]\n",
    "W3 = W_hat[:, psum[2]:psum[3]]\n",
    "\n",
    "W1_tilde = W1 @ S11_inv2\n",
    "W2_tilde = W2 @ S22_inv2\n",
    "W3_tilde = W3 @ S33_inv2\n",
    "\n",
    "# The original conjecture in terms of SVD of W_tilde\n",
    "B1, S1, A1T = torch.linalg.svd(W1_tilde, full_matrices=False)\n",
    "B2, S2, A2T = torch.linalg.svd(W2_tilde, full_matrices=False)\n",
    "B3, S3, A3T = torch.linalg.svd(W3_tilde, full_matrices=False)\n",
    "F1 = S11_inv2 @ A1T.T\n",
    "F2 = S22_inv2 @ A2T.T\n",
    "F3 = S33_inv2 @ A3T.T\n",
    "\n",
    "model_cov_1 = torch.cat([torch.cat([S11, W1.T @ W2, W1.T @ W3], axis = 1),\n",
    "                         torch.cat([W2.T @ W1, S22, W2.T @ W3], axis = 1),\n",
    "                         torch.cat([W3.T @ W1, W3.T @ W2, S33], axis = 1)], axis = 0)\n",
    "model_cov_2 = torch.cat([torch.cat([torch.eye(p[0]), W1_tilde.T @ W2_tilde, W1_tilde.T @ W3_tilde], axis = 1),\n",
    "                         torch.cat([W2_tilde.T @ W1_tilde, torch.eye(p[1]), W2_tilde.T @ W3_tilde], axis = 1),\n",
    "                         torch.cat([W3_tilde.T @ W1_tilde, W3_tilde.T @ W2_tilde, torch.eye(p[2])], axis = 1)], axis = 0)\n",
    "gen_var = torch.cat([torch.cat([F1.T @ S11 @ F1, F1.T @ S12 @ F2, F1.T @ S13 @ F3], axis = 1),\n",
    "                     torch.cat([(F1.T @ S12 @ F2).T, F2.T @ S22 @ F2, F2.T @ S23 @ F3], axis = 1),\n",
    "                     torch.cat([(F1.T @ S13 @ F3).T, (F2.T @ S23 @ F3).T, F3.T @ S33 @ F3], axis = 1)], axis = 0)\n",
    "gen_var_2 = torch.cat([torch.cat([torch.eye(p[0]), A1T.T @ F1.T @ S12 @ F2 @ A2T, A1T.T @ F1.T @ S13 @ F3 @ A3T], axis = 1),\n",
    "                       torch.cat([(A1T.T @ F1.T @ S12 @ F2 @ A2T).T, torch.eye(p[1]), A2T.T @ F2.T @ S23 @ F3 @ A3T], axis = 1),\n",
    "                       torch.cat([(A1T.T @ F1.T @ S13 @ F3 @ A3T).T, (A2T.T @ F2.T @ S23 @ F3 @ A3T).T, torch.eye(p[1])], axis = 1)], axis = 0)\n",
    "\n",
    "D_half = torch.block_diag(sqrtm(S11), sqrtm(S22), sqrtm(S33))\n",
    "\n",
    "Sigma_alt = D_half @ gen_var_2 @ D_half\n",
    "print(micca_model.loglik(model_cov_1, Sigma_tilde, n))\n",
    "print(micca_model.loglik(Sigma_alt, Sigma_tilde, n))\n",
    "# print(micca_model.loglik(W_ml.T @ W_ml + Phi_ml, Sigma_tilde, n))\n",
    "\n",
    "# a1 = (W1_tilde.T/torch.sqrt(torch.sum(W1_tilde**2, 1)))\n",
    "# a2 = (W2_tilde.T/torch.sqrt(torch.sum(W2_tilde**2, 1)))\n",
    "# a3 = (W3_tilde.T/torch.sqrt(torch.sum(W3_tilde**2, 1)))\n",
    "# f1 = S11_inv2 @ a1\n",
    "# f2 = S22_inv2 @ a2\n",
    "# f3 = S33_inv2 @ a3\n",
    "\n",
    "# Phi_test = torch.cat([torch.cat([f1.T @ S11 @ f1, f1.T @ S12 @ f2, f1.T @ S13 @ f3], axis = 1),\n",
    "#                  torch.cat([(f1.T @ S12 @ f2).T, f2.T @ S22 @ f2, f2.T @ S23 @ f3], axis = 1),\n",
    "#                  torch.cat([(f1.T @ S13 @ f3).T, (f2.T @ S23 @ f3).T, f3.T @ S33 @ f3], axis = 1)], axis = 0)\n",
    "# print(torch.logdet(Phi_test))\n",
    "\n",
    "# f1_1 = F1[:, 0:1]\n",
    "# f2_1 = F2[:, 0:1]\n",
    "# f3_1 = F3[:, 0:1]\n",
    "# f1_2 = F1[:, 1:2]\n",
    "# f2_2 = F2[:, 1:2]\n",
    "# f3_2 = F3[:, 0:1]\n",
    "\n",
    "# Phi_1 = torch.tensor([[f1_1.T @ S11 @ f1_1, f1_1.T @ S12 @ f2_1, f1_1.T @ S13 @ f3_1],\n",
    "#                       [f1_1.T @ S12 @ f2_1, f2_1.T @ S22 @ f2_1, f2_1.T @ S23 @ f3_1],\n",
    "#                       [f1_1.T @ S13 @ f3_1, f2_1.T @ S23 @ f3_1, f3_1.T @ S33 @ f3_1]])\n",
    "# Phi_2 = torch.tensor([[f1_2.T @ S11 @ f1_2, f1_2.T @ S12 @ f2_2, f1_2.T @ S13 @ f3_2],\n",
    "#                       [f1_2.T @ S12 @ f2_2, f2_2.T @ S22 @ f2_2, f2_2.T @ S23 @ f3_2],\n",
    "#                       [f1_2.T @ S13 @ f3_2, f2_2.T @ S23 @ f3_2, f3_2.T @ S33 @ f3_2]])\n",
    "# print(torch.logdet(Phi_1) + torch.logdet(Phi_2))"
   ]
  },
  {
   "cell_type": "code",
   "execution_count": 14,
   "id": "af1820eb-3399-452d-a8a4-be1d4fd7f9a0",
   "metadata": {},
   "outputs": [
    {
     "name": "stdout",
     "output_type": "stream",
     "text": [
      "tensor([[ 0.7558,  0.0086],\n",
      "        [-0.0226,  0.0446]])\n",
      "tensor([[ 0.6551,  2.1239, -0.5474],\n",
      "        [ 1.6988,  6.5813, -2.0663],\n",
      "        [-0.3463, -2.2200,  1.1871]])\n"
     ]
    }
   ],
   "source": [
    "X12 = F1.T @ S12 @ F2\n",
    "X13 = F1.T @ S13 @ F3\n",
    "X23 = F2.T @ S23 @ F3\n",
    "\n",
    "print(X13 @ torch.linalg.inv(X23) @ X12.T)\n",
    "print(S13 @ torch.linalg.inv(S23) @ S12.T)"
   ]
  },
  {
   "cell_type": "code",
   "execution_count": 15,
   "id": "af390b9f-c6d7-4b34-9788-14c297711b92",
   "metadata": {},
   "outputs": [
    {
     "data": {
      "text/plain": [
       "tensor([[-0.1758, -0.0060,  0.0444],\n",
       "        [-0.6352, -0.0407,  0.0311],\n",
       "        [ 0.0767,  0.0270,  0.1450]])"
      ]
     },
     "execution_count": 15,
     "metadata": {},
     "output_type": "execute_result"
    }
   ],
   "source": [
    "W1_tilde.T @ W2_tilde"
   ]
  },
  {
   "cell_type": "code",
   "execution_count": 19,
   "id": "9d79e82a-f086-4932-b9cf-687ff09a90b7",
   "metadata": {},
   "outputs": [
    {
     "data": {
      "text/plain": [
       "tensor([[-0.1768, -0.0059,  0.0453],\n",
       "        [-0.6349, -0.0408,  0.0308],\n",
       "        [ 0.0723,  0.0273,  0.1490]])"
      ]
     },
     "execution_count": 19,
     "metadata": {},
     "output_type": "execute_result"
    }
   ],
   "source": [
    "A1T.T @ F1.T @ S12 @ F2 @ A2T"
   ]
  },
  {
   "cell_type": "code",
   "execution_count": 25,
   "id": "84bcf449-5b45-4c59-8aa7-280236dab989",
   "metadata": {},
   "outputs": [
    {
     "name": "stdout",
     "output_type": "stream",
     "text": [
      "tensor([[ 7.6278e-01, -3.7253e-08],\n",
      "        [-2.9802e-08,  3.8986e-02]])\n"
     ]
    }
   ],
   "source": [
    "X12 = (B1*S1).T @ (B2*S2)\n",
    "X13 = (B1*S1).T @ (B3*S3)\n",
    "X23 = (B2*S2).T @ (B3*S3)\n",
    "print(X13 @ torch.linalg.inv(X23) @ X12.T)"
   ]
  },
  {
   "cell_type": "code",
   "execution_count": 30,
   "id": "7fe1a6e7-81d5-4400-adfd-df29ba7e2536",
   "metadata": {},
   "outputs": [
    {
     "data": {
      "text/plain": [
       "tensor([[-2.1039e-02,  1.9578e-03],\n",
       "        [ 5.2834e-03,  4.2273e-06],\n",
       "        [-5.4943e-03,  7.0994e-03]])"
      ]
     },
     "execution_count": 30,
     "metadata": {},
     "output_type": "execute_result"
    }
   ],
   "source": [
    "(C12_tilde - W1_tilde.T @ W2_tilde) @ W2_tilde.T @ torch.linalg.inv(1 - W2_tilde @ W2_tilde.T) + (C13_tilde - W1_tilde.T @ W3_tilde) @ W3_tilde.T @ torch.linalg.inv(1 - W3_tilde @ W3_tilde.T) "
   ]
  },
  {
   "cell_type": "code",
   "execution_count": 13,
   "id": "a62b63c1-8fa3-4f5c-9f0d-2f81f1b5033c",
   "metadata": {},
   "outputs": [
    {
     "name": "stdout",
     "output_type": "stream",
     "text": [
      "tensor(5.6074) tensor(198.7069)\n",
      "tensor(2.5940e-13) tensor(2.6059e-12)\n",
      "tensor(4.0307e-13) tensor(3.2738e-12)\n",
      "tensor(1.4144e-13) tensor(2.1565e-12)\n",
      "tensor(2.6096e-13) tensor(3.6895e-12)\n",
      "tensor(1.7221e-13) tensor(3.4053e-12)\n",
      "tensor(2.7124e-13) tensor(2.6361e-12)\n",
      "tensor(5.7988e-13) tensor(3.0287e-12)\n",
      "tensor(8.5998e-13) tensor(6.4349e-12)\n",
      "tensor(1.6333e-13) tensor(1.0418e-12)\n",
      "tensor(1.8658) tensor(190.4414)\n",
      "tensor(1.0515e-13) tensor(5.3042e-12)\n",
      "tensor(7.8618e-14) tensor(1.2399e-12)\n",
      "tensor(1.1841e-13) tensor(1.7657e-12)\n",
      "tensor(3.3973e-13) tensor(3.0784e-12)\n",
      "tensor(1.2258e-13) tensor(2.1245e-12)\n",
      "tensor(1.9851e-13) tensor(1.7568e-12)\n",
      "tensor(7.8143e-13) tensor(1.6378e-12)\n",
      "tensor(1.2834e-13) tensor(3.3129e-12)\n",
      "tensor(1.0626e-13) tensor(7.1765e-13)\n"
     ]
    }
   ],
   "source": [
    "# Fit 1-D once\n",
    "std_normal = torch.distributions.Normal(0, 1)\n",
    "W_curr = std_normal.sample([1, sum(p)])\n",
    "Phi_curr = torch.eye(sum(p))\n",
    "for i in range(10000):\n",
    "    W_next, Phi_next = micca_model.EM_step_stable(W_curr, Phi_curr, Y_all, Sigma_tilde, p = p, rcond=None)\n",
    "    delta_W = torch.sum((W_curr - W_next)**2)\n",
    "    delta_Phi = torch.sum((Phi_curr - Phi_next)**2)\n",
    "    W_curr = W_next\n",
    "    Phi_curr = Phi_next\n",
    "    if (i%1000 == 0): print(delta_W, delta_Phi)\n",
    "W_hat = W_curr\n",
    "Phi_hat = Phi_curr\n",
    "W1 = W_hat[:, psum[0]:psum[1]]\n",
    "W2 = W_hat[:, psum[1]:psum[2]]\n",
    "W3 = W_hat[:, psum[2]:psum[3]]\n",
    "\n",
    "# Project out learned space and fit again\n",
    "W1_tilde = W1 @ S11_inv2\n",
    "W2_tilde = W2 @ S22_inv2\n",
    "W3_tilde = W3 @ S33_inv2\n",
    "a1 = (W1_tilde / torch.sqrt(torch.sum(W1_tilde**2))).T\n",
    "a2 = (W2_tilde / torch.sqrt(torch.sum(W2_tilde**2))).T\n",
    "a3 = (W3_tilde / torch.sqrt(torch.sum(W3_tilde**2))).T\n",
    "f1_1 = S11_inv2 @ a1\n",
    "f2_1 = S22_inv2 @ a2\n",
    "f3_1 = S33_inv2 @ a3\n",
    "P1 = torch.eye(p[0]) - f1_1 @ f1_1.T @ S11\n",
    "P2 = torch.eye(p[1]) - f2_1 @ f2_1.T @ S22\n",
    "P3 = torch.eye(p[2]) - f3_1 @ f3_1.T @ S33\n",
    "Y_mod = [Y[0] @ P1, Y[1] @ P2, Y[2] @ P3]\n",
    "Y_mod = [Y - torch.mean(Y, 0) for Y in Y_mod]\n",
    "Y_mod_all = torch.cat(Y_mod, dim = 1)\n",
    "S11_mod = (Y_mod[0].T @ Y_mod[0])/(n-1)\n",
    "S22_mod = (Y_mod[1].T @ Y_mod[1])/(n-1)\n",
    "S33_mod = (Y_mod[2].T @ Y_mod[2])/(n-1)\n",
    "S12_mod = (Y_mod[0].T @ Y_mod[1])/(n-1)\n",
    "S13_mod = (Y_mod[0].T @ Y_mod[2])/(n-1)\n",
    "S23_mod = (Y_mod[1].T @ Y_mod[2])/(n-1)\n",
    "S11_inv2_mod = sqrtm(torch.linalg.pinv(S11_mod, rcond = 1e-06))\n",
    "S22_inv2_mod = sqrtm(torch.linalg.pinv(S22_mod, rcond = 1e-06))\n",
    "S33_inv2_mod = sqrtm(torch.linalg.pinv(S33_mod, rcond = 1e-06))\n",
    "Sigma_tilde_mod = (Y_mod_all.T @ Y_mod_all) / (n - 1)\n",
    "\n",
    "std_normal = torch.distributions.Normal(0, 1)\n",
    "W_curr = std_normal.sample([1, sum(p)])\n",
    "Phi_curr = torch.eye(sum(p))\n",
    "for i in range(10000):\n",
    "    W_next, Phi_next = micca_model.EM_step_stable(W_curr, Phi_curr, Y_mod_all, Sigma_tilde, p = p, rcond = None)\n",
    "    delta_W = torch.sum((W_curr - W_next)**2)\n",
    "    delta_Phi = torch.sum((Phi_curr - Phi_next)**2)\n",
    "    W_curr = W_next\n",
    "    Phi_curr = Phi_next\n",
    "    if (i%1000 == 0): print(delta_W, delta_Phi)\n",
    "W_hat = W_curr\n",
    "Phi_hat = Phi_curr\n",
    "W1 = W_hat[:, psum[0]:psum[1]]\n",
    "W2 = W_hat[:, psum[1]:psum[2]]\n",
    "W3 = W_hat[:, psum[2]:psum[3]]\n",
    "W1_tilde = W1 @ S11_inv2_mod\n",
    "W2_tilde = W2 @ S22_inv2_mod\n",
    "W3_tilde = W3 @ S33_inv2_mod\n",
    "a1 = (W1_tilde / torch.sqrt(torch.sum(W1_tilde**2))).T\n",
    "a2 = (W2_tilde / torch.sqrt(torch.sum(W2_tilde**2))).T\n",
    "a3 = (W3_tilde / torch.sqrt(torch.sum(W3_tilde**2))).T\n",
    "f1_2 = S11_inv2_mod @ a1\n",
    "f2_2 = S22_inv2_mod @ a2\n",
    "f3_2 = S33_inv2_mod @ a3"
   ]
  },
  {
   "cell_type": "code",
   "execution_count": 14,
   "id": "84749d03-fb37-4500-8504-3fb7812a59f9",
   "metadata": {},
   "outputs": [
    {
     "name": "stdout",
     "output_type": "stream",
     "text": [
      "tensor(-2.6776)\n"
     ]
    }
   ],
   "source": [
    "Phi_1 = torch.tensor([[f1_1.T @ S11 @ f1_1, f1_1.T @ S12 @ f2_1, f1_1.T @ S13 @ f3_1],\n",
    "                      [f1_1.T @ S12 @ f2_1, f2_1.T @ S22 @ f2_1, f2_1.T @ S23 @ f3_1],\n",
    "                      [f1_1.T @ S13 @ f3_1, f2_1.T @ S23 @ f3_1, f3_1.T @ S33 @ f3_1]])\n",
    "Phi_2 = torch.tensor([[f1_2.T @ S11_mod @ f1_2, f1_2.T @ S12_mod @ f2_2, f1_2.T @ S13_mod @ f3_2],\n",
    "                      [f1_2.T @ S12_mod @ f2_2, f2_2.T @ S22_mod @ f2_2, f2_2.T @ S23_mod @ f3_2],\n",
    "                      [f1_2.T @ S13_mod @ f3_2, f2_2.T @ S23_mod @ f3_2, f3_2.T @ S33_mod @ f3_2]])\n",
    "print(torch.logdet(Phi_1) + torch.logdet(Phi_2))"
   ]
  },
  {
   "cell_type": "code",
   "execution_count": 15,
   "id": "c3fa5395-14c2-4e3a-9c76-608a36943b98",
   "metadata": {},
   "outputs": [
    {
     "name": "stdout",
     "output_type": "stream",
     "text": [
      "tensor([[1.0003]])\n",
      "tensor([[1.0276]])\n",
      "tensor([[1.0462]])\n"
     ]
    }
   ],
   "source": [
    "print(f1_2.T @ S11 @ f1_2)\n",
    "print(f2_2.T @ S22 @ f2_2)\n",
    "print(f3_2.T @ S33 @ f3_2)"
   ]
  },
  {
   "cell_type": "code",
   "execution_count": 41,
   "id": "ed4e23f4-cd9a-47f1-8dd2-b3aefbe59099",
   "metadata": {},
   "outputs": [
    {
     "name": "stdout",
     "output_type": "stream",
     "text": [
      "tensor([[0.9428]])\n",
      "tensor([[1.0859]])\n",
      "tensor([[1.0297]])\n"
     ]
    }
   ],
   "source": [
    "print(f1_2.T @ S12 @ f2_2)\n",
    "print(f1_2.T @ S13 @ f3_2)\n",
    "print(f2_2.T @ S23 @ f3_2)"
   ]
  },
  {
   "cell_type": "code",
   "execution_count": 25,
   "id": "b4f87851-5196-4731-8eb6-b2bfeea27794",
   "metadata": {},
   "outputs": [
    {
     "name": "stdout",
     "output_type": "stream",
     "text": [
      "tensor([[-0.3595, -0.2429],\n",
      "        [ 0.2392, -0.1712]])\n",
      "tensor([[ 0.0625, -0.5011],\n",
      "        [ 0.5813,  0.0235]])\n",
      "tensor([[ 0.3042,  0.2207],\n",
      "        [-0.2623,  0.1182]])\n"
     ]
    }
   ],
   "source": [
    "print(F1.T @ S12 @ F2)\n",
    "print(F1.T @ S13 @ F3)\n",
    "print(F2.T @ S23 @ F3)"
   ]
  },
  {
   "cell_type": "code",
   "execution_count": 72,
   "id": "12b078e1-cba5-4ff2-a627-2d1fbf091c59",
   "metadata": {},
   "outputs": [
    {
     "name": "stdout",
     "output_type": "stream",
     "text": [
      "tensor(0.5966)\n",
      "tensor(0.5966)\n"
     ]
    }
   ],
   "source": [
    "W1_bar = W_em[0] @ S11_inv2\n",
    "W2_bar = W_em[1] @ S22_inv2\n",
    "W3_bar = W_em[2] @ S33_inv2\n",
    "\n",
    "B1, S1, A1 = torch.linalg.svd(W1_bar, full_matrices = False)\n",
    "B2, S2, A2 = torch.linalg.svd(W2_bar, full_matrices = False)\n",
    "B3, S3, A3 = torch.linalg.svd(W3_bar, full_matrices = False)\n",
    "\n",
    "P1 = A1.T @ A1\n",
    "P2 = A2.T @ A2\n",
    "P3 = A3.T @ A3\n",
    "\n",
    "P1C12P2 = P1 @ C12_tilde @ P2\n",
    "P1C13P3 = P1 @ C13_tilde @ P3\n",
    "P2C23P3 = P2 @ C23_tilde @ P3\n",
    "\n",
    "M1 = torch.cat([torch.cat([torch.eye(3), W1_bar.T @ W2_bar, W1_bar.T @ W3_bar], 1),\n",
    "                torch.cat([W2_bar.T @ W1_bar, torch.eye(3), W2_bar.T @ W3_bar], 1),\n",
    "                torch.cat([W3_bar.T @ W1_bar, W3_bar.T @ W2_bar, torch.eye(3)], 1)], 0)\n",
    "M2 = torch.cat([torch.cat([torch.eye(3), P1C12P2, P1C13P3], 1),\n",
    "                torch.cat([P1C12P2.T, torch.eye(3), P2C23P3], 1),\n",
    "                torch.cat([P1C13P3.T, P2C23P3.T, torch.eye(3)], 1)], 0)\n",
    "print(torch.linalg.det(M1))\n",
    "print(torch.linalg.det(M2))"
   ]
  },
  {
   "cell_type": "code",
   "execution_count": 73,
   "id": "52b4f8fa-8921-4637-9d05-48dc522a30bf",
   "metadata": {},
   "outputs": [
    {
     "name": "stdout",
     "output_type": "stream",
     "text": [
      "tensor(0.5966)\n",
      "tensor(0.9919)\n"
     ]
    }
   ],
   "source": [
    "# Nope!\n",
    "W_bar = torch.cat([W1_bar, W2_bar, W3_bar], 1)\n",
    "B, S, A = torch.linalg.svd(W_bar, full_matrices = False)\n",
    "\n",
    "A1 = A[:, psum[0]:psum[1]]\n",
    "A2 = A[:, psum[1]:psum[2]]\n",
    "A3 = A[:, psum[2]:psum[3]]\n",
    "\n",
    "P1 = A1.T @ A1\n",
    "P2 = A2.T @ A2\n",
    "P3 = A3.T @ A3\n",
    "\n",
    "P1C12P2 = P1 @ C12_tilde @ P2\n",
    "P1C13P3 = P1 @ C13_tilde @ P3\n",
    "P2C23P3 = P2 @ C23_tilde @ P3\n",
    "\n",
    "M2 = torch.cat([torch.cat([torch.eye(3), P1C12P2, P1C13P3], 1),\n",
    "                torch.cat([P1C12P2.T, torch.eye(3), P2C23P3], 1),\n",
    "                torch.cat([P1C13P3.T, P2C23P3.T, torch.eye(3)], 1)], 0)\n",
    "print(torch.linalg.det(M1))\n",
    "print(torch.linalg.det(M2))"
   ]
  },
  {
   "cell_type": "code",
   "execution_count": 27,
   "id": "54d93eff-6149-4091-abeb-dd2e8ce35c69",
   "metadata": {},
   "outputs": [],
   "source": [
    "M1 = torch.cat([torch.cat([torch.eye(3), W1_bar.T @ W2_bar, W1_bar.T @ W3_bar], 1),\n",
    "                torch.cat([W2_bar.T @ W1_bar, torch.eye(3), W2_bar.T @ W3_bar], 1),\n",
    "                torch.cat([W3_bar.T @ W1_bar, W3_bar.T @ W2_bar, torch.eye(3)], 1)], 0)\n",
    "A, S, _ = torch.linalg.svd(M1, full_matrices = False)\n",
    "\n",
    "A1 = A[psum[0]:psum[1], 0:2].T\n",
    "A2 = A[psum[1]:psum[2], 0:2].T\n",
    "A3 = A[psum[2]:psum[3], 0:2].T\n",
    "\n",
    "P1 = A1.T @ A1\n",
    "P2 = A2.T @ A2\n",
    "P3 = A3.T @ A3\n",
    "\n",
    "P1C12P2 = P1 @ C12_tilde @ P2\n",
    "P1C13P3 = P1 @ C13_tilde @ P3\n",
    "P2C23P3 = P2 @ C23_tilde @ P3"
   ]
  },
  {
   "cell_type": "code",
   "execution_count": 20,
   "id": "8a39e1de-d30c-44da-bbc4-2d8575562650",
   "metadata": {},
   "outputs": [
    {
     "data": {
      "text/plain": [
       "tensor([[-0.2094,  0.5825],\n",
       "        [ 0.3363,  0.1146],\n",
       "        [ 0.4213,  0.2283],\n",
       "        [-0.5645,  0.0326],\n",
       "        [-0.0425,  0.4586],\n",
       "        [ 0.1896,  0.0066],\n",
       "        [ 0.3092,  0.5180],\n",
       "        [-0.1159, -0.0901],\n",
       "        [ 0.4474, -0.3280]])"
      ]
     },
     "execution_count": 20,
     "metadata": {},
     "output_type": "execute_result"
    }
   ],
   "source": [
    "\n",
    "# Fit 1-d one time\n",
    "W_curr = std_normal.sample([1, sum(p)])\n",
    "Phi_curr = torch.eye(sum(p))\n",
    "for i in range(1000):\n",
    "    W_next, Phi_next = micca_model.EM_step(W_curr, Phi_curr, Sigma_tilde, p = p)\n",
    "    # W_next, Phi_next = micca_model.EM_step_alt(W_curr, Phi_curr, Y_all, Sigma_tilde, p = p)\n",
    "    delta_W = torch.sum((W_curr - W_next)**2)\n",
    "    delta_Phi = torch.sum((Phi_curr - Phi_next)**2)\n",
    "    W_curr = W_next\n",
    "    Phi_curr = Phi_next\n",
    "    if (i%100 == 0): print(delta_W, delta_Phi)\n",
    "\n",
    "# Project out learned space and fit again\n",
    "a1 = W_curr[:, psum[0]:psum[1]] / torch.sqrt(torch.sum(W_curr[:, psum[0]:psum[1]]**2))\n",
    "a2 = W_curr[:, psum[1]:psum[2]] / torch.sqrt(torch.sum(W_curr[:, psum[1]:psum[2]]**2))\n",
    "f1 = a1 @ S11_inv2\n",
    "f2 = a2 @ S22_inv2\n",
    "\n",
    "Y_mod = [data.Y[0] @ (torch.eye(3) - f1.T @ f1), data.Y[1] @ (torch.eye(3) - f2.T @ f2)]\n",
    "Y_mod_all = torch.cat(Y_mod, dim = 1)\n",
    "Y_mod_all = Y_mod_all - torch.mean(Y_mod_all, 0)\n",
    "Sigma_mod_tilde = (Y_mod_all.T @ Y_mod_all) / (n - 1)\n",
    "\n",
    "W_curr = std_normal.sample([1, sum(p)])\n",
    "Phi_curr = torch.eye(sum(p))\n",
    "for i in range(1000):\n",
    "    W_next, Phi_next = micca_model.EM_step(W_curr, Phi_curr, Sigma_mod_tilde, p = p)\n",
    "    # W_next, Phi_next = micca_model.EM_step_alt(W_curr, Phi_curr, Y_all, Sigma_tilde, p = p)\n",
    "    delta_W = torch.sum((W_curr - W_next)**2)\n",
    "    delta_Phi = torch.sum((Phi_curr - Phi_next)**2)\n",
    "    W_curr = W_next\n",
    "    Phi_curr = Phi_next\n",
    "    if (i%100 == 0): print(delta_W, delta_Phi)\n",
    "    \n",
    "# Project out learned space and check residual covariance\n",
    "a1 = W_curr[:, psum[0]:psum[1]] / torch.sqrt(torch.sum(W_curr[:, psum[0]:psum[1]]**2))\n",
    "a2 = W_curr[:, psum[1]:psum[2]] / torch.sqrt(torch.sum(W_curr[:, psum[1]:psum[2]]**2))\n",
    "f1 = a1 @ S11_inv2\n",
    "f2 = a2 @ S22_inv2\n",
    "\n",
    "Y_mod_2 = [Y_mod[0] @ (torch.eye(3) - f1.T @ f1), Y_mod[1] @ (torch.eye(3) - f2.T @ f2)]\n",
    "Y_mod_2_all = torch.cat(Y_mod_2, dim = 1)\n",
    "Y_mod_2_all = Y_mod_2_all - torch.mean(Y_mod_2_all, 0)\n",
    "Sigma_mod_2_tilde = (Y_mod_2_all.T @ Y_mod_2_all) / (n - 1)\n",
    "\n",
    "print(Sigma_mod_2_tilde)"
   ]
  },
  {
   "cell_type": "code",
   "execution_count": 23,
   "id": "4efb7c93-7509-4058-a5ad-d7460674ca71",
   "metadata": {},
   "outputs": [],
   "source": []
  },
  {
   "cell_type": "code",
   "execution_count": 24,
   "id": "93beab36-71ba-4bc3-869c-619a4b173022",
   "metadata": {},
   "outputs": [
    {
     "data": {
      "text/plain": [
       "tensor([[-0.1435,  0.3387,  0.4332, -0.6028, -0.0526,  0.2022,  0.3386, -0.1160,\n",
       "          0.3767],\n",
       "        [ 0.6568,  0.1127,  0.2353,  0.1272,  0.3418, -0.0299,  0.5002, -0.0857,\n",
       "         -0.3304]])"
      ]
     },
     "execution_count": 24,
     "metadata": {},
     "output_type": "execute_result"
    }
   ],
   "source": [
    "A"
   ]
  },
  {
   "cell_type": "code",
   "execution_count": 39,
   "id": "8b37ed5b-c7db-482c-b38c-fa4e48b8f2c7",
   "metadata": {},
   "outputs": [
    {
     "data": {
      "text/plain": [
       "tensor([[0.2900, 0.0547],\n",
       "        [0.0324, 0.0781]])"
      ]
     },
     "execution_count": 39,
     "metadata": {},
     "output_type": "execute_result"
    }
   ],
   "source": [
    "A1 @ C13_tilde @ A3.T"
   ]
  },
  {
   "cell_type": "code",
   "execution_count": 29,
   "id": "3f139bd2-422d-48f2-8aca-4f0e3a140980",
   "metadata": {},
   "outputs": [
    {
     "data": {
      "text/plain": [
       "tensor([[-0.0003,  0.0012],\n",
       "        [-0.0005, -0.0002]])"
      ]
     },
     "execution_count": 29,
     "metadata": {},
     "output_type": "execute_result"
    }
   ],
   "source": [
    "W1_bar @ (C13_tilde - W1_bar.T @ W3_bar) @ W3_bar.T"
   ]
  },
  {
   "cell_type": "code",
   "execution_count": 31,
   "id": "1091239c-581a-4bd1-9511-e588a8248fd3",
   "metadata": {},
   "outputs": [
    {
     "name": "stdout",
     "output_type": "stream",
     "text": [
      "tensor(0.1111)\n",
      "tensor(-8.0517e-27)\n"
     ]
    }
   ],
   "source": [
    "M1 = torch.cat([torch.cat([torch.eye(3), W1_bar.T @ W2_bar, W1_bar.T @ W3_bar], 1),\n",
    "                torch.cat([W2_bar.T @ W1_bar, torch.eye(3), W2_bar.T @ W3_bar], 1),\n",
    "                torch.cat([W3_bar.T @ W1_bar, W3_bar.T @ W2_bar, torch.eye(3)], 1)], 0)\n",
    "M2 = torch.cat([torch.cat([P1, P1C12P2, P1C13P3], 1),\n",
    "                torch.cat([P1C12P2.T, P2, P2C23P3], 1),\n",
    "                torch.cat([P1C13P3.T, P2C23P3.T, P3], 1)], 0)\n",
    "print(torch.linalg.det(M1))\n",
    "print(torch.linalg.det(M2))"
   ]
  },
  {
   "cell_type": "code",
   "execution_count": 8,
   "id": "0e44232d-890a-4000-8da9-1ee9e47ef761",
   "metadata": {},
   "outputs": [
    {
     "name": "stdout",
     "output_type": "stream",
     "text": [
      "tensor([[ 0.3023,  0.3841, -0.0876],\n",
      "        [-0.3758,  0.0207,  0.1281],\n",
      "        [-0.4620,  0.0773,  0.1595]])\n",
      "tensor([[ 0.4323, -0.0576, -0.4560],\n",
      "        [ 0.3167, -0.0927,  0.1888],\n",
      "        [ 0.4783, -0.1311,  0.1927]])\n",
      "tensor([[-0.2974,  0.1198, -0.5165],\n",
      "        [ 0.2443, -0.0379, -0.2027],\n",
      "        [ 0.1102, -0.0421,  0.1672]])\n"
     ]
    }
   ],
   "source": [
    "print(P1C12P2)\n",
    "print(P1C13P3)\n",
    "print(P2C23P3)"
   ]
  },
  {
   "cell_type": "code",
   "execution_count": null,
   "id": "7b031213-3687-4088-a7b1-fdbc35a5e50c",
   "metadata": {},
   "outputs": [],
   "source": []
  },
  {
   "cell_type": "code",
   "execution_count": 9,
   "id": "80785baf-1923-4852-9fdb-3a568dbdad42",
   "metadata": {},
   "outputs": [
    {
     "name": "stdout",
     "output_type": "stream",
     "text": [
      "tensor([[ 0.3040,  0.3764, -0.0885],\n",
      "        [-0.3769,  0.0271,  0.1287],\n",
      "        [-0.4633,  0.0849,  0.1602]])\n",
      "tensor([[ 0.4341, -0.0580, -0.4556],\n",
      "        [ 0.3155, -0.0925,  0.1900],\n",
      "        [ 0.4770, -0.1309,  0.1944]])\n",
      "tensor([[-0.2974,  0.1195, -0.5125],\n",
      "        [ 0.2405, -0.0352, -0.2208],\n",
      "        [ 0.1100, -0.0418,  0.1651]])\n"
     ]
    }
   ],
   "source": [
    "print(W1_bar.T @ W2_bar)\n",
    "print(W1_bar.T @ W3_bar)\n",
    "print(W2_bar.T @ W3_bar)"
   ]
  },
  {
   "cell_type": "code",
   "execution_count": 10,
   "id": "a0beac41-d6fe-43d4-bed2-9b1618d367ab",
   "metadata": {},
   "outputs": [
    {
     "name": "stdout",
     "output_type": "stream",
     "text": [
      "tensor(0.0031)\n",
      "tensor(0.0009)\n",
      "tensor(0.0035)\n"
     ]
    }
   ],
   "source": [
    "print(torch.mean(abs(P1C12P2 - W1_bar.T @ W2_bar)))\n",
    "print(torch.mean(abs(P1C13P3 - W1_bar.T @ W3_bar)))\n",
    "print(torch.mean(abs(P2C23P3 - W2_bar.T @ W3_bar)))"
   ]
  },
  {
   "cell_type": "code",
   "execution_count": 106,
   "id": "9fba5693-c485-404b-91b7-121ef8048a72",
   "metadata": {},
   "outputs": [
    {
     "name": "stdout",
     "output_type": "stream",
     "text": [
      "tensor(0.0028)\n",
      "tensor(0.0027)\n",
      "tensor(0.0006)\n"
     ]
    }
   ],
   "source": [
    "print(torch.mean(abs((C12_tilde - W1_bar.T @ W2_bar) @  W2_bar.T)))\n",
    "print(torch.mean(abs((C13_tilde - W1_bar.T @ W3_bar) @  W3_bar.T)))\n",
    "print(torch.mean(abs((C23_tilde - W2_bar.T @ W3_bar) @  W3_bar.T)))"
   ]
  },
  {
   "cell_type": "code",
   "execution_count": 141,
   "id": "415be776-fdf9-4f63-898b-00df1af67a04",
   "metadata": {},
   "outputs": [
    {
     "data": {
      "text/plain": [
       "tensor([[-0.0293],\n",
       "        [ 0.0047],\n",
       "        [-0.0501]])"
      ]
     },
     "execution_count": 141,
     "metadata": {},
     "output_type": "execute_result"
    }
   ],
   "source": [
    "(C13_tilde - W1_bar.T @ W3_bar) @ W3_bar.T @ torch.linalg.inv(torch.eye(1) - W3_bar @ W3_bar.T) "
   ]
  },
  {
   "cell_type": "code",
   "execution_count": 142,
   "id": "39dc10d2-b256-477f-b990-402bc1947cf6",
   "metadata": {},
   "outputs": [
    {
     "data": {
      "text/plain": [
       "tensor([[-0.0293],\n",
       "        [ 0.0047],\n",
       "        [-0.0501]])"
      ]
     },
     "execution_count": 142,
     "metadata": {},
     "output_type": "execute_result"
    }
   ],
   "source": [
    "(C13_tilde - W1_bar.T @ W3_bar) @  torch.linalg.inv(torch.eye(3) - W3_bar.T @ W3_bar) @ W3_bar.T"
   ]
  },
  {
   "cell_type": "code",
   "execution_count": 143,
   "id": "27d5195a-6998-4643-86bb-35585f059d0b",
   "metadata": {},
   "outputs": [
    {
     "data": {
      "text/plain": [
       "tensor([[ 0.0073],\n",
       "        [-0.0012],\n",
       "        [ 0.0126]])"
      ]
     },
     "execution_count": 143,
     "metadata": {},
     "output_type": "execute_result"
    }
   ],
   "source": [
    "(C12_tilde - W1_bar.T @ W2_bar) @ W2_bar.T"
   ]
  },
  {
   "cell_type": "code",
   "execution_count": 145,
   "id": "f024ca41-8863-45a4-9ff8-225641d61775",
   "metadata": {},
   "outputs": [
    {
     "data": {
      "text/plain": [
       "tensor([[ 0.0293],\n",
       "        [-0.0047],\n",
       "        [ 0.0501]])"
      ]
     },
     "execution_count": 145,
     "metadata": {},
     "output_type": "execute_result"
    }
   ],
   "source": [
    "(C12_tilde - W1_bar.T @ W2_bar) @ W2_bar.T @ torch.linalg.inv(1 - W2_bar @ W2_bar.T)"
   ]
  },
  {
   "cell_type": "code",
   "execution_count": 12,
   "id": "20220bfd-6663-4ea1-b6d3-03f8ed22f899",
   "metadata": {},
   "outputs": [
    {
     "data": {
      "text/plain": [
       "tensor([[ 4.5940e-03, -2.8103e-04],\n",
       "        [ 4.4791e-03,  2.6003e-03],\n",
       "        [-9.0168e-03, -5.8655e-05]])"
      ]
     },
     "execution_count": 12,
     "metadata": {},
     "output_type": "execute_result"
    }
   ],
   "source": [
    "(C12_tilde - W1_bar.T @ W2_bar) @ W2_bar.T @ torch.linalg.inv(1 - W2_bar @ W2_bar.T) + (C13_tilde - W1_bar.T @ W3_bar) @ W3_bar.T @ torch.linalg.inv(1 - W3_bar @ W3_bar.T) "
   ]
  },
  {
   "cell_type": "code",
   "execution_count": 51,
   "id": "321ecf4a-89c5-47bf-8af8-bd46a92cff42",
   "metadata": {},
   "outputs": [
    {
     "data": {
      "text/plain": [
       "[tensor([[4.6497, 0.2221, 0.0900],\n",
       "         [0.2221, 1.9237, 0.3744],\n",
       "         [0.0900, 0.3744, 1.7076]]),\n",
       " tensor([[ 1.9754,  1.5128, -1.7825],\n",
       "         [ 1.5128,  2.2075, -2.4684],\n",
       "         [-1.7825, -2.4684,  3.6764]]),\n",
       " tensor([[ 1.5073, -1.3006,  0.8230],\n",
       "         [-1.3006,  8.2849, -3.3705],\n",
       "         [ 0.8230, -3.3705,  5.0412]])]"
      ]
     },
     "execution_count": 51,
     "metadata": {},
     "output_type": "execute_result"
    }
   ],
   "source": [
    "[S11 - W_em[0].T @ W_em[0], S22 - W_em[1].T @ W_em[1], S33 - W_em[2].T @ W_em[2]]"
   ]
  },
  {
   "cell_type": "code",
   "execution_count": 54,
   "id": "ceaef13f-eced-4a87-95eb-b6c4b6b41555",
   "metadata": {},
   "outputs": [
    {
     "data": {
      "text/plain": [
       "tensor([[ 0.0027, -0.6311],\n",
       "        [-0.0130, -1.2672],\n",
       "        [ 1.4927,  0.2291],\n",
       "        [ 0.0977, -0.7140],\n",
       "        [-0.0575, -1.3654],\n",
       "        [-0.1034,  0.0930],\n",
       "        [-0.1427, -0.4694],\n",
       "        [-0.5685, -0.8861],\n",
       "        [ 1.7051,  1.6871]])"
      ]
     },
     "execution_count": 54,
     "metadata": {},
     "output_type": "execute_result"
    }
   ],
   "source": [
    "W_curr.T"
   ]
  },
  {
   "cell_type": "code",
   "execution_count": 29,
   "id": "f8e3343f-238e-4010-8663-4770941a3a72",
   "metadata": {},
   "outputs": [
    {
     "ename": "NameError",
     "evalue": "name 'W_em' is not defined",
     "output_type": "error",
     "traceback": [
      "\u001b[0;31m---------------------------------------------------------------------------\u001b[0m",
      "\u001b[0;31mNameError\u001b[0m                                 Traceback (most recent call last)",
      "\u001b[0;32m/tmp/ipykernel_1753/2181572577.py\u001b[0m in \u001b[0;36m<module>\u001b[0;34m\u001b[0m\n\u001b[1;32m      1\u001b[0m \u001b[0;31m# Lemma 5???\u001b[0m\u001b[0;34m\u001b[0m\u001b[0;34m\u001b[0m\u001b[0;34m\u001b[0m\u001b[0m\n\u001b[0;32m----> 2\u001b[0;31m \u001b[0mtorch\u001b[0m\u001b[0;34m.\u001b[0m\u001b[0mmean\u001b[0m\u001b[0;34m(\u001b[0m\u001b[0mabs\u001b[0m\u001b[0;34m(\u001b[0m\u001b[0;34m(\u001b[0m\u001b[0mSigma_tilde\u001b[0m \u001b[0;34m-\u001b[0m \u001b[0mW_curr\u001b[0m\u001b[0;34m.\u001b[0m\u001b[0mT\u001b[0m \u001b[0;34m@\u001b[0m \u001b[0mW_curr\u001b[0m\u001b[0;34m)\u001b[0m \u001b[0;34m@\u001b[0m \u001b[0mtorch\u001b[0m\u001b[0;34m.\u001b[0m\u001b[0mlinalg\u001b[0m\u001b[0;34m.\u001b[0m\u001b[0minv\u001b[0m\u001b[0;34m(\u001b[0m\u001b[0mtorch\u001b[0m\u001b[0;34m.\u001b[0m\u001b[0mblock_diag\u001b[0m\u001b[0;34m(\u001b[0m\u001b[0mS11\u001b[0m \u001b[0;34m-\u001b[0m \u001b[0mW_em\u001b[0m\u001b[0;34m[\u001b[0m\u001b[0;36m0\u001b[0m\u001b[0;34m]\u001b[0m\u001b[0;34m.\u001b[0m\u001b[0mT\u001b[0m \u001b[0;34m@\u001b[0m \u001b[0mW_em\u001b[0m\u001b[0;34m[\u001b[0m\u001b[0;36m0\u001b[0m\u001b[0;34m]\u001b[0m\u001b[0;34m,\u001b[0m \u001b[0mS22\u001b[0m \u001b[0;34m-\u001b[0m \u001b[0mW_em\u001b[0m\u001b[0;34m[\u001b[0m\u001b[0;36m1\u001b[0m\u001b[0;34m]\u001b[0m\u001b[0;34m.\u001b[0m\u001b[0mT\u001b[0m \u001b[0;34m@\u001b[0m \u001b[0mW_em\u001b[0m\u001b[0;34m[\u001b[0m\u001b[0;36m1\u001b[0m\u001b[0;34m]\u001b[0m\u001b[0;34m,\u001b[0m \u001b[0mS33\u001b[0m \u001b[0;34m-\u001b[0m \u001b[0mW_em\u001b[0m\u001b[0;34m[\u001b[0m\u001b[0;36m2\u001b[0m\u001b[0;34m]\u001b[0m\u001b[0;34m.\u001b[0m\u001b[0mT\u001b[0m \u001b[0;34m@\u001b[0m \u001b[0mW_em\u001b[0m\u001b[0;34m[\u001b[0m\u001b[0;36m2\u001b[0m\u001b[0;34m]\u001b[0m\u001b[0;34m)\u001b[0m\u001b[0;34m)\u001b[0m \u001b[0;34m@\u001b[0m \u001b[0mW_curr\u001b[0m\u001b[0;34m.\u001b[0m\u001b[0mT\u001b[0m \u001b[0;34m-\u001b[0m \u001b[0mW_curr\u001b[0m\u001b[0;34m.\u001b[0m\u001b[0mT\u001b[0m\u001b[0;34m)\u001b[0m\u001b[0;34m)\u001b[0m\u001b[0;34m\u001b[0m\u001b[0;34m\u001b[0m\u001b[0m\n\u001b[0m",
      "\u001b[0;31mNameError\u001b[0m: name 'W_em' is not defined"
     ]
    }
   ],
   "source": [
    "# Lemma 5???\n",
    "torch.mean(abs((Sigma_tilde - W_curr.T @ W_curr) @ torch.linalg.inv(torch.block_diag(S11 - W_em[0].T @ W_em[0], S22 - W_em[1].T @ W_em[1], S33 - W_em[2].T @ W_em[2])) @ W_curr.T - W_curr.T))"
   ]
  },
  {
   "cell_type": "code",
   "execution_count": 11,
   "id": "e5be40b9-28ee-4774-8f32-5ea0909b5a11",
   "metadata": {},
   "outputs": [
    {
     "name": "stdout",
     "output_type": "stream",
     "text": [
      "tensor([1.2103, 1.0694, 1.0000, 1.0000, 1.0000, 1.0000, 1.0000, 1.0000, 0.7203])\n",
      "tensor([1.2103, 1.0694, 0.7203])\n"
     ]
    }
   ],
   "source": [
    "std_normal = torch.distributions.Normal(0, 1)\n",
    "f = std_normal.sample([3, 3])\n",
    "f = f @ torch.linalg.inv(sqrtm(f.T @ f))\n",
    "f.T @ f\n",
    "f1 = f[:,0, None]\n",
    "f2 = f[:, 1, None]\n",
    "f3 = f[:, 2, None]\n",
    "\n",
    "f1f1T = f1 @ f1.T\n",
    "f2f2T = f2 @ f2.T\n",
    "f3f3T = f3 @ f3.T\n",
    "\n",
    "mat1 = torch.cat([torch.cat([torch.eye(3), f1f1T @ C12_tilde @ f2f2T, f1f1T @ C13_tilde @ f3f3T], 1),\n",
    "                  torch.cat([f2f2T @ C12_tilde.T @ f1f1T, torch.eye(3), f2f2T @ C23_tilde @ f3f3T], 1),\n",
    "                  torch.cat([f3f3T @ C13_tilde.T @ f1f1T, f3f3T @ C23_tilde.T @ f2f2T, torch.eye(3)], 1)], 0)\n",
    "mat2 = torch.cat([torch.cat([torch.eye(1), f1.T @ C12_tilde @ f2, f1.T @ C13_tilde @ f3], 1),\n",
    "                  torch.cat([f2.T @ C12_tilde.T @ f1, torch.eye(1), f2.T @ C23_tilde @ f3], 1),\n",
    "                  torch.cat([f3.T @ C13_tilde.T @ f1, f3.T @ C23_tilde.T @ f2, torch.eye(1)], 1)], 0)\n",
    "print(torch.linalg.svd(mat1).S)\n",
    "print(torch.linalg.svd(mat2).S)"
   ]
  },
  {
   "cell_type": "code",
   "execution_count": 19,
   "id": "1dffc33e-12ad-45a3-b39e-d7126fd7e018",
   "metadata": {},
   "outputs": [
    {
     "name": "stdout",
     "output_type": "stream",
     "text": [
      "tensor([[0.8872, 0.0354],\n",
      "        [0.0354, 0.8952]])\n",
      "tensor([[1.3133, 0.0112],\n",
      "        [0.0112, 0.9161]])\n",
      "tensor([[1.3942, 0.4744],\n",
      "        [0.4744, 0.3550]])\n",
      "tensor([[3.5946, 0.5210],\n",
      "        [0.5210, 2.1664]])\n"
     ]
    }
   ],
   "source": [
    "S11_inv = torch.linalg.inv(S11)\n",
    "PU1d = W_ml[0] @ S11_inv\n",
    "print(PU1d @ S11 @ PU1d.T)\n",
    "\n",
    "S22_inv = torch.linalg.inv(S22)\n",
    "PU2d = W_ml[1] @ S22_inv\n",
    "print(PU2d @ S22 @ PU2d.T)\n",
    "\n",
    "S33_inv = torch.linalg.inv(S33)\n",
    "PU3d = W_ml[1] @ S33_inv\n",
    "print(PU3d @ S33 @ PU3d.T)\n",
    "\n",
    "print(PU1d @ S11 @ PU1d.T + PU2d @ S22 @ PU2d.T + PU3d @ S33 @ PU3d.T)\n",
    "\n",
    "# print(PU1d @ S12 @ PU2d.T)\n",
    "# print(PU1d.T @ PU2d)  # Should = next\n",
    "# print( (U1d * p_mat[0:d]) @ U2d.T )"
   ]
  }
 ],
 "metadata": {
  "kernelspec": {
   "display_name": "Python 3 (ipykernel)",
   "language": "python",
   "name": "python3"
  },
  "language_info": {
   "codemirror_mode": {
    "name": "ipython",
    "version": 3
   },
   "file_extension": ".py",
   "mimetype": "text/x-python",
   "name": "python",
   "nbconvert_exporter": "python",
   "pygments_lexer": "ipython3",
   "version": "3.8.3"
  }
 },
 "nbformat": 4,
 "nbformat_minor": 5
}
