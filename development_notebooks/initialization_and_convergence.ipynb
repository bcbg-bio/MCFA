{
  "cells": [
    {
      "cell_type": "code",
      "execution_count": 259,
      "id": "2a983df8-d37a-4173-abdb-2bb0eaf20e1d",
      "metadata": {
        "id": "2a983df8-d37a-4173-abdb-2bb0eaf20e1d"
      },
      "outputs": [],
      "source": [
        "import torch\n",
        "import numpy as np\n",
        "import pandas as pd\n",
        "from MPCCA.py import micca_model\n",
        "from MPCCA.py import simulate_model_gaussian\n",
        "torch.set_printoptions(linewidth = 200)"
      ]
    },
    {
      "cell_type": "code",
      "execution_count": 150,
      "id": "5a6e74ea-27ea-46cf-b685-1c77682311df",
      "metadata": {
        "id": "5a6e74ea-27ea-46cf-b685-1c77682311df"
      },
      "outputs": [],
      "source": [
        "def sqrtm(X):\n",
        "    L, V = torch.linalg.eigh(X)\n",
        "    print(L)\n",
        "    return(V * torch.sqrt(abs(L)))"
      ]
    },
    {
      "cell_type": "code",
      "execution_count": 3,
      "id": "03e038ab-d3ef-4d01-90d3-238e35ef75ba",
      "metadata": {
        "id": "03e038ab-d3ef-4d01-90d3-238e35ef75ba"
      },
      "outputs": [],
      "source": [
        "n = 1000\n",
        "p = [3, 3, 3]\n",
        "psum = np.concatenate([[0], np.cumsum(p, 0)]) \n",
        "d = 2\n",
        "k = None"
      ]
    },
    {
      "cell_type": "code",
      "execution_count": 185,
      "id": "40447670-73d0-4746-981c-222c10682818",
      "metadata": {
        "id": "40447670-73d0-4746-981c-222c10682818"
      },
      "outputs": [],
      "source": [
        "model = simulate_model_gaussian.generate_model(p, k, d)\n",
        "data = model.simulate(n)\n",
        "Y_all = torch.cat(data.Y, dim = 1)\n",
        "Y_all = Y_all - torch.mean(Y_all, 0)\n",
        "Sigma_tilde = (Y_all.T @ Y_all) / (n - 1)\n",
        "W = torch.cat(model.W, dim = 1)\n",
        "Phi = torch.block_diag(*model.Phi)"
      ]
    },
    {
      "cell_type": "code",
      "execution_count": 186,
      "id": "109f71b4-626d-4606-9072-419acfbac433",
      "metadata": {
        "colab": {
          "base_uri": "https://localhost:8080/"
        },
        "id": "109f71b4-626d-4606-9072-419acfbac433",
        "outputId": "28ee134f-3061-4aae-d69c-3bae4bd8b4f4"
      },
      "outputs": [
        {
          "output_type": "stream",
          "name": "stdout",
          "text": [
            "tensor([0.1593, 0.3018, 0.5869])\n",
            "tensor([0.1654, 0.4159, 0.8997])\n",
            "tensor([0.1507, 0.4626, 1.0055])\n"
          ]
        }
      ],
      "source": [
        "Y = [Y_m - torch.mean(Y_m, 0) for Y_m in data.Y]\n",
        "S11 = (Y[0].T @ Y[0])/(n-1)\n",
        "S22 = (Y[1].T @ Y[1])/(n-1)\n",
        "S33 = (Y[2].T @ Y[2])/(n-1)\n",
        "S12 = (Y[0].T @ Y[1])/(n-1)\n",
        "S13 = (Y[0].T @ Y[2])/(n-1)\n",
        "S23 = (Y[1].T @ Y[2])/(n-1)\n",
        "S11_inv2 = sqrtm(torch.linalg.pinv(S11, rcond = 1e-06))\n",
        "S22_inv2 = sqrtm(torch.linalg.pinv(S22, rcond = 1e-06))\n",
        "S33_inv2 = sqrtm(torch.linalg.pinv(S33, rcond = 1e-06))\n",
        "C12_tilde = S11_inv2 @ S12 @ S22_inv2\n",
        "C13_tilde = S11_inv2 @ S13 @ S33_inv2"
      ]
    },
    {
      "cell_type": "code",
      "source": [
        "# TODO(brielin): do a simulation comparing the tiny details\n",
        "# TODO(brielin): is Phi_init REALLY not psd using this?\n",
        "def init_ppca(Y, d, sqrt_sets = True, orth_cca = False, ppca = False):\n",
        "  # Y list of tensors\n",
        "  # d int\n",
        "  # return W, Phi\n",
        "  n_sets = len(Y)\n",
        "  n = Y[0].shape[0]\n",
        "  ps = [y.shape[1] for y in Y]\n",
        "  p = sum(ps)\n",
        "  Sigmas = [y.T @ y / n for y in Y]\n",
        "  Y_svds = [torch.linalg.svd(y, full_matrices=False) for y in Y]\n",
        "  Us, Ss, Vts = list(map(list, zip(*Y_svds)))\n",
        "  U_all = torch.cat(Us, dim = 1)\n",
        "  Sig_ppca = U_all.T @ U_all\n",
        "  L, V = torch.linalg.eigh(Sig_ppca)\n",
        "  L = torch.abs(torch.flip(L, dims = [0]))\n",
        "  if sqrt_sets:\n",
        "    V = np.sqrt(n_sets) * torch.flip(V, dims=[1])\n",
        "  else:\n",
        "    V = torch.flip(V, dims=[1])\n",
        "  psum = np.concatenate([[0], np.cumsum(ps, 0)])\n",
        "  V_splits = [V[i:j, 0:d] for i, j in zip(psum[:-1], psum[1:])]\n",
        "  if ppca:\n",
        "    sigma2_ml = torch.sum(L[d:])/(p - d)\n",
        "  else:\n",
        "    sigma2_ml = 0\n",
        "  Vds = [vd * torch.sqrt(L[0:d] - sigma2_ml) for vd in V_splits]\n",
        "  if orth_cca:\n",
        "    Pmats, _ = micca_model._make_P_mats(Vds)\n",
        "    Vds = [torch.linalg.eigh(mat).eigenvectors[:, (mat.shape[0]-d):] for mat in Pmats]\n",
        "  W_init = [(np.sqrt(n) * vt.T / s) @ vd for vt, s, vd in zip(Vts, Ss, Vds)]\n",
        "  Phi_init = [Sigma - W @ W.T for Sigma, W in zip(Sigmas, W_init)]\n",
        "  return torch.cat(W_init, 0), torch.block_diag(*Phi_init)"
      ],
      "metadata": {
        "id": "P5bUDAH9dTBD"
      },
      "id": "P5bUDAH9dTBD",
      "execution_count": 223,
      "outputs": []
    },
    {
      "cell_type": "code",
      "source": [
        "def fit_sequence(Y, d, niter, W0, Phi0):\n",
        "  p = [ds.shape[1] for ds in Y]\n",
        "  Y = torch.cat(Y, 1).float()\n",
        "  n = Y.shape[0]\n",
        "  Sigma_tilde = Y.T @ Y / (n -1)\n",
        "  W_seq = [W0]\n",
        "  Phi_seq = [Phi0]\n",
        "  cov_delta_seq = [torch.mean((W0.T @ W0 + Phi0 - Sigma_tilde)**2)]\n",
        "  l_seq = [micca_model.loglik(W0.T @ W0 + Phi0, Sigma_tilde, n)]\n",
        "  for i in range(niter):\n",
        "    W1, Phi1 = micca_model.EM_step_stable(W0, Phi0, Y, Sigma_tilde, p)\n",
        "    l1 = micca_model.loglik(W1.T @ W1 + Phi1, Sigma_tilde, n)\n",
        "    cd = torch.mean((W1.T @ W1 + Phi1 - Sigma_tilde)**2)\n",
        "    l_seq = l_seq + [l1]\n",
        "    cov_delta_seq = cov_delta_seq + [cd]\n",
        "    W0 = W1\n",
        "    Phi0 = Phi1\n",
        "  return l_seq, cov_delta_seq\n",
        "\n",
        "def sim_one(p, k, d, n, niter = 100):\n",
        "  model = simulate_model_gaussian.generate_model(p, k, d)\n",
        "  data = model.simulate(n)\n",
        "  Y_all = torch.cat(data.Y, dim = 1)\n",
        "  Y_all = Y_all - torch.mean(Y_all, 0)\n",
        "  Sigma_tilde = (Y_all.T @ Y_all) / (n - 1)\n",
        "  W = torch.cat(model.W, dim = 1)\n",
        "  Phi = torch.block_diag(*model.Phi)\n",
        "\n",
        "  W0, Phi0 = init_ppca(data.Y, d, True, False, False)\n",
        "  l_seq, cd_seq = fit_sequence(data.Y, d, niter, W0=W0.T, Phi0=Phi0.T)\n",
        "  res_df_TFF = pd.DataFrame({'method': ['TFF']*(niter+1), 'it': range(niter+1), 'l': l_seq, 'cd': cd_seq})\n",
        "\n",
        "  std_normal = torch.distributions.Normal(0, 1)\n",
        "  W0 = std_normal.sample([d, sum(p)])\n",
        "  Phi0 = torch.eye(sum(p))\n",
        "  l_seq, cd_seq = fit_sequence(data.Y, d, niter, W0=W0, Phi0=Phi0)\n",
        "  res_df_rand = pd.DataFrame({'method': ['rand']*(niter+1), 'it': range(niter+1), 'l': l_seq, 'cd': cd_seq})\n",
        "\n",
        "  res_df = pd.concat([res_df_TFF, res_df_rand])\n",
        "  return(res_df)\n",
        "\n",
        "\n",
        "def sim_many(p, k, d, n, niter = 100, nsims = 10):\n",
        "  all_res = []\n",
        "  for i in range(nsims):\n",
        "    sim_res = sim_one(p, k, d, n, niter)\n",
        "    sim_res['sim'] = i\n",
        "    all_res = all_res + [sim_res]\n",
        "  return(pd.concat(all_res))"
      ],
      "metadata": {
        "id": "37t9I20XX3FA"
      },
      "id": "37t9I20XX3FA",
      "execution_count": 288,
      "outputs": []
    },
    {
      "cell_type": "code",
      "source": [
        "sim_many([3, 3, 3], None, 2, 1000, niter=10, nsims=2)"
      ],
      "metadata": {
        "colab": {
          "base_uri": "https://localhost:8080/",
          "height": 1000
        },
        "id": "I91oFQb12bPE",
        "outputId": "78a6e59e-dbaf-4c46-b587-43569d1ea80d"
      },
      "id": "I91oFQb12bPE",
      "execution_count": 289,
      "outputs": [
        {
          "output_type": "stream",
          "name": "stdout",
          "text": [
            "11\n",
            "11\n"
          ]
        },
        {
          "output_type": "execute_result",
          "data": {
            "text/plain": [
              "   method  it                   l              cd  sim\n",
              "0     TFF   0  tensor(18280.4531)  tensor(0.9509)    0\n",
              "1     TFF   1  tensor(18126.9883)  tensor(0.6011)    0\n",
              "2     TFF   2  tensor(17993.2871)  tensor(0.3283)    0\n",
              "3     TFF   3  tensor(17912.0977)  tensor(0.1854)    0\n",
              "4     TFF   4  tensor(17866.8320)  tensor(0.1090)    0\n",
              "5     TFF   5  tensor(17841.3789)  tensor(0.0659)    0\n",
              "6     TFF   6  tensor(17827.7344)  tensor(0.0409)    0\n",
              "7     TFF   7  tensor(17820.7754)  tensor(0.0260)    0\n",
              "8     TFF   8  tensor(17817.2363)  tensor(0.0168)    0\n",
              "9     TFF   9  tensor(17815.3496)  tensor(0.0111)    0\n",
              "10    TFF  10  tensor(17814.2676)  tensor(0.0075)    0\n",
              "0    rand   0  tensor(25152.5000)  tensor(3.4242)    0\n",
              "1    rand   1  tensor(18276.3281)  tensor(0.8807)    0\n",
              "2    rand   2  tensor(18011.7266)  tensor(0.2662)    0\n",
              "3    rand   3  tensor(17928.1816)  tensor(0.1060)    0\n",
              "4    rand   4  tensor(17902.2949)  tensor(0.0600)    0\n",
              "5    rand   5  tensor(17892.8027)  tensor(0.0432)    0\n",
              "6    rand   6  tensor(17888.3828)  tensor(0.0359)    0\n",
              "7    rand   7  tensor(17885.9141)  tensor(0.0322)    0\n",
              "8    rand   8  tensor(17884.3516)  tensor(0.0302)    0\n",
              "9    rand   9  tensor(17883.2520)  tensor(0.0290)    0\n",
              "10   rand  10  tensor(17882.3945)  tensor(0.0282)    0\n",
              "0     TFF   0  tensor(18226.0176)  tensor(0.5255)    1\n",
              "1     TFF   1  tensor(18151.5117)  tensor(0.4818)    1\n",
              "2     TFF   2  tensor(18129.5898)  tensor(0.4479)    1\n",
              "3     TFF   3  tensor(18113.5254)  tensor(0.4096)    1\n",
              "4     TFF   4  tensor(18095.9141)  tensor(0.3640)    1\n",
              "5     TFF   5  tensor(18074.5996)  tensor(0.3106)    1\n",
              "6     TFF   6  tensor(18049.6328)  tensor(0.2522)    1\n",
              "7     TFF   7  tensor(18022.6602)  tensor(0.1951)    1\n",
              "8     TFF   8  tensor(17996.0625)  tensor(0.1449)    1\n",
              "9     TFF   9  tensor(17971.8477)  tensor(0.1048)    1\n",
              "10    TFF  10  tensor(17951.0293)  tensor(0.0747)    1\n",
              "0    rand   0  tensor(27525.4902)  tensor(5.1255)    1\n",
              "1    rand   1  tensor(18269.5293)  tensor(2.4976)    1\n",
              "2    rand   2  tensor(18030.9707)  tensor(0.7055)    1\n",
              "3    rand   3  tensor(17944.9648)  tensor(0.2341)    1\n",
              "4    rand   4  tensor(17910.8281)  tensor(0.0854)    1\n",
              "5    rand   5  tensor(17896.4824)  tensor(0.0342)    1\n",
              "6    rand   6  tensor(17890.1055)  tensor(0.0154)    1\n",
              "7    rand   7  tensor(17887.1113)  tensor(0.0080)    1\n",
              "8    rand   8  tensor(17885.6211)  tensor(0.0050)    1\n",
              "9    rand   9  tensor(17884.8379)  tensor(0.0036)    1\n",
              "10   rand  10  tensor(17884.4023)  tensor(0.0030)    1"
            ],
            "text/html": [
              "<div>\n",
              "<style scoped>\n",
              "    .dataframe tbody tr th:only-of-type {\n",
              "        vertical-align: middle;\n",
              "    }\n",
              "\n",
              "    .dataframe tbody tr th {\n",
              "        vertical-align: top;\n",
              "    }\n",
              "\n",
              "    .dataframe thead th {\n",
              "        text-align: right;\n",
              "    }\n",
              "</style>\n",
              "<table border=\"1\" class=\"dataframe\">\n",
              "  <thead>\n",
              "    <tr style=\"text-align: right;\">\n",
              "      <th></th>\n",
              "      <th>method</th>\n",
              "      <th>it</th>\n",
              "      <th>l</th>\n",
              "      <th>cd</th>\n",
              "      <th>sim</th>\n",
              "    </tr>\n",
              "  </thead>\n",
              "  <tbody>\n",
              "    <tr>\n",
              "      <th>0</th>\n",
              "      <td>TFF</td>\n",
              "      <td>0</td>\n",
              "      <td>tensor(18280.4531)</td>\n",
              "      <td>tensor(0.9509)</td>\n",
              "      <td>0</td>\n",
              "    </tr>\n",
              "    <tr>\n",
              "      <th>1</th>\n",
              "      <td>TFF</td>\n",
              "      <td>1</td>\n",
              "      <td>tensor(18126.9883)</td>\n",
              "      <td>tensor(0.6011)</td>\n",
              "      <td>0</td>\n",
              "    </tr>\n",
              "    <tr>\n",
              "      <th>2</th>\n",
              "      <td>TFF</td>\n",
              "      <td>2</td>\n",
              "      <td>tensor(17993.2871)</td>\n",
              "      <td>tensor(0.3283)</td>\n",
              "      <td>0</td>\n",
              "    </tr>\n",
              "    <tr>\n",
              "      <th>3</th>\n",
              "      <td>TFF</td>\n",
              "      <td>3</td>\n",
              "      <td>tensor(17912.0977)</td>\n",
              "      <td>tensor(0.1854)</td>\n",
              "      <td>0</td>\n",
              "    </tr>\n",
              "    <tr>\n",
              "      <th>4</th>\n",
              "      <td>TFF</td>\n",
              "      <td>4</td>\n",
              "      <td>tensor(17866.8320)</td>\n",
              "      <td>tensor(0.1090)</td>\n",
              "      <td>0</td>\n",
              "    </tr>\n",
              "    <tr>\n",
              "      <th>5</th>\n",
              "      <td>TFF</td>\n",
              "      <td>5</td>\n",
              "      <td>tensor(17841.3789)</td>\n",
              "      <td>tensor(0.0659)</td>\n",
              "      <td>0</td>\n",
              "    </tr>\n",
              "    <tr>\n",
              "      <th>6</th>\n",
              "      <td>TFF</td>\n",
              "      <td>6</td>\n",
              "      <td>tensor(17827.7344)</td>\n",
              "      <td>tensor(0.0409)</td>\n",
              "      <td>0</td>\n",
              "    </tr>\n",
              "    <tr>\n",
              "      <th>7</th>\n",
              "      <td>TFF</td>\n",
              "      <td>7</td>\n",
              "      <td>tensor(17820.7754)</td>\n",
              "      <td>tensor(0.0260)</td>\n",
              "      <td>0</td>\n",
              "    </tr>\n",
              "    <tr>\n",
              "      <th>8</th>\n",
              "      <td>TFF</td>\n",
              "      <td>8</td>\n",
              "      <td>tensor(17817.2363)</td>\n",
              "      <td>tensor(0.0168)</td>\n",
              "      <td>0</td>\n",
              "    </tr>\n",
              "    <tr>\n",
              "      <th>9</th>\n",
              "      <td>TFF</td>\n",
              "      <td>9</td>\n",
              "      <td>tensor(17815.3496)</td>\n",
              "      <td>tensor(0.0111)</td>\n",
              "      <td>0</td>\n",
              "    </tr>\n",
              "    <tr>\n",
              "      <th>10</th>\n",
              "      <td>TFF</td>\n",
              "      <td>10</td>\n",
              "      <td>tensor(17814.2676)</td>\n",
              "      <td>tensor(0.0075)</td>\n",
              "      <td>0</td>\n",
              "    </tr>\n",
              "    <tr>\n",
              "      <th>0</th>\n",
              "      <td>rand</td>\n",
              "      <td>0</td>\n",
              "      <td>tensor(25152.5000)</td>\n",
              "      <td>tensor(3.4242)</td>\n",
              "      <td>0</td>\n",
              "    </tr>\n",
              "    <tr>\n",
              "      <th>1</th>\n",
              "      <td>rand</td>\n",
              "      <td>1</td>\n",
              "      <td>tensor(18276.3281)</td>\n",
              "      <td>tensor(0.8807)</td>\n",
              "      <td>0</td>\n",
              "    </tr>\n",
              "    <tr>\n",
              "      <th>2</th>\n",
              "      <td>rand</td>\n",
              "      <td>2</td>\n",
              "      <td>tensor(18011.7266)</td>\n",
              "      <td>tensor(0.2662)</td>\n",
              "      <td>0</td>\n",
              "    </tr>\n",
              "    <tr>\n",
              "      <th>3</th>\n",
              "      <td>rand</td>\n",
              "      <td>3</td>\n",
              "      <td>tensor(17928.1816)</td>\n",
              "      <td>tensor(0.1060)</td>\n",
              "      <td>0</td>\n",
              "    </tr>\n",
              "    <tr>\n",
              "      <th>4</th>\n",
              "      <td>rand</td>\n",
              "      <td>4</td>\n",
              "      <td>tensor(17902.2949)</td>\n",
              "      <td>tensor(0.0600)</td>\n",
              "      <td>0</td>\n",
              "    </tr>\n",
              "    <tr>\n",
              "      <th>5</th>\n",
              "      <td>rand</td>\n",
              "      <td>5</td>\n",
              "      <td>tensor(17892.8027)</td>\n",
              "      <td>tensor(0.0432)</td>\n",
              "      <td>0</td>\n",
              "    </tr>\n",
              "    <tr>\n",
              "      <th>6</th>\n",
              "      <td>rand</td>\n",
              "      <td>6</td>\n",
              "      <td>tensor(17888.3828)</td>\n",
              "      <td>tensor(0.0359)</td>\n",
              "      <td>0</td>\n",
              "    </tr>\n",
              "    <tr>\n",
              "      <th>7</th>\n",
              "      <td>rand</td>\n",
              "      <td>7</td>\n",
              "      <td>tensor(17885.9141)</td>\n",
              "      <td>tensor(0.0322)</td>\n",
              "      <td>0</td>\n",
              "    </tr>\n",
              "    <tr>\n",
              "      <th>8</th>\n",
              "      <td>rand</td>\n",
              "      <td>8</td>\n",
              "      <td>tensor(17884.3516)</td>\n",
              "      <td>tensor(0.0302)</td>\n",
              "      <td>0</td>\n",
              "    </tr>\n",
              "    <tr>\n",
              "      <th>9</th>\n",
              "      <td>rand</td>\n",
              "      <td>9</td>\n",
              "      <td>tensor(17883.2520)</td>\n",
              "      <td>tensor(0.0290)</td>\n",
              "      <td>0</td>\n",
              "    </tr>\n",
              "    <tr>\n",
              "      <th>10</th>\n",
              "      <td>rand</td>\n",
              "      <td>10</td>\n",
              "      <td>tensor(17882.3945)</td>\n",
              "      <td>tensor(0.0282)</td>\n",
              "      <td>0</td>\n",
              "    </tr>\n",
              "    <tr>\n",
              "      <th>0</th>\n",
              "      <td>TFF</td>\n",
              "      <td>0</td>\n",
              "      <td>tensor(18226.0176)</td>\n",
              "      <td>tensor(0.5255)</td>\n",
              "      <td>1</td>\n",
              "    </tr>\n",
              "    <tr>\n",
              "      <th>1</th>\n",
              "      <td>TFF</td>\n",
              "      <td>1</td>\n",
              "      <td>tensor(18151.5117)</td>\n",
              "      <td>tensor(0.4818)</td>\n",
              "      <td>1</td>\n",
              "    </tr>\n",
              "    <tr>\n",
              "      <th>2</th>\n",
              "      <td>TFF</td>\n",
              "      <td>2</td>\n",
              "      <td>tensor(18129.5898)</td>\n",
              "      <td>tensor(0.4479)</td>\n",
              "      <td>1</td>\n",
              "    </tr>\n",
              "    <tr>\n",
              "      <th>3</th>\n",
              "      <td>TFF</td>\n",
              "      <td>3</td>\n",
              "      <td>tensor(18113.5254)</td>\n",
              "      <td>tensor(0.4096)</td>\n",
              "      <td>1</td>\n",
              "    </tr>\n",
              "    <tr>\n",
              "      <th>4</th>\n",
              "      <td>TFF</td>\n",
              "      <td>4</td>\n",
              "      <td>tensor(18095.9141)</td>\n",
              "      <td>tensor(0.3640)</td>\n",
              "      <td>1</td>\n",
              "    </tr>\n",
              "    <tr>\n",
              "      <th>5</th>\n",
              "      <td>TFF</td>\n",
              "      <td>5</td>\n",
              "      <td>tensor(18074.5996)</td>\n",
              "      <td>tensor(0.3106)</td>\n",
              "      <td>1</td>\n",
              "    </tr>\n",
              "    <tr>\n",
              "      <th>6</th>\n",
              "      <td>TFF</td>\n",
              "      <td>6</td>\n",
              "      <td>tensor(18049.6328)</td>\n",
              "      <td>tensor(0.2522)</td>\n",
              "      <td>1</td>\n",
              "    </tr>\n",
              "    <tr>\n",
              "      <th>7</th>\n",
              "      <td>TFF</td>\n",
              "      <td>7</td>\n",
              "      <td>tensor(18022.6602)</td>\n",
              "      <td>tensor(0.1951)</td>\n",
              "      <td>1</td>\n",
              "    </tr>\n",
              "    <tr>\n",
              "      <th>8</th>\n",
              "      <td>TFF</td>\n",
              "      <td>8</td>\n",
              "      <td>tensor(17996.0625)</td>\n",
              "      <td>tensor(0.1449)</td>\n",
              "      <td>1</td>\n",
              "    </tr>\n",
              "    <tr>\n",
              "      <th>9</th>\n",
              "      <td>TFF</td>\n",
              "      <td>9</td>\n",
              "      <td>tensor(17971.8477)</td>\n",
              "      <td>tensor(0.1048)</td>\n",
              "      <td>1</td>\n",
              "    </tr>\n",
              "    <tr>\n",
              "      <th>10</th>\n",
              "      <td>TFF</td>\n",
              "      <td>10</td>\n",
              "      <td>tensor(17951.0293)</td>\n",
              "      <td>tensor(0.0747)</td>\n",
              "      <td>1</td>\n",
              "    </tr>\n",
              "    <tr>\n",
              "      <th>0</th>\n",
              "      <td>rand</td>\n",
              "      <td>0</td>\n",
              "      <td>tensor(27525.4902)</td>\n",
              "      <td>tensor(5.1255)</td>\n",
              "      <td>1</td>\n",
              "    </tr>\n",
              "    <tr>\n",
              "      <th>1</th>\n",
              "      <td>rand</td>\n",
              "      <td>1</td>\n",
              "      <td>tensor(18269.5293)</td>\n",
              "      <td>tensor(2.4976)</td>\n",
              "      <td>1</td>\n",
              "    </tr>\n",
              "    <tr>\n",
              "      <th>2</th>\n",
              "      <td>rand</td>\n",
              "      <td>2</td>\n",
              "      <td>tensor(18030.9707)</td>\n",
              "      <td>tensor(0.7055)</td>\n",
              "      <td>1</td>\n",
              "    </tr>\n",
              "    <tr>\n",
              "      <th>3</th>\n",
              "      <td>rand</td>\n",
              "      <td>3</td>\n",
              "      <td>tensor(17944.9648)</td>\n",
              "      <td>tensor(0.2341)</td>\n",
              "      <td>1</td>\n",
              "    </tr>\n",
              "    <tr>\n",
              "      <th>4</th>\n",
              "      <td>rand</td>\n",
              "      <td>4</td>\n",
              "      <td>tensor(17910.8281)</td>\n",
              "      <td>tensor(0.0854)</td>\n",
              "      <td>1</td>\n",
              "    </tr>\n",
              "    <tr>\n",
              "      <th>5</th>\n",
              "      <td>rand</td>\n",
              "      <td>5</td>\n",
              "      <td>tensor(17896.4824)</td>\n",
              "      <td>tensor(0.0342)</td>\n",
              "      <td>1</td>\n",
              "    </tr>\n",
              "    <tr>\n",
              "      <th>6</th>\n",
              "      <td>rand</td>\n",
              "      <td>6</td>\n",
              "      <td>tensor(17890.1055)</td>\n",
              "      <td>tensor(0.0154)</td>\n",
              "      <td>1</td>\n",
              "    </tr>\n",
              "    <tr>\n",
              "      <th>7</th>\n",
              "      <td>rand</td>\n",
              "      <td>7</td>\n",
              "      <td>tensor(17887.1113)</td>\n",
              "      <td>tensor(0.0080)</td>\n",
              "      <td>1</td>\n",
              "    </tr>\n",
              "    <tr>\n",
              "      <th>8</th>\n",
              "      <td>rand</td>\n",
              "      <td>8</td>\n",
              "      <td>tensor(17885.6211)</td>\n",
              "      <td>tensor(0.0050)</td>\n",
              "      <td>1</td>\n",
              "    </tr>\n",
              "    <tr>\n",
              "      <th>9</th>\n",
              "      <td>rand</td>\n",
              "      <td>9</td>\n",
              "      <td>tensor(17884.8379)</td>\n",
              "      <td>tensor(0.0036)</td>\n",
              "      <td>1</td>\n",
              "    </tr>\n",
              "    <tr>\n",
              "      <th>10</th>\n",
              "      <td>rand</td>\n",
              "      <td>10</td>\n",
              "      <td>tensor(17884.4023)</td>\n",
              "      <td>tensor(0.0030)</td>\n",
              "      <td>1</td>\n",
              "    </tr>\n",
              "  </tbody>\n",
              "</table>\n",
              "</div>"
            ]
          },
          "metadata": {},
          "execution_count": 289
        }
      ]
    },
    {
      "cell_type": "code",
      "source": [
        "W_curr = W_init.T\n",
        "Phi_curr = Phi_init\n",
        "for i in range(50):\n",
        "    W_next, Phi_next = micca_model.EM_step_stable(W_curr, Phi_curr, Y_all, Sigma_tilde, p = p)\n",
        "    # W_next, Phi_next = micca_model.EM_step(W_curr, Phi_curr, Sigma_tilde, p = p)\n",
        "    delta_W = torch.sum((W_curr - W_next)**2)\n",
        "    delta_Phi = torch.sum((Phi_curr - Phi_next)**2)\n",
        "    W_curr = W_next\n",
        "    Phi_curr = Phi_next\n",
        "    if (i%1 == 0): \n",
        "        print(i, delta_W, delta_Phi, micca_model.loglik(W_curr.T @ W_curr + Phi_curr, Sigma_tilde, n))\n",
        "W_hat = W_curr\n",
        "Phi_hat = Phi_curr"
      ],
      "metadata": {
        "colab": {
          "base_uri": "https://localhost:8080/"
        },
        "id": "234SInON0Xva",
        "outputId": "03a107b7-c844-46b6-fe3e-f358e2762743"
      },
      "id": "234SInON0Xva",
      "execution_count": 242,
      "outputs": [
        {
          "output_type": "stream",
          "name": "stdout",
          "text": [
            "0 tensor(4.8433) tensor(0.5829) tensor(16818.5996)\n",
            "1 tensor(0.7213) tensor(3.9082) tensor(16466.1191)\n",
            "2 tensor(0.2684) tensor(3.4604) tensor(16177.3623)\n",
            "3 tensor(0.0862) tensor(1.2911) tensor(16016.0254)\n",
            "4 tensor(0.0301) tensor(0.3145) tensor(15953.2148)\n",
            "5 tensor(0.0129) tensor(0.0774) tensor(15930.6514)\n",
            "6 tensor(0.0065) tensor(0.0249) tensor(15920.9766)\n",
            "7 tensor(0.0035) tensor(0.0106) tensor(15915.8799)\n",
            "8 tensor(0.0021) tensor(0.0053) tensor(15912.8262)\n",
            "9 tensor(0.0013) tensor(0.0028) tensor(15910.8584)\n",
            "10 tensor(0.0008) tensor(0.0016) tensor(15909.5215)\n",
            "11 tensor(0.0005) tensor(0.0009) tensor(15908.5850)\n",
            "12 tensor(0.0004) tensor(0.0006) tensor(15907.9072)\n",
            "13 tensor(0.0003) tensor(0.0004) tensor(15907.4111)\n",
            "14 tensor(0.0002) tensor(0.0002) tensor(15907.0420)\n",
            "15 tensor(0.0001) tensor(0.0002) tensor(15906.7607)\n",
            "16 tensor(9.9971e-05) tensor(0.0001) tensor(15906.5488)\n",
            "17 tensor(7.4115e-05) tensor(8.6282e-05) tensor(15906.3857)\n",
            "18 tensor(5.5320e-05) tensor(6.3969e-05) tensor(15906.2578)\n",
            "19 tensor(4.1530e-05) tensor(4.8221e-05) tensor(15906.1602)\n",
            "20 tensor(3.1313e-05) tensor(3.6841e-05) tensor(15906.0820)\n",
            "21 tensor(2.3702e-05) tensor(2.8437e-05) tensor(15906.0215)\n",
            "22 tensor(1.8007e-05) tensor(2.2156e-05) tensor(15905.9717)\n",
            "23 tensor(1.3720e-05) tensor(1.7388e-05) tensor(15905.9336)\n",
            "24 tensor(1.0479e-05) tensor(1.3732e-05) tensor(15905.9014)\n",
            "25 tensor(8.0200e-06) tensor(1.0900e-05) tensor(15905.8760)\n",
            "26 tensor(6.1529e-06) tensor(8.6866e-06) tensor(15905.8574)\n",
            "27 tensor(4.7286e-06) tensor(6.9475e-06) tensor(15905.8379)\n",
            "28 tensor(3.6427e-06) tensor(5.5742e-06) tensor(15905.8242)\n",
            "29 tensor(2.8082e-06) tensor(4.4810e-06) tensor(15905.8135)\n",
            "30 tensor(2.1687e-06) tensor(3.6147e-06) tensor(15905.8037)\n",
            "31 tensor(1.6796e-06) tensor(2.9179e-06) tensor(15905.7939)\n",
            "32 tensor(1.3008e-06) tensor(2.3654e-06) tensor(15905.7881)\n",
            "33 tensor(1.0096e-06) tensor(1.9149e-06) tensor(15905.7822)\n",
            "34 tensor(7.8530e-07) tensor(1.5554e-06) tensor(15905.7793)\n",
            "35 tensor(6.1162e-07) tensor(1.2642e-06) tensor(15905.7744)\n",
            "36 tensor(4.7640e-07) tensor(1.0301e-06) tensor(15905.7715)\n",
            "37 tensor(3.7124e-07) tensor(8.3891e-07) tensor(15905.7686)\n",
            "38 tensor(2.9043e-07) tensor(6.8261e-07) tensor(15905.7656)\n",
            "39 tensor(2.2769e-07) tensor(5.5817e-07) tensor(15905.7627)\n",
            "40 tensor(1.7800e-07) tensor(4.5639e-07) tensor(15905.7617)\n",
            "41 tensor(1.3956e-07) tensor(3.7287e-07) tensor(15905.7598)\n",
            "42 tensor(1.0998e-07) tensor(3.0442e-07) tensor(15905.7578)\n",
            "43 tensor(8.6474e-08) tensor(2.4936e-07) tensor(15905.7568)\n",
            "44 tensor(6.8146e-08) tensor(2.0388e-07) tensor(15905.7559)\n",
            "45 tensor(5.3652e-08) tensor(1.6753e-07) tensor(15905.7549)\n",
            "46 tensor(4.2408e-08) tensor(1.3685e-07) tensor(15905.7539)\n",
            "47 tensor(3.3532e-08) tensor(1.1260e-07) tensor(15905.7529)\n",
            "48 tensor(2.6496e-08) tensor(9.2369e-08) tensor(15905.7529)\n",
            "49 tensor(2.1047e-08) tensor(7.5822e-08) tensor(15905.7510)\n"
          ]
        }
      ]
    },
    {
      "cell_type": "code",
      "execution_count": 234,
      "id": "87089e41-9e8d-4c76-9123-270cc98a3976",
      "metadata": {
        "colab": {
          "base_uri": "https://localhost:8080/"
        },
        "id": "87089e41-9e8d-4c76-9123-270cc98a3976",
        "outputId": "1cb473b7-9483-40c9-9aaa-cfda5c0e2cd3"
      },
      "outputs": [
        {
          "output_type": "stream",
          "name": "stdout",
          "text": [
            "tensor(18212.1719)\n",
            "0 tensor(3.6747) tensor(24.4191) tensor(16615.0605)\n",
            "1 tensor(0.3235) tensor(1.6082) tensor(16318.5830)\n",
            "2 tensor(0.1831) tensor(0.9433) tensor(16127.7695)\n",
            "3 tensor(0.0927) tensor(0.4386) tensor(16025.1221)\n",
            "4 tensor(0.0400) tensor(0.1851) tensor(15977.3301)\n",
            "5 tensor(0.0172) tensor(0.0833) tensor(15953.7529)\n",
            "6 tensor(0.0086) tensor(0.0456) tensor(15940.0674)\n",
            "7 tensor(0.0052) tensor(0.0302) tensor(15931.1562)\n",
            "8 tensor(0.0036) tensor(0.0220) tensor(15925.0459)\n",
            "9 tensor(0.0026) tensor(0.0165) tensor(15920.7588)\n",
            "10 tensor(0.0019) tensor(0.0125) tensor(15917.7021)\n",
            "11 tensor(0.0014) tensor(0.0095) tensor(15915.4775)\n",
            "12 tensor(0.0010) tensor(0.0072) tensor(15913.8203)\n",
            "13 tensor(0.0008) tensor(0.0055) tensor(15912.5498)\n",
            "14 tensor(0.0006) tensor(0.0043) tensor(15911.5391)\n",
            "15 tensor(0.0005) tensor(0.0035) tensor(15910.7168)\n",
            "16 tensor(0.0004) tensor(0.0029) tensor(15910.0225)\n",
            "17 tensor(0.0003) tensor(0.0024) tensor(15909.4277)\n",
            "18 tensor(0.0003) tensor(0.0021) tensor(15908.9072)\n",
            "19 tensor(0.0002) tensor(0.0018) tensor(15908.4531)\n",
            "20 tensor(0.0002) tensor(0.0016) tensor(15908.0527)\n",
            "21 tensor(0.0002) tensor(0.0014) tensor(15907.7012)\n",
            "22 tensor(0.0001) tensor(0.0012) tensor(15907.3965)\n",
            "23 tensor(0.0001) tensor(0.0011) tensor(15907.1309)\n",
            "24 tensor(0.0001) tensor(0.0009) tensor(15906.9023)\n",
            "25 tensor(9.6750e-05) tensor(0.0008) tensor(15906.7080)\n",
            "26 tensor(8.3212e-05) tensor(0.0007) tensor(15906.5420)\n",
            "27 tensor(7.1081e-05) tensor(0.0006) tensor(15906.4023)\n",
            "28 tensor(6.0290e-05) tensor(0.0005) tensor(15906.2861)\n",
            "29 tensor(5.0792e-05) tensor(0.0004) tensor(15906.1895)\n",
            "30 tensor(4.2527e-05) tensor(0.0004) tensor(15906.1094)\n",
            "31 tensor(3.5411e-05) tensor(0.0003) tensor(15906.0439)\n",
            "32 tensor(2.9334e-05) tensor(0.0003) tensor(15905.9883)\n",
            "33 tensor(2.4210e-05) tensor(0.0002) tensor(15905.9453)\n",
            "34 tensor(1.9898e-05) tensor(0.0002) tensor(15905.9082)\n",
            "35 tensor(1.6311e-05) tensor(0.0001) tensor(15905.8799)\n",
            "36 tensor(1.3338e-05) tensor(0.0001) tensor(15905.8564)\n",
            "37 tensor(1.0886e-05) tensor(9.2776e-05) tensor(15905.8350)\n",
            "38 tensor(8.8701e-06) tensor(7.5533e-05) tensor(15905.8213)\n",
            "39 tensor(7.2214e-06) tensor(6.1425e-05) tensor(15905.8076)\n",
            "40 tensor(5.8722e-06) tensor(4.9886e-05) tensor(15905.7959)\n",
            "41 tensor(4.7754e-06) tensor(4.0506e-05) tensor(15905.7881)\n",
            "42 tensor(3.8807e-06) tensor(3.2871e-05) tensor(15905.7812)\n",
            "43 tensor(3.1531e-06) tensor(2.6668e-05) tensor(15905.7754)\n",
            "44 tensor(2.5623e-06) tensor(2.1627e-05) tensor(15905.7715)\n",
            "45 tensor(2.0828e-06) tensor(1.7550e-05) tensor(15905.7676)\n",
            "46 tensor(1.6927e-06) tensor(1.4240e-05) tensor(15905.7637)\n",
            "47 tensor(1.3766e-06) tensor(1.1557e-05) tensor(15905.7607)\n",
            "48 tensor(1.1195e-06) tensor(9.3847e-06) tensor(15905.7588)\n",
            "49 tensor(9.1006e-07) tensor(7.6136e-06) tensor(15905.7568)\n"
          ]
        }
      ],
      "source": [
        "std_normal = torch.distributions.Normal(0, 1)\n",
        "W_curr = std_normal.sample([d, sum(p)])\n",
        "Phi_curr = torch.eye(sum(p))\n",
        "\n",
        "print(micca_model.loglik(Sigma_tilde, W_curr.T @ W_curr + Phi_curr, n))\n",
        "\n",
        "for i in range(50):\n",
        "    W_next, Phi_next = micca_model.EM_step_stable(W_curr, Phi_curr, Y_all, Sigma_tilde, p = p)\n",
        "    # W_next, Phi_next = micca_model.EM_step(W_curr, Phi_curr, Sigma_tilde, p = p)\n",
        "    delta_W = torch.sum((W_curr - W_next)**2)\n",
        "    delta_Phi = torch.sum((Phi_curr - Phi_next)**2)\n",
        "    W_curr = W_next\n",
        "    Phi_curr = Phi_next\n",
        "    if (i%1 == 0): \n",
        "        print(i, delta_W, delta_Phi, micca_model.loglik(W_curr.T @ W_curr + Phi_curr, Sigma_tilde, n))\n",
        "W_hat = W_curr\n",
        "Phi_hat = Phi_curr"
      ]
    },
    {
      "cell_type": "code",
      "execution_count": null,
      "id": "e777f9b2-61a1-4a58-8695-29344d1fd0c5",
      "metadata": {
        "id": "e777f9b2-61a1-4a58-8695-29344d1fd0c5",
        "outputId": "cafac03b-35a3-41f9-89a9-39f762142976"
      },
      "outputs": [
        {
          "name": "stdout",
          "output_type": "stream",
          "text": [
            "tensor(16560.0234)\n",
            "tensor(16559.8652)\n"
          ]
        }
      ],
      "source": [
        "W1 = W_hat[:, psum[0]:psum[1]]\n",
        "W2 = W_hat[:, psum[1]:psum[2]]\n",
        "W3 = W_hat[:, psum[2]:psum[3]]\n",
        "\n",
        "W1_tilde = W1 @ S11_inv2\n",
        "W2_tilde = W2 @ S22_inv2\n",
        "W3_tilde = W3 @ S33_inv2\n",
        "\n",
        "# The original conjecture in terms of SVD of W_tilde\n",
        "B1, S1, A1T = torch.linalg.svd(W1_tilde, full_matrices=False)\n",
        "B2, S2, A2T = torch.linalg.svd(W2_tilde, full_matrices=False)\n",
        "B3, S3, A3T = torch.linalg.svd(W3_tilde, full_matrices=False)\n",
        "F1 = S11_inv2 @ A1T.T\n",
        "F2 = S22_inv2 @ A2T.T\n",
        "F3 = S33_inv2 @ A3T.T\n",
        "\n",
        "model_cov_1 = torch.cat([torch.cat([S11, W1.T @ W2, W1.T @ W3], axis = 1),\n",
        "                         torch.cat([W2.T @ W1, S22, W2.T @ W3], axis = 1),\n",
        "                         torch.cat([W3.T @ W1, W3.T @ W2, S33], axis = 1)], axis = 0)\n",
        "model_cov_2 = torch.cat([torch.cat([torch.eye(p[0]), W1_tilde.T @ W2_tilde, W1_tilde.T @ W3_tilde], axis = 1),\n",
        "                         torch.cat([W2_tilde.T @ W1_tilde, torch.eye(p[1]), W2_tilde.T @ W3_tilde], axis = 1),\n",
        "                         torch.cat([W3_tilde.T @ W1_tilde, W3_tilde.T @ W2_tilde, torch.eye(p[2])], axis = 1)], axis = 0)\n",
        "gen_var = torch.cat([torch.cat([F1.T @ S11 @ F1, F1.T @ S12 @ F2, F1.T @ S13 @ F3], axis = 1),\n",
        "                     torch.cat([(F1.T @ S12 @ F2).T, F2.T @ S22 @ F2, F2.T @ S23 @ F3], axis = 1),\n",
        "                     torch.cat([(F1.T @ S13 @ F3).T, (F2.T @ S23 @ F3).T, F3.T @ S33 @ F3], axis = 1)], axis = 0)\n",
        "gen_var_2 = torch.cat([torch.cat([torch.eye(p[0]), A1T.T @ F1.T @ S12 @ F2 @ A2T, A1T.T @ F1.T @ S13 @ F3 @ A3T], axis = 1),\n",
        "                       torch.cat([(A1T.T @ F1.T @ S12 @ F2 @ A2T).T, torch.eye(p[1]), A2T.T @ F2.T @ S23 @ F3 @ A3T], axis = 1),\n",
        "                       torch.cat([(A1T.T @ F1.T @ S13 @ F3 @ A3T).T, (A2T.T @ F2.T @ S23 @ F3 @ A3T).T, torch.eye(p[1])], axis = 1)], axis = 0)\n",
        "\n",
        "D_half = torch.block_diag(sqrtm(S11), sqrtm(S22), sqrtm(S33))\n",
        "\n",
        "Sigma_alt = D_half @ gen_var_2 @ D_half\n",
        "print(micca_model.loglik(model_cov_1, Sigma_tilde, n))\n",
        "print(micca_model.loglik(Sigma_alt, Sigma_tilde, n))\n",
        "# print(micca_model.loglik(W_ml.T @ W_ml + Phi_ml, Sigma_tilde, n))\n",
        "\n",
        "# a1 = (W1_tilde.T/torch.sqrt(torch.sum(W1_tilde**2, 1)))\n",
        "# a2 = (W2_tilde.T/torch.sqrt(torch.sum(W2_tilde**2, 1)))\n",
        "# a3 = (W3_tilde.T/torch.sqrt(torch.sum(W3_tilde**2, 1)))\n",
        "# f1 = S11_inv2 @ a1\n",
        "# f2 = S22_inv2 @ a2\n",
        "# f3 = S33_inv2 @ a3\n",
        "\n",
        "# Phi_test = torch.cat([torch.cat([f1.T @ S11 @ f1, f1.T @ S12 @ f2, f1.T @ S13 @ f3], axis = 1),\n",
        "#                  torch.cat([(f1.T @ S12 @ f2).T, f2.T @ S22 @ f2, f2.T @ S23 @ f3], axis = 1),\n",
        "#                  torch.cat([(f1.T @ S13 @ f3).T, (f2.T @ S23 @ f3).T, f3.T @ S33 @ f3], axis = 1)], axis = 0)\n",
        "# print(torch.logdet(Phi_test))\n",
        "\n",
        "# f1_1 = F1[:, 0:1]\n",
        "# f2_1 = F2[:, 0:1]\n",
        "# f3_1 = F3[:, 0:1]\n",
        "# f1_2 = F1[:, 1:2]\n",
        "# f2_2 = F2[:, 1:2]\n",
        "# f3_2 = F3[:, 0:1]\n",
        "\n",
        "# Phi_1 = torch.tensor([[f1_1.T @ S11 @ f1_1, f1_1.T @ S12 @ f2_1, f1_1.T @ S13 @ f3_1],\n",
        "#                       [f1_1.T @ S12 @ f2_1, f2_1.T @ S22 @ f2_1, f2_1.T @ S23 @ f3_1],\n",
        "#                       [f1_1.T @ S13 @ f3_1, f2_1.T @ S23 @ f3_1, f3_1.T @ S33 @ f3_1]])\n",
        "# Phi_2 = torch.tensor([[f1_2.T @ S11 @ f1_2, f1_2.T @ S12 @ f2_2, f1_2.T @ S13 @ f3_2],\n",
        "#                       [f1_2.T @ S12 @ f2_2, f2_2.T @ S22 @ f2_2, f2_2.T @ S23 @ f3_2],\n",
        "#                       [f1_2.T @ S13 @ f3_2, f2_2.T @ S23 @ f3_2, f3_2.T @ S33 @ f3_2]])\n",
        "# print(torch.logdet(Phi_1) + torch.logdet(Phi_2))"
      ]
    },
    {
      "cell_type": "code",
      "execution_count": null,
      "id": "af1820eb-3399-452d-a8a4-be1d4fd7f9a0",
      "metadata": {
        "id": "af1820eb-3399-452d-a8a4-be1d4fd7f9a0",
        "outputId": "b2c53fa0-0fae-40c3-b9cd-9723e9d087dd"
      },
      "outputs": [
        {
          "name": "stdout",
          "output_type": "stream",
          "text": [
            "tensor([[ 0.7558,  0.0086],\n",
            "        [-0.0226,  0.0446]])\n",
            "tensor([[ 0.6551,  2.1239, -0.5474],\n",
            "        [ 1.6988,  6.5813, -2.0663],\n",
            "        [-0.3463, -2.2200,  1.1871]])\n"
          ]
        }
      ],
      "source": [
        "X12 = F1.T @ S12 @ F2\n",
        "X13 = F1.T @ S13 @ F3\n",
        "X23 = F2.T @ S23 @ F3\n",
        "\n",
        "print(X13 @ torch.linalg.inv(X23) @ X12.T)\n",
        "print(S13 @ torch.linalg.inv(S23) @ S12.T)"
      ]
    },
    {
      "cell_type": "code",
      "execution_count": null,
      "id": "af390b9f-c6d7-4b34-9788-14c297711b92",
      "metadata": {
        "id": "af390b9f-c6d7-4b34-9788-14c297711b92",
        "outputId": "b65b46c1-42e5-4192-e856-927d1aad3a5d"
      },
      "outputs": [
        {
          "data": {
            "text/plain": [
              "tensor([[-0.1758, -0.0060,  0.0444],\n",
              "        [-0.6352, -0.0407,  0.0311],\n",
              "        [ 0.0767,  0.0270,  0.1450]])"
            ]
          },
          "execution_count": 15,
          "metadata": {},
          "output_type": "execute_result"
        }
      ],
      "source": [
        "W1_tilde.T @ W2_tilde"
      ]
    },
    {
      "cell_type": "code",
      "execution_count": null,
      "id": "9d79e82a-f086-4932-b9cf-687ff09a90b7",
      "metadata": {
        "id": "9d79e82a-f086-4932-b9cf-687ff09a90b7",
        "outputId": "00da02e6-dc01-4dd6-a886-3ee3e9c7daf4"
      },
      "outputs": [
        {
          "data": {
            "text/plain": [
              "tensor([[-0.1768, -0.0059,  0.0453],\n",
              "        [-0.6349, -0.0408,  0.0308],\n",
              "        [ 0.0723,  0.0273,  0.1490]])"
            ]
          },
          "execution_count": 19,
          "metadata": {},
          "output_type": "execute_result"
        }
      ],
      "source": [
        "A1T.T @ F1.T @ S12 @ F2 @ A2T"
      ]
    },
    {
      "cell_type": "code",
      "execution_count": null,
      "id": "84bcf449-5b45-4c59-8aa7-280236dab989",
      "metadata": {
        "id": "84bcf449-5b45-4c59-8aa7-280236dab989",
        "outputId": "d276fbf4-50ea-4d9a-884c-91f9966c22f2"
      },
      "outputs": [
        {
          "name": "stdout",
          "output_type": "stream",
          "text": [
            "tensor([[ 7.6278e-01, -3.7253e-08],\n",
            "        [-2.9802e-08,  3.8986e-02]])\n"
          ]
        }
      ],
      "source": [
        "X12 = (B1*S1).T @ (B2*S2)\n",
        "X13 = (B1*S1).T @ (B3*S3)\n",
        "X23 = (B2*S2).T @ (B3*S3)\n",
        "print(X13 @ torch.linalg.inv(X23) @ X12.T)"
      ]
    },
    {
      "cell_type": "code",
      "execution_count": null,
      "id": "7fe1a6e7-81d5-4400-adfd-df29ba7e2536",
      "metadata": {
        "id": "7fe1a6e7-81d5-4400-adfd-df29ba7e2536",
        "outputId": "eec7edce-9c9e-46f6-dce5-bbad81eae502"
      },
      "outputs": [
        {
          "data": {
            "text/plain": [
              "tensor([[-2.1039e-02,  1.9578e-03],\n",
              "        [ 5.2834e-03,  4.2273e-06],\n",
              "        [-5.4943e-03,  7.0994e-03]])"
            ]
          },
          "execution_count": 30,
          "metadata": {},
          "output_type": "execute_result"
        }
      ],
      "source": [
        "(C12_tilde - W1_tilde.T @ W2_tilde) @ W2_tilde.T @ torch.linalg.inv(1 - W2_tilde @ W2_tilde.T) + (C13_tilde - W1_tilde.T @ W3_tilde) @ W3_tilde.T @ torch.linalg.inv(1 - W3_tilde @ W3_tilde.T) "
      ]
    },
    {
      "cell_type": "code",
      "execution_count": null,
      "id": "a62b63c1-8fa3-4f5c-9f0d-2f81f1b5033c",
      "metadata": {
        "id": "a62b63c1-8fa3-4f5c-9f0d-2f81f1b5033c",
        "outputId": "02401812-3a2e-4ee9-fbdb-8a68ebe3d4b9"
      },
      "outputs": [
        {
          "name": "stdout",
          "output_type": "stream",
          "text": [
            "tensor(5.6074) tensor(198.7069)\n",
            "tensor(2.5940e-13) tensor(2.6059e-12)\n",
            "tensor(4.0307e-13) tensor(3.2738e-12)\n",
            "tensor(1.4144e-13) tensor(2.1565e-12)\n",
            "tensor(2.6096e-13) tensor(3.6895e-12)\n",
            "tensor(1.7221e-13) tensor(3.4053e-12)\n",
            "tensor(2.7124e-13) tensor(2.6361e-12)\n",
            "tensor(5.7988e-13) tensor(3.0287e-12)\n",
            "tensor(8.5998e-13) tensor(6.4349e-12)\n",
            "tensor(1.6333e-13) tensor(1.0418e-12)\n",
            "tensor(1.8658) tensor(190.4414)\n",
            "tensor(1.0515e-13) tensor(5.3042e-12)\n",
            "tensor(7.8618e-14) tensor(1.2399e-12)\n",
            "tensor(1.1841e-13) tensor(1.7657e-12)\n",
            "tensor(3.3973e-13) tensor(3.0784e-12)\n",
            "tensor(1.2258e-13) tensor(2.1245e-12)\n",
            "tensor(1.9851e-13) tensor(1.7568e-12)\n",
            "tensor(7.8143e-13) tensor(1.6378e-12)\n",
            "tensor(1.2834e-13) tensor(3.3129e-12)\n",
            "tensor(1.0626e-13) tensor(7.1765e-13)\n"
          ]
        }
      ],
      "source": [
        "# Fit 1-D once\n",
        "std_normal = torch.distributions.Normal(0, 1)\n",
        "W_curr = std_normal.sample([1, sum(p)])\n",
        "Phi_curr = torch.eye(sum(p))\n",
        "for i in range(10000):\n",
        "    W_next, Phi_next = micca_model.EM_step_stable(W_curr, Phi_curr, Y_all, Sigma_tilde, p = p, rcond=None)\n",
        "    delta_W = torch.sum((W_curr - W_next)**2)\n",
        "    delta_Phi = torch.sum((Phi_curr - Phi_next)**2)\n",
        "    W_curr = W_next\n",
        "    Phi_curr = Phi_next\n",
        "    if (i%1000 == 0): print(delta_W, delta_Phi)\n",
        "W_hat = W_curr\n",
        "Phi_hat = Phi_curr\n",
        "W1 = W_hat[:, psum[0]:psum[1]]\n",
        "W2 = W_hat[:, psum[1]:psum[2]]\n",
        "W3 = W_hat[:, psum[2]:psum[3]]\n",
        "\n",
        "# Project out learned space and fit again\n",
        "W1_tilde = W1 @ S11_inv2\n",
        "W2_tilde = W2 @ S22_inv2\n",
        "W3_tilde = W3 @ S33_inv2\n",
        "a1 = (W1_tilde / torch.sqrt(torch.sum(W1_tilde**2))).T\n",
        "a2 = (W2_tilde / torch.sqrt(torch.sum(W2_tilde**2))).T\n",
        "a3 = (W3_tilde / torch.sqrt(torch.sum(W3_tilde**2))).T\n",
        "f1_1 = S11_inv2 @ a1\n",
        "f2_1 = S22_inv2 @ a2\n",
        "f3_1 = S33_inv2 @ a3\n",
        "P1 = torch.eye(p[0]) - f1_1 @ f1_1.T @ S11\n",
        "P2 = torch.eye(p[1]) - f2_1 @ f2_1.T @ S22\n",
        "P3 = torch.eye(p[2]) - f3_1 @ f3_1.T @ S33\n",
        "Y_mod = [Y[0] @ P1, Y[1] @ P2, Y[2] @ P3]\n",
        "Y_mod = [Y - torch.mean(Y, 0) for Y in Y_mod]\n",
        "Y_mod_all = torch.cat(Y_mod, dim = 1)\n",
        "S11_mod = (Y_mod[0].T @ Y_mod[0])/(n-1)\n",
        "S22_mod = (Y_mod[1].T @ Y_mod[1])/(n-1)\n",
        "S33_mod = (Y_mod[2].T @ Y_mod[2])/(n-1)\n",
        "S12_mod = (Y_mod[0].T @ Y_mod[1])/(n-1)\n",
        "S13_mod = (Y_mod[0].T @ Y_mod[2])/(n-1)\n",
        "S23_mod = (Y_mod[1].T @ Y_mod[2])/(n-1)\n",
        "S11_inv2_mod = sqrtm(torch.linalg.pinv(S11_mod, rcond = 1e-06))\n",
        "S22_inv2_mod = sqrtm(torch.linalg.pinv(S22_mod, rcond = 1e-06))\n",
        "S33_inv2_mod = sqrtm(torch.linalg.pinv(S33_mod, rcond = 1e-06))\n",
        "Sigma_tilde_mod = (Y_mod_all.T @ Y_mod_all) / (n - 1)\n",
        "\n",
        "std_normal = torch.distributions.Normal(0, 1)\n",
        "W_curr = std_normal.sample([1, sum(p)])\n",
        "Phi_curr = torch.eye(sum(p))\n",
        "for i in range(10000):\n",
        "    W_next, Phi_next = micca_model.EM_step_stable(W_curr, Phi_curr, Y_mod_all, Sigma_tilde, p = p, rcond = None)\n",
        "    delta_W = torch.sum((W_curr - W_next)**2)\n",
        "    delta_Phi = torch.sum((Phi_curr - Phi_next)**2)\n",
        "    W_curr = W_next\n",
        "    Phi_curr = Phi_next\n",
        "    if (i%1000 == 0): print(delta_W, delta_Phi)\n",
        "W_hat = W_curr\n",
        "Phi_hat = Phi_curr\n",
        "W1 = W_hat[:, psum[0]:psum[1]]\n",
        "W2 = W_hat[:, psum[1]:psum[2]]\n",
        "W3 = W_hat[:, psum[2]:psum[3]]\n",
        "W1_tilde = W1 @ S11_inv2_mod\n",
        "W2_tilde = W2 @ S22_inv2_mod\n",
        "W3_tilde = W3 @ S33_inv2_mod\n",
        "a1 = (W1_tilde / torch.sqrt(torch.sum(W1_tilde**2))).T\n",
        "a2 = (W2_tilde / torch.sqrt(torch.sum(W2_tilde**2))).T\n",
        "a3 = (W3_tilde / torch.sqrt(torch.sum(W3_tilde**2))).T\n",
        "f1_2 = S11_inv2_mod @ a1\n",
        "f2_2 = S22_inv2_mod @ a2\n",
        "f3_2 = S33_inv2_mod @ a3"
      ]
    },
    {
      "cell_type": "code",
      "execution_count": null,
      "id": "84749d03-fb37-4500-8504-3fb7812a59f9",
      "metadata": {
        "id": "84749d03-fb37-4500-8504-3fb7812a59f9",
        "outputId": "3d8c4cc0-32b5-4bb2-e7d4-32702a9247cd"
      },
      "outputs": [
        {
          "name": "stdout",
          "output_type": "stream",
          "text": [
            "tensor(-2.6776)\n"
          ]
        }
      ],
      "source": [
        "Phi_1 = torch.tensor([[f1_1.T @ S11 @ f1_1, f1_1.T @ S12 @ f2_1, f1_1.T @ S13 @ f3_1],\n",
        "                      [f1_1.T @ S12 @ f2_1, f2_1.T @ S22 @ f2_1, f2_1.T @ S23 @ f3_1],\n",
        "                      [f1_1.T @ S13 @ f3_1, f2_1.T @ S23 @ f3_1, f3_1.T @ S33 @ f3_1]])\n",
        "Phi_2 = torch.tensor([[f1_2.T @ S11_mod @ f1_2, f1_2.T @ S12_mod @ f2_2, f1_2.T @ S13_mod @ f3_2],\n",
        "                      [f1_2.T @ S12_mod @ f2_2, f2_2.T @ S22_mod @ f2_2, f2_2.T @ S23_mod @ f3_2],\n",
        "                      [f1_2.T @ S13_mod @ f3_2, f2_2.T @ S23_mod @ f3_2, f3_2.T @ S33_mod @ f3_2]])\n",
        "print(torch.logdet(Phi_1) + torch.logdet(Phi_2))"
      ]
    },
    {
      "cell_type": "code",
      "execution_count": null,
      "id": "c3fa5395-14c2-4e3a-9c76-608a36943b98",
      "metadata": {
        "id": "c3fa5395-14c2-4e3a-9c76-608a36943b98",
        "outputId": "e6b1ee07-bf99-47b8-e101-898c83ef3ba0"
      },
      "outputs": [
        {
          "name": "stdout",
          "output_type": "stream",
          "text": [
            "tensor([[1.0003]])\n",
            "tensor([[1.0276]])\n",
            "tensor([[1.0462]])\n"
          ]
        }
      ],
      "source": [
        "print(f1_2.T @ S11 @ f1_2)\n",
        "print(f2_2.T @ S22 @ f2_2)\n",
        "print(f3_2.T @ S33 @ f3_2)"
      ]
    },
    {
      "cell_type": "code",
      "execution_count": null,
      "id": "ed4e23f4-cd9a-47f1-8dd2-b3aefbe59099",
      "metadata": {
        "id": "ed4e23f4-cd9a-47f1-8dd2-b3aefbe59099",
        "outputId": "0dc56982-b6eb-48cb-e6a8-bb7a5330e1c9"
      },
      "outputs": [
        {
          "name": "stdout",
          "output_type": "stream",
          "text": [
            "tensor([[0.9428]])\n",
            "tensor([[1.0859]])\n",
            "tensor([[1.0297]])\n"
          ]
        }
      ],
      "source": [
        "print(f1_2.T @ S12 @ f2_2)\n",
        "print(f1_2.T @ S13 @ f3_2)\n",
        "print(f2_2.T @ S23 @ f3_2)"
      ]
    },
    {
      "cell_type": "code",
      "execution_count": null,
      "id": "b4f87851-5196-4731-8eb6-b2bfeea27794",
      "metadata": {
        "id": "b4f87851-5196-4731-8eb6-b2bfeea27794",
        "outputId": "a2fd4d0a-9fe7-423d-e651-a8d68f15a932"
      },
      "outputs": [
        {
          "name": "stdout",
          "output_type": "stream",
          "text": [
            "tensor([[-0.3595, -0.2429],\n",
            "        [ 0.2392, -0.1712]])\n",
            "tensor([[ 0.0625, -0.5011],\n",
            "        [ 0.5813,  0.0235]])\n",
            "tensor([[ 0.3042,  0.2207],\n",
            "        [-0.2623,  0.1182]])\n"
          ]
        }
      ],
      "source": [
        "print(F1.T @ S12 @ F2)\n",
        "print(F1.T @ S13 @ F3)\n",
        "print(F2.T @ S23 @ F3)"
      ]
    },
    {
      "cell_type": "code",
      "execution_count": null,
      "id": "12b078e1-cba5-4ff2-a627-2d1fbf091c59",
      "metadata": {
        "id": "12b078e1-cba5-4ff2-a627-2d1fbf091c59",
        "outputId": "47e1d124-3b84-4d2c-a2ef-649f8e098dfe"
      },
      "outputs": [
        {
          "name": "stdout",
          "output_type": "stream",
          "text": [
            "tensor(0.5966)\n",
            "tensor(0.5966)\n"
          ]
        }
      ],
      "source": [
        "W1_bar = W_em[0] @ S11_inv2\n",
        "W2_bar = W_em[1] @ S22_inv2\n",
        "W3_bar = W_em[2] @ S33_inv2\n",
        "\n",
        "B1, S1, A1 = torch.linalg.svd(W1_bar, full_matrices = False)\n",
        "B2, S2, A2 = torch.linalg.svd(W2_bar, full_matrices = False)\n",
        "B3, S3, A3 = torch.linalg.svd(W3_bar, full_matrices = False)\n",
        "\n",
        "P1 = A1.T @ A1\n",
        "P2 = A2.T @ A2\n",
        "P3 = A3.T @ A3\n",
        "\n",
        "P1C12P2 = P1 @ C12_tilde @ P2\n",
        "P1C13P3 = P1 @ C13_tilde @ P3\n",
        "P2C23P3 = P2 @ C23_tilde @ P3\n",
        "\n",
        "M1 = torch.cat([torch.cat([torch.eye(3), W1_bar.T @ W2_bar, W1_bar.T @ W3_bar], 1),\n",
        "                torch.cat([W2_bar.T @ W1_bar, torch.eye(3), W2_bar.T @ W3_bar], 1),\n",
        "                torch.cat([W3_bar.T @ W1_bar, W3_bar.T @ W2_bar, torch.eye(3)], 1)], 0)\n",
        "M2 = torch.cat([torch.cat([torch.eye(3), P1C12P2, P1C13P3], 1),\n",
        "                torch.cat([P1C12P2.T, torch.eye(3), P2C23P3], 1),\n",
        "                torch.cat([P1C13P3.T, P2C23P3.T, torch.eye(3)], 1)], 0)\n",
        "print(torch.linalg.det(M1))\n",
        "print(torch.linalg.det(M2))"
      ]
    },
    {
      "cell_type": "code",
      "execution_count": null,
      "id": "52b4f8fa-8921-4637-9d05-48dc522a30bf",
      "metadata": {
        "id": "52b4f8fa-8921-4637-9d05-48dc522a30bf",
        "outputId": "e5ed8a64-ec29-4cd4-f879-968c17e62e53"
      },
      "outputs": [
        {
          "name": "stdout",
          "output_type": "stream",
          "text": [
            "tensor(0.5966)\n",
            "tensor(0.9919)\n"
          ]
        }
      ],
      "source": [
        "# Nope!\n",
        "W_bar = torch.cat([W1_bar, W2_bar, W3_bar], 1)\n",
        "B, S, A = torch.linalg.svd(W_bar, full_matrices = False)\n",
        "\n",
        "A1 = A[:, psum[0]:psum[1]]\n",
        "A2 = A[:, psum[1]:psum[2]]\n",
        "A3 = A[:, psum[2]:psum[3]]\n",
        "\n",
        "P1 = A1.T @ A1\n",
        "P2 = A2.T @ A2\n",
        "P3 = A3.T @ A3\n",
        "\n",
        "P1C12P2 = P1 @ C12_tilde @ P2\n",
        "P1C13P3 = P1 @ C13_tilde @ P3\n",
        "P2C23P3 = P2 @ C23_tilde @ P3\n",
        "\n",
        "M2 = torch.cat([torch.cat([torch.eye(3), P1C12P2, P1C13P3], 1),\n",
        "                torch.cat([P1C12P2.T, torch.eye(3), P2C23P3], 1),\n",
        "                torch.cat([P1C13P3.T, P2C23P3.T, torch.eye(3)], 1)], 0)\n",
        "print(torch.linalg.det(M1))\n",
        "print(torch.linalg.det(M2))"
      ]
    },
    {
      "cell_type": "code",
      "execution_count": null,
      "id": "54d93eff-6149-4091-abeb-dd2e8ce35c69",
      "metadata": {
        "id": "54d93eff-6149-4091-abeb-dd2e8ce35c69"
      },
      "outputs": [],
      "source": [
        "M1 = torch.cat([torch.cat([torch.eye(3), W1_bar.T @ W2_bar, W1_bar.T @ W3_bar], 1),\n",
        "                torch.cat([W2_bar.T @ W1_bar, torch.eye(3), W2_bar.T @ W3_bar], 1),\n",
        "                torch.cat([W3_bar.T @ W1_bar, W3_bar.T @ W2_bar, torch.eye(3)], 1)], 0)\n",
        "A, S, _ = torch.linalg.svd(M1, full_matrices = False)\n",
        "\n",
        "A1 = A[psum[0]:psum[1], 0:2].T\n",
        "A2 = A[psum[1]:psum[2], 0:2].T\n",
        "A3 = A[psum[2]:psum[3], 0:2].T\n",
        "\n",
        "P1 = A1.T @ A1\n",
        "P2 = A2.T @ A2\n",
        "P3 = A3.T @ A3\n",
        "\n",
        "P1C12P2 = P1 @ C12_tilde @ P2\n",
        "P1C13P3 = P1 @ C13_tilde @ P3\n",
        "P2C23P3 = P2 @ C23_tilde @ P3"
      ]
    },
    {
      "cell_type": "code",
      "execution_count": null,
      "id": "8a39e1de-d30c-44da-bbc4-2d8575562650",
      "metadata": {
        "id": "8a39e1de-d30c-44da-bbc4-2d8575562650",
        "outputId": "ecdb742b-2c85-4bec-f148-c0451610503b"
      },
      "outputs": [
        {
          "data": {
            "text/plain": [
              "tensor([[-0.2094,  0.5825],\n",
              "        [ 0.3363,  0.1146],\n",
              "        [ 0.4213,  0.2283],\n",
              "        [-0.5645,  0.0326],\n",
              "        [-0.0425,  0.4586],\n",
              "        [ 0.1896,  0.0066],\n",
              "        [ 0.3092,  0.5180],\n",
              "        [-0.1159, -0.0901],\n",
              "        [ 0.4474, -0.3280]])"
            ]
          },
          "execution_count": 20,
          "metadata": {},
          "output_type": "execute_result"
        }
      ],
      "source": [
        "\n",
        "# Fit 1-d one time\n",
        "W_curr = std_normal.sample([1, sum(p)])\n",
        "Phi_curr = torch.eye(sum(p))\n",
        "for i in range(1000):\n",
        "    W_next, Phi_next = micca_model.EM_step(W_curr, Phi_curr, Sigma_tilde, p = p)\n",
        "    # W_next, Phi_next = micca_model.EM_step_alt(W_curr, Phi_curr, Y_all, Sigma_tilde, p = p)\n",
        "    delta_W = torch.sum((W_curr - W_next)**2)\n",
        "    delta_Phi = torch.sum((Phi_curr - Phi_next)**2)\n",
        "    W_curr = W_next\n",
        "    Phi_curr = Phi_next\n",
        "    if (i%100 == 0): print(delta_W, delta_Phi)\n",
        "\n",
        "# Project out learned space and fit again\n",
        "a1 = W_curr[:, psum[0]:psum[1]] / torch.sqrt(torch.sum(W_curr[:, psum[0]:psum[1]]**2))\n",
        "a2 = W_curr[:, psum[1]:psum[2]] / torch.sqrt(torch.sum(W_curr[:, psum[1]:psum[2]]**2))\n",
        "f1 = a1 @ S11_inv2\n",
        "f2 = a2 @ S22_inv2\n",
        "\n",
        "Y_mod = [data.Y[0] @ (torch.eye(3) - f1.T @ f1), data.Y[1] @ (torch.eye(3) - f2.T @ f2)]\n",
        "Y_mod_all = torch.cat(Y_mod, dim = 1)\n",
        "Y_mod_all = Y_mod_all - torch.mean(Y_mod_all, 0)\n",
        "Sigma_mod_tilde = (Y_mod_all.T @ Y_mod_all) / (n - 1)\n",
        "\n",
        "W_curr = std_normal.sample([1, sum(p)])\n",
        "Phi_curr = torch.eye(sum(p))\n",
        "for i in range(1000):\n",
        "    W_next, Phi_next = micca_model.EM_step(W_curr, Phi_curr, Sigma_mod_tilde, p = p)\n",
        "    # W_next, Phi_next = micca_model.EM_step_alt(W_curr, Phi_curr, Y_all, Sigma_tilde, p = p)\n",
        "    delta_W = torch.sum((W_curr - W_next)**2)\n",
        "    delta_Phi = torch.sum((Phi_curr - Phi_next)**2)\n",
        "    W_curr = W_next\n",
        "    Phi_curr = Phi_next\n",
        "    if (i%100 == 0): print(delta_W, delta_Phi)\n",
        "    \n",
        "# Project out learned space and check residual covariance\n",
        "a1 = W_curr[:, psum[0]:psum[1]] / torch.sqrt(torch.sum(W_curr[:, psum[0]:psum[1]]**2))\n",
        "a2 = W_curr[:, psum[1]:psum[2]] / torch.sqrt(torch.sum(W_curr[:, psum[1]:psum[2]]**2))\n",
        "f1 = a1 @ S11_inv2\n",
        "f2 = a2 @ S22_inv2\n",
        "\n",
        "Y_mod_2 = [Y_mod[0] @ (torch.eye(3) - f1.T @ f1), Y_mod[1] @ (torch.eye(3) - f2.T @ f2)]\n",
        "Y_mod_2_all = torch.cat(Y_mod_2, dim = 1)\n",
        "Y_mod_2_all = Y_mod_2_all - torch.mean(Y_mod_2_all, 0)\n",
        "Sigma_mod_2_tilde = (Y_mod_2_all.T @ Y_mod_2_all) / (n - 1)\n",
        "\n",
        "print(Sigma_mod_2_tilde)"
      ]
    },
    {
      "cell_type": "code",
      "execution_count": null,
      "id": "4efb7c93-7509-4058-a5ad-d7460674ca71",
      "metadata": {
        "id": "4efb7c93-7509-4058-a5ad-d7460674ca71"
      },
      "outputs": [],
      "source": [
        ""
      ]
    },
    {
      "cell_type": "code",
      "execution_count": null,
      "id": "93beab36-71ba-4bc3-869c-619a4b173022",
      "metadata": {
        "id": "93beab36-71ba-4bc3-869c-619a4b173022",
        "outputId": "c90a0844-b75f-4416-f879-f039529c36c3"
      },
      "outputs": [
        {
          "data": {
            "text/plain": [
              "tensor([[-0.1435,  0.3387,  0.4332, -0.6028, -0.0526,  0.2022,  0.3386, -0.1160,\n",
              "          0.3767],\n",
              "        [ 0.6568,  0.1127,  0.2353,  0.1272,  0.3418, -0.0299,  0.5002, -0.0857,\n",
              "         -0.3304]])"
            ]
          },
          "execution_count": 24,
          "metadata": {},
          "output_type": "execute_result"
        }
      ],
      "source": [
        "A"
      ]
    },
    {
      "cell_type": "code",
      "execution_count": null,
      "id": "8b37ed5b-c7db-482c-b38c-fa4e48b8f2c7",
      "metadata": {
        "id": "8b37ed5b-c7db-482c-b38c-fa4e48b8f2c7",
        "outputId": "c56ed210-20d2-40b9-c1ff-819a4473e3f1"
      },
      "outputs": [
        {
          "data": {
            "text/plain": [
              "tensor([[0.2900, 0.0547],\n",
              "        [0.0324, 0.0781]])"
            ]
          },
          "execution_count": 39,
          "metadata": {},
          "output_type": "execute_result"
        }
      ],
      "source": [
        "A1 @ C13_tilde @ A3.T"
      ]
    },
    {
      "cell_type": "code",
      "execution_count": null,
      "id": "3f139bd2-422d-48f2-8aca-4f0e3a140980",
      "metadata": {
        "id": "3f139bd2-422d-48f2-8aca-4f0e3a140980",
        "outputId": "8cdb0231-471d-4fc8-d1fe-8a485906d6bf"
      },
      "outputs": [
        {
          "data": {
            "text/plain": [
              "tensor([[-0.0003,  0.0012],\n",
              "        [-0.0005, -0.0002]])"
            ]
          },
          "execution_count": 29,
          "metadata": {},
          "output_type": "execute_result"
        }
      ],
      "source": [
        "W1_bar @ (C13_tilde - W1_bar.T @ W3_bar) @ W3_bar.T"
      ]
    },
    {
      "cell_type": "code",
      "execution_count": null,
      "id": "1091239c-581a-4bd1-9511-e588a8248fd3",
      "metadata": {
        "id": "1091239c-581a-4bd1-9511-e588a8248fd3",
        "outputId": "f8c55bed-eec6-488b-9c4d-35ac8cb923de"
      },
      "outputs": [
        {
          "name": "stdout",
          "output_type": "stream",
          "text": [
            "tensor(0.1111)\n",
            "tensor(-8.0517e-27)\n"
          ]
        }
      ],
      "source": [
        "M1 = torch.cat([torch.cat([torch.eye(3), W1_bar.T @ W2_bar, W1_bar.T @ W3_bar], 1),\n",
        "                torch.cat([W2_bar.T @ W1_bar, torch.eye(3), W2_bar.T @ W3_bar], 1),\n",
        "                torch.cat([W3_bar.T @ W1_bar, W3_bar.T @ W2_bar, torch.eye(3)], 1)], 0)\n",
        "M2 = torch.cat([torch.cat([P1, P1C12P2, P1C13P3], 1),\n",
        "                torch.cat([P1C12P2.T, P2, P2C23P3], 1),\n",
        "                torch.cat([P1C13P3.T, P2C23P3.T, P3], 1)], 0)\n",
        "print(torch.linalg.det(M1))\n",
        "print(torch.linalg.det(M2))"
      ]
    },
    {
      "cell_type": "code",
      "execution_count": null,
      "id": "0e44232d-890a-4000-8da9-1ee9e47ef761",
      "metadata": {
        "id": "0e44232d-890a-4000-8da9-1ee9e47ef761",
        "outputId": "45f75322-a661-474a-edda-cb49e632c294"
      },
      "outputs": [
        {
          "name": "stdout",
          "output_type": "stream",
          "text": [
            "tensor([[ 0.3023,  0.3841, -0.0876],\n",
            "        [-0.3758,  0.0207,  0.1281],\n",
            "        [-0.4620,  0.0773,  0.1595]])\n",
            "tensor([[ 0.4323, -0.0576, -0.4560],\n",
            "        [ 0.3167, -0.0927,  0.1888],\n",
            "        [ 0.4783, -0.1311,  0.1927]])\n",
            "tensor([[-0.2974,  0.1198, -0.5165],\n",
            "        [ 0.2443, -0.0379, -0.2027],\n",
            "        [ 0.1102, -0.0421,  0.1672]])\n"
          ]
        }
      ],
      "source": [
        "print(P1C12P2)\n",
        "print(P1C13P3)\n",
        "print(P2C23P3)"
      ]
    },
    {
      "cell_type": "code",
      "execution_count": null,
      "id": "7b031213-3687-4088-a7b1-fdbc35a5e50c",
      "metadata": {
        "id": "7b031213-3687-4088-a7b1-fdbc35a5e50c"
      },
      "outputs": [],
      "source": [
        ""
      ]
    },
    {
      "cell_type": "code",
      "execution_count": null,
      "id": "80785baf-1923-4852-9fdb-3a568dbdad42",
      "metadata": {
        "id": "80785baf-1923-4852-9fdb-3a568dbdad42",
        "outputId": "84d91681-2af6-43d0-b93d-ee02b03182dc"
      },
      "outputs": [
        {
          "name": "stdout",
          "output_type": "stream",
          "text": [
            "tensor([[ 0.3040,  0.3764, -0.0885],\n",
            "        [-0.3769,  0.0271,  0.1287],\n",
            "        [-0.4633,  0.0849,  0.1602]])\n",
            "tensor([[ 0.4341, -0.0580, -0.4556],\n",
            "        [ 0.3155, -0.0925,  0.1900],\n",
            "        [ 0.4770, -0.1309,  0.1944]])\n",
            "tensor([[-0.2974,  0.1195, -0.5125],\n",
            "        [ 0.2405, -0.0352, -0.2208],\n",
            "        [ 0.1100, -0.0418,  0.1651]])\n"
          ]
        }
      ],
      "source": [
        "print(W1_bar.T @ W2_bar)\n",
        "print(W1_bar.T @ W3_bar)\n",
        "print(W2_bar.T @ W3_bar)"
      ]
    },
    {
      "cell_type": "code",
      "execution_count": null,
      "id": "a0beac41-d6fe-43d4-bed2-9b1618d367ab",
      "metadata": {
        "id": "a0beac41-d6fe-43d4-bed2-9b1618d367ab",
        "outputId": "3b79e938-34e0-4084-ba19-c51609d287fd"
      },
      "outputs": [
        {
          "name": "stdout",
          "output_type": "stream",
          "text": [
            "tensor(0.0031)\n",
            "tensor(0.0009)\n",
            "tensor(0.0035)\n"
          ]
        }
      ],
      "source": [
        "print(torch.mean(abs(P1C12P2 - W1_bar.T @ W2_bar)))\n",
        "print(torch.mean(abs(P1C13P3 - W1_bar.T @ W3_bar)))\n",
        "print(torch.mean(abs(P2C23P3 - W2_bar.T @ W3_bar)))"
      ]
    },
    {
      "cell_type": "code",
      "execution_count": null,
      "id": "9fba5693-c485-404b-91b7-121ef8048a72",
      "metadata": {
        "id": "9fba5693-c485-404b-91b7-121ef8048a72",
        "outputId": "f9cdf559-2117-4d69-dbb5-b3270dc7bd9a"
      },
      "outputs": [
        {
          "name": "stdout",
          "output_type": "stream",
          "text": [
            "tensor(0.0028)\n",
            "tensor(0.0027)\n",
            "tensor(0.0006)\n"
          ]
        }
      ],
      "source": [
        "print(torch.mean(abs((C12_tilde - W1_bar.T @ W2_bar) @  W2_bar.T)))\n",
        "print(torch.mean(abs((C13_tilde - W1_bar.T @ W3_bar) @  W3_bar.T)))\n",
        "print(torch.mean(abs((C23_tilde - W2_bar.T @ W3_bar) @  W3_bar.T)))"
      ]
    },
    {
      "cell_type": "code",
      "execution_count": null,
      "id": "415be776-fdf9-4f63-898b-00df1af67a04",
      "metadata": {
        "id": "415be776-fdf9-4f63-898b-00df1af67a04",
        "outputId": "b3066903-f4c2-46f3-9786-be3d2b2862d2"
      },
      "outputs": [
        {
          "data": {
            "text/plain": [
              "tensor([[-0.0293],\n",
              "        [ 0.0047],\n",
              "        [-0.0501]])"
            ]
          },
          "execution_count": 141,
          "metadata": {},
          "output_type": "execute_result"
        }
      ],
      "source": [
        "(C13_tilde - W1_bar.T @ W3_bar) @ W3_bar.T @ torch.linalg.inv(torch.eye(1) - W3_bar @ W3_bar.T) "
      ]
    },
    {
      "cell_type": "code",
      "execution_count": null,
      "id": "39dc10d2-b256-477f-b990-402bc1947cf6",
      "metadata": {
        "id": "39dc10d2-b256-477f-b990-402bc1947cf6",
        "outputId": "d13ecf80-2b5d-4daf-90af-d73d69f1d54a"
      },
      "outputs": [
        {
          "data": {
            "text/plain": [
              "tensor([[-0.0293],\n",
              "        [ 0.0047],\n",
              "        [-0.0501]])"
            ]
          },
          "execution_count": 142,
          "metadata": {},
          "output_type": "execute_result"
        }
      ],
      "source": [
        "(C13_tilde - W1_bar.T @ W3_bar) @  torch.linalg.inv(torch.eye(3) - W3_bar.T @ W3_bar) @ W3_bar.T"
      ]
    },
    {
      "cell_type": "code",
      "execution_count": null,
      "id": "27d5195a-6998-4643-86bb-35585f059d0b",
      "metadata": {
        "id": "27d5195a-6998-4643-86bb-35585f059d0b",
        "outputId": "918cd7fc-436a-48d0-aed9-f1f2a03cde5d"
      },
      "outputs": [
        {
          "data": {
            "text/plain": [
              "tensor([[ 0.0073],\n",
              "        [-0.0012],\n",
              "        [ 0.0126]])"
            ]
          },
          "execution_count": 143,
          "metadata": {},
          "output_type": "execute_result"
        }
      ],
      "source": [
        "(C12_tilde - W1_bar.T @ W2_bar) @ W2_bar.T"
      ]
    },
    {
      "cell_type": "code",
      "execution_count": null,
      "id": "f024ca41-8863-45a4-9ff8-225641d61775",
      "metadata": {
        "id": "f024ca41-8863-45a4-9ff8-225641d61775",
        "outputId": "8b4a862f-8246-4891-92d2-214e40caed65"
      },
      "outputs": [
        {
          "data": {
            "text/plain": [
              "tensor([[ 0.0293],\n",
              "        [-0.0047],\n",
              "        [ 0.0501]])"
            ]
          },
          "execution_count": 145,
          "metadata": {},
          "output_type": "execute_result"
        }
      ],
      "source": [
        "(C12_tilde - W1_bar.T @ W2_bar) @ W2_bar.T @ torch.linalg.inv(1 - W2_bar @ W2_bar.T)"
      ]
    },
    {
      "cell_type": "code",
      "execution_count": null,
      "id": "20220bfd-6663-4ea1-b6d3-03f8ed22f899",
      "metadata": {
        "id": "20220bfd-6663-4ea1-b6d3-03f8ed22f899",
        "outputId": "be7cff17-2cd8-4c3f-b43b-66792c2b2f78"
      },
      "outputs": [
        {
          "data": {
            "text/plain": [
              "tensor([[ 4.5940e-03, -2.8103e-04],\n",
              "        [ 4.4791e-03,  2.6003e-03],\n",
              "        [-9.0168e-03, -5.8655e-05]])"
            ]
          },
          "execution_count": 12,
          "metadata": {},
          "output_type": "execute_result"
        }
      ],
      "source": [
        "(C12_tilde - W1_bar.T @ W2_bar) @ W2_bar.T @ torch.linalg.inv(1 - W2_bar @ W2_bar.T) + (C13_tilde - W1_bar.T @ W3_bar) @ W3_bar.T @ torch.linalg.inv(1 - W3_bar @ W3_bar.T) "
      ]
    },
    {
      "cell_type": "code",
      "execution_count": null,
      "id": "321ecf4a-89c5-47bf-8af8-bd46a92cff42",
      "metadata": {
        "id": "321ecf4a-89c5-47bf-8af8-bd46a92cff42",
        "outputId": "d2c5d7ef-1486-46c7-ed6b-34681d2208fd"
      },
      "outputs": [
        {
          "data": {
            "text/plain": [
              "[tensor([[4.6497, 0.2221, 0.0900],\n",
              "         [0.2221, 1.9237, 0.3744],\n",
              "         [0.0900, 0.3744, 1.7076]]),\n",
              " tensor([[ 1.9754,  1.5128, -1.7825],\n",
              "         [ 1.5128,  2.2075, -2.4684],\n",
              "         [-1.7825, -2.4684,  3.6764]]),\n",
              " tensor([[ 1.5073, -1.3006,  0.8230],\n",
              "         [-1.3006,  8.2849, -3.3705],\n",
              "         [ 0.8230, -3.3705,  5.0412]])]"
            ]
          },
          "execution_count": 51,
          "metadata": {},
          "output_type": "execute_result"
        }
      ],
      "source": [
        "[S11 - W_em[0].T @ W_em[0], S22 - W_em[1].T @ W_em[1], S33 - W_em[2].T @ W_em[2]]"
      ]
    },
    {
      "cell_type": "code",
      "execution_count": null,
      "id": "ceaef13f-eced-4a87-95eb-b6c4b6b41555",
      "metadata": {
        "id": "ceaef13f-eced-4a87-95eb-b6c4b6b41555",
        "outputId": "97734e75-7316-4d20-8e20-fd3fb3c5cc47"
      },
      "outputs": [
        {
          "data": {
            "text/plain": [
              "tensor([[ 0.0027, -0.6311],\n",
              "        [-0.0130, -1.2672],\n",
              "        [ 1.4927,  0.2291],\n",
              "        [ 0.0977, -0.7140],\n",
              "        [-0.0575, -1.3654],\n",
              "        [-0.1034,  0.0930],\n",
              "        [-0.1427, -0.4694],\n",
              "        [-0.5685, -0.8861],\n",
              "        [ 1.7051,  1.6871]])"
            ]
          },
          "execution_count": 54,
          "metadata": {},
          "output_type": "execute_result"
        }
      ],
      "source": [
        "W_curr.T"
      ]
    },
    {
      "cell_type": "code",
      "execution_count": null,
      "id": "f8e3343f-238e-4010-8663-4770941a3a72",
      "metadata": {
        "id": "f8e3343f-238e-4010-8663-4770941a3a72",
        "outputId": "d9729e52-8763-4054-e2fe-a873001bc24f"
      },
      "outputs": [
        {
          "ename": "NameError",
          "evalue": "name 'W_em' is not defined",
          "output_type": "error",
          "traceback": [
            "\u001b[0;31m---------------------------------------------------------------------------\u001b[0m",
            "\u001b[0;31mNameError\u001b[0m                                 Traceback (most recent call last)",
            "\u001b[0;32m/tmp/ipykernel_1753/2181572577.py\u001b[0m in \u001b[0;36m<module>\u001b[0;34m\u001b[0m\n\u001b[1;32m      1\u001b[0m \u001b[0;31m# Lemma 5???\u001b[0m\u001b[0;34m\u001b[0m\u001b[0;34m\u001b[0m\u001b[0;34m\u001b[0m\u001b[0m\n\u001b[0;32m----> 2\u001b[0;31m \u001b[0mtorch\u001b[0m\u001b[0;34m.\u001b[0m\u001b[0mmean\u001b[0m\u001b[0;34m(\u001b[0m\u001b[0mabs\u001b[0m\u001b[0;34m(\u001b[0m\u001b[0;34m(\u001b[0m\u001b[0mSigma_tilde\u001b[0m \u001b[0;34m-\u001b[0m \u001b[0mW_curr\u001b[0m\u001b[0;34m.\u001b[0m\u001b[0mT\u001b[0m \u001b[0;34m@\u001b[0m \u001b[0mW_curr\u001b[0m\u001b[0;34m)\u001b[0m \u001b[0;34m@\u001b[0m \u001b[0mtorch\u001b[0m\u001b[0;34m.\u001b[0m\u001b[0mlinalg\u001b[0m\u001b[0;34m.\u001b[0m\u001b[0minv\u001b[0m\u001b[0;34m(\u001b[0m\u001b[0mtorch\u001b[0m\u001b[0;34m.\u001b[0m\u001b[0mblock_diag\u001b[0m\u001b[0;34m(\u001b[0m\u001b[0mS11\u001b[0m \u001b[0;34m-\u001b[0m \u001b[0mW_em\u001b[0m\u001b[0;34m[\u001b[0m\u001b[0;36m0\u001b[0m\u001b[0;34m]\u001b[0m\u001b[0;34m.\u001b[0m\u001b[0mT\u001b[0m \u001b[0;34m@\u001b[0m \u001b[0mW_em\u001b[0m\u001b[0;34m[\u001b[0m\u001b[0;36m0\u001b[0m\u001b[0;34m]\u001b[0m\u001b[0;34m,\u001b[0m \u001b[0mS22\u001b[0m \u001b[0;34m-\u001b[0m \u001b[0mW_em\u001b[0m\u001b[0;34m[\u001b[0m\u001b[0;36m1\u001b[0m\u001b[0;34m]\u001b[0m\u001b[0;34m.\u001b[0m\u001b[0mT\u001b[0m \u001b[0;34m@\u001b[0m \u001b[0mW_em\u001b[0m\u001b[0;34m[\u001b[0m\u001b[0;36m1\u001b[0m\u001b[0;34m]\u001b[0m\u001b[0;34m,\u001b[0m \u001b[0mS33\u001b[0m \u001b[0;34m-\u001b[0m \u001b[0mW_em\u001b[0m\u001b[0;34m[\u001b[0m\u001b[0;36m2\u001b[0m\u001b[0;34m]\u001b[0m\u001b[0;34m.\u001b[0m\u001b[0mT\u001b[0m \u001b[0;34m@\u001b[0m \u001b[0mW_em\u001b[0m\u001b[0;34m[\u001b[0m\u001b[0;36m2\u001b[0m\u001b[0;34m]\u001b[0m\u001b[0;34m)\u001b[0m\u001b[0;34m)\u001b[0m \u001b[0;34m@\u001b[0m \u001b[0mW_curr\u001b[0m\u001b[0;34m.\u001b[0m\u001b[0mT\u001b[0m \u001b[0;34m-\u001b[0m \u001b[0mW_curr\u001b[0m\u001b[0;34m.\u001b[0m\u001b[0mT\u001b[0m\u001b[0;34m)\u001b[0m\u001b[0;34m)\u001b[0m\u001b[0;34m\u001b[0m\u001b[0;34m\u001b[0m\u001b[0m\n\u001b[0m",
            "\u001b[0;31mNameError\u001b[0m: name 'W_em' is not defined"
          ]
        }
      ],
      "source": [
        "# Lemma 5???\n",
        "torch.mean(abs((Sigma_tilde - W_curr.T @ W_curr) @ torch.linalg.inv(torch.block_diag(S11 - W_em[0].T @ W_em[0], S22 - W_em[1].T @ W_em[1], S33 - W_em[2].T @ W_em[2])) @ W_curr.T - W_curr.T))"
      ]
    },
    {
      "cell_type": "code",
      "execution_count": null,
      "id": "e5be40b9-28ee-4774-8f32-5ea0909b5a11",
      "metadata": {
        "id": "e5be40b9-28ee-4774-8f32-5ea0909b5a11",
        "outputId": "14526cea-014d-463e-bbfd-c166dd781118"
      },
      "outputs": [
        {
          "name": "stdout",
          "output_type": "stream",
          "text": [
            "tensor([1.2103, 1.0694, 1.0000, 1.0000, 1.0000, 1.0000, 1.0000, 1.0000, 0.7203])\n",
            "tensor([1.2103, 1.0694, 0.7203])\n"
          ]
        }
      ],
      "source": [
        "std_normal = torch.distributions.Normal(0, 1)\n",
        "f = std_normal.sample([3, 3])\n",
        "f = f @ torch.linalg.inv(sqrtm(f.T @ f))\n",
        "f.T @ f\n",
        "f1 = f[:,0, None]\n",
        "f2 = f[:, 1, None]\n",
        "f3 = f[:, 2, None]\n",
        "\n",
        "f1f1T = f1 @ f1.T\n",
        "f2f2T = f2 @ f2.T\n",
        "f3f3T = f3 @ f3.T\n",
        "\n",
        "mat1 = torch.cat([torch.cat([torch.eye(3), f1f1T @ C12_tilde @ f2f2T, f1f1T @ C13_tilde @ f3f3T], 1),\n",
        "                  torch.cat([f2f2T @ C12_tilde.T @ f1f1T, torch.eye(3), f2f2T @ C23_tilde @ f3f3T], 1),\n",
        "                  torch.cat([f3f3T @ C13_tilde.T @ f1f1T, f3f3T @ C23_tilde.T @ f2f2T, torch.eye(3)], 1)], 0)\n",
        "mat2 = torch.cat([torch.cat([torch.eye(1), f1.T @ C12_tilde @ f2, f1.T @ C13_tilde @ f3], 1),\n",
        "                  torch.cat([f2.T @ C12_tilde.T @ f1, torch.eye(1), f2.T @ C23_tilde @ f3], 1),\n",
        "                  torch.cat([f3.T @ C13_tilde.T @ f1, f3.T @ C23_tilde.T @ f2, torch.eye(1)], 1)], 0)\n",
        "print(torch.linalg.svd(mat1).S)\n",
        "print(torch.linalg.svd(mat2).S)"
      ]
    },
    {
      "cell_type": "code",
      "execution_count": null,
      "id": "1dffc33e-12ad-45a3-b39e-d7126fd7e018",
      "metadata": {
        "id": "1dffc33e-12ad-45a3-b39e-d7126fd7e018",
        "outputId": "53324c20-df77-4527-f0c8-9282ca7a16b7"
      },
      "outputs": [
        {
          "name": "stdout",
          "output_type": "stream",
          "text": [
            "tensor([[0.8872, 0.0354],\n",
            "        [0.0354, 0.8952]])\n",
            "tensor([[1.3133, 0.0112],\n",
            "        [0.0112, 0.9161]])\n",
            "tensor([[1.3942, 0.4744],\n",
            "        [0.4744, 0.3550]])\n",
            "tensor([[3.5946, 0.5210],\n",
            "        [0.5210, 2.1664]])\n"
          ]
        }
      ],
      "source": [
        "S11_inv = torch.linalg.inv(S11)\n",
        "PU1d = W_ml[0] @ S11_inv\n",
        "print(PU1d @ S11 @ PU1d.T)\n",
        "\n",
        "S22_inv = torch.linalg.inv(S22)\n",
        "PU2d = W_ml[1] @ S22_inv\n",
        "print(PU2d @ S22 @ PU2d.T)\n",
        "\n",
        "S33_inv = torch.linalg.inv(S33)\n",
        "PU3d = W_ml[1] @ S33_inv\n",
        "print(PU3d @ S33 @ PU3d.T)\n",
        "\n",
        "print(PU1d @ S11 @ PU1d.T + PU2d @ S22 @ PU2d.T + PU3d @ S33 @ PU3d.T)\n",
        "\n",
        "# print(PU1d @ S12 @ PU2d.T)\n",
        "# print(PU1d.T @ PU2d)  # Should = next\n",
        "# print( (U1d * p_mat[0:d]) @ U2d.T )"
      ]
    }
  ],
  "metadata": {
    "kernelspec": {
      "display_name": "Python 3 (ipykernel)",
      "language": "python",
      "name": "python3"
    },
    "language_info": {
      "codemirror_mode": {
        "name": "ipython",
        "version": 3
      },
      "file_extension": ".py",
      "mimetype": "text/x-python",
      "name": "python",
      "nbconvert_exporter": "python",
      "pygments_lexer": "ipython3",
      "version": "3.8.3"
    },
    "colab": {
      "name": "three_dataset_method_comparison.ipynb",
      "provenance": []
    }
  },
  "nbformat": 4,
  "nbformat_minor": 5
}