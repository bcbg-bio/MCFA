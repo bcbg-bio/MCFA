{
 "cells": [
  {
   "cell_type": "code",
   "execution_count": 2,
   "id": "1edf3a76-67b2-4292-9624-48fc7247d394",
   "metadata": {},
   "outputs": [],
   "source": [
    "import torch\n",
    "import numpy as np\n",
    "import micca_model\n",
    "import simulate_model_gaussian\n",
    "torch.set_printoptions(linewidth = 200)"
   ]
  },
  {
   "cell_type": "code",
   "execution_count": 9,
   "id": "ad595040-9632-4f06-a999-dd96b2da1722",
   "metadata": {},
   "outputs": [],
   "source": [
    "def sqrtm(X):\n",
    "    U, l, VT = torch.linalg.svd(X)\n",
    "    return((U * torch.sqrt(l)) @ VT)"
   ]
  },
  {
   "cell_type": "code",
   "execution_count": 86,
   "id": "16b2e747-ed4d-4c5e-aea5-3ae9f49cd27c",
   "metadata": {},
   "outputs": [],
   "source": [
    "n = 1000\n",
    "p = [3, 3, 3, 3, 3]\n",
    "psum = np.concatenate([[0], np.cumsum(p, 0)]) \n",
    "d = 1\n",
    "k = None"
   ]
  },
  {
   "cell_type": "code",
   "execution_count": 87,
   "id": "66a3539d-d25b-4e74-801d-a6b4bebca5cb",
   "metadata": {},
   "outputs": [],
   "source": [
    "model = simulate_model_gaussian.generate_model(p, k, d)\n",
    "data = model.simulate(n)\n",
    "Y_all = torch.cat(data.Y, dim = 1)\n",
    "Y_all = Y_all - torch.mean(Y_all, 0)\n",
    "Sigma_tilde = (Y_all.T @ Y_all) / (n - 1)\n",
    "W = torch.cat(model.W, dim = 1)\n",
    "Phi = torch.block_diag(*model.Phi)"
   ]
  },
  {
   "cell_type": "code",
   "execution_count": 88,
   "id": "aba1b319-268b-4eea-a89a-338983eca918",
   "metadata": {},
   "outputs": [],
   "source": [
    "Y = [Y_m - torch.mean(Y_m, 0) for Y_m in data.Y]\n",
    "S11 = (Y[0].T @ Y[0])/(n-1)\n",
    "S22 = (Y[1].T @ Y[1])/(n-1)\n",
    "S33 = (Y[2].T @ Y[2])/(n-1)\n",
    "S12 = (Y[0].T @ Y[1])/(n-1)\n",
    "S13 = (Y[0].T @ Y[2])/(n-1)\n",
    "S23 = (Y[1].T @ Y[2])/(n-1)\n",
    "S11_inv2 = sqrtm(torch.linalg.pinv(S11, rcond = 1e-06))\n",
    "S22_inv2 = sqrtm(torch.linalg.pinv(S22, rcond = 1e-06))\n",
    "S33_inv2 = sqrtm(torch.linalg.pinv(S33, rcond = 1e-06))\n",
    "C12_tilde = S11_inv2 @ S12 @ S22_inv2\n",
    "C13_tilde = S11_inv2 @ S13 @ S33_inv2\n",
    "C23_tilde = S22_inv2 @ S23 @ S33_inv2"
   ]
  },
  {
   "cell_type": "code",
   "execution_count": 90,
   "id": "74955c46-ecf9-4186-ac0b-a12d65a455ae",
   "metadata": {},
   "outputs": [
    {
     "name": "stdout",
     "output_type": "stream",
     "text": [
      "tensor(15.2321) tensor(180.1042) tensor(26090.3359)\n",
      "tensor(3.7083e-14) tensor(5.8087e-13) tensor(25386.8574)\n",
      "tensor(6.1135e-14) tensor(3.2208e-12) tensor(25386.8594)\n",
      "tensor(2.5019e-14) tensor(4.7362e-13) tensor(25386.8594)\n",
      "tensor(1.3289e-13) tensor(1.1049e-12) tensor(25386.8594)\n",
      "tensor(3.2711e-14) tensor(1.3780e-12) tensor(25386.8594)\n",
      "tensor(2.4982e-14) tensor(4.5675e-13) tensor(25386.8594)\n",
      "tensor(6.1446e-14) tensor(3.5016e-13) tensor(25386.8594)\n",
      "tensor(1.4641e-13) tensor(1.2126e-12) tensor(25386.8594)\n",
      "tensor(1.8723e-14) tensor(1.7206e-12) tensor(25386.8594)\n",
      "tensor(1.4973e-13) tensor(1.3316e-12) tensor(25386.8594)\n",
      "tensor(4.0142e-14) tensor(7.4851e-13) tensor(25386.8594)\n",
      "tensor(2.1445e-14) tensor(7.0544e-13) tensor(25386.8594)\n",
      "tensor(1.8677e-13) tensor(5.1625e-13) tensor(25386.8594)\n",
      "tensor(2.5386e-14) tensor(1.2126e-12) tensor(25386.8594)\n",
      "tensor(1.7851e-14) tensor(2.9265e-13) tensor(25386.8594)\n",
      "tensor(3.0605e-13) tensor(6.3349e-13) tensor(25386.8594)\n",
      "tensor(1.4694e-13) tensor(7.4785e-13) tensor(25386.8594)\n",
      "tensor(9.2902e-14) tensor(1.6078e-12) tensor(25386.8594)\n",
      "tensor(9.2412e-14) tensor(1.0938e-12) tensor(25386.8594)\n",
      "tensor(6.4417e-14) tensor(2.3337e-13) tensor(25386.8574)\n",
      "tensor(6.8526e-14) tensor(5.3557e-13) tensor(25386.8574)\n",
      "tensor(3.6163e-14) tensor(6.3705e-13) tensor(25386.8594)\n",
      "tensor(1.8964e-14) tensor(8.0114e-13) tensor(25386.8594)\n",
      "tensor(5.6461e-13) tensor(1.2956e-12) tensor(25386.8594)\n",
      "tensor(7.9551e-14) tensor(5.7332e-13) tensor(25386.8594)\n",
      "tensor(7.5003e-14) tensor(1.1584e-12) tensor(25386.8594)\n",
      "tensor(3.5359e-13) tensor(2.9243e-13) tensor(25386.8594)\n",
      "tensor(1.6384e-13) tensor(6.3372e-13) tensor(25386.8574)\n",
      "tensor(1.1149e-13) tensor(2.5802e-13) tensor(25386.8594)\n",
      "tensor(3.0405e-13) tensor(1.0041e-12) tensor(25386.8594)\n",
      "tensor(1.5047e-13) tensor(1.5554e-12) tensor(25386.8594)\n",
      "tensor(3.9654e-14) tensor(3.1406e-12) tensor(25386.8574)\n",
      "tensor(8.7631e-14) tensor(6.8967e-13) tensor(25386.8594)\n",
      "tensor(5.5584e-14) tensor(1.7728e-12) tensor(25386.8594)\n",
      "tensor(5.0027e-14) tensor(5.1981e-13) tensor(25386.8594)\n",
      "tensor(1.9168e-13) tensor(1.1964e-12) tensor(25386.8594)\n",
      "tensor(1.8924e-14) tensor(9.7811e-13) tensor(25386.8594)\n",
      "tensor(7.8501e-14) tensor(1.7897e-13) tensor(25386.8594)\n",
      "tensor(4.0475e-14) tensor(7.4896e-13) tensor(25386.8594)\n",
      "tensor(6.4799e-14) tensor(4.6319e-13) tensor(25386.8594)\n",
      "tensor(5.3718e-14) tensor(5.2380e-13) tensor(25386.8594)\n",
      "tensor(6.0322e-13) tensor(4.1340e-12) tensor(25386.8594)\n",
      "tensor(1.8858e-13) tensor(1.3691e-12) tensor(25386.8574)\n",
      "tensor(1.1400e-13) tensor(2.4003e-13) tensor(25386.8594)\n",
      "tensor(4.2547e-13) tensor(4.6940e-13) tensor(25386.8594)\n",
      "tensor(9.7093e-14) tensor(2.9687e-13) tensor(25386.8594)\n",
      "tensor(1.7908e-14) tensor(8.7708e-13) tensor(25386.8594)\n",
      "tensor(1.2216e-13) tensor(1.2541e-12) tensor(25386.8594)\n",
      "tensor(1.4497e-13) tensor(7.3386e-13) tensor(25386.8594)\n"
     ]
    }
   ],
   "source": [
    "# Fit 2-D\n",
    "std_normal = torch.distributions.Normal(0, 1)\n",
    "W_curr = std_normal.sample([d, sum(p)])\n",
    "Phi_curr = torch.eye(sum(p))\n",
    "for i in range(5000):\n",
    "    # W_next, Phi_next = micca_model.EM_step_stable(W_curr, Phi_curr, Y_all, Sigma_tilde, p = p)\n",
    "    W_next, Phi_next = micca_model.EM_step(W_curr, Phi_curr, Sigma_tilde, p = p)\n",
    "    delta_W = torch.sum((W_curr - W_next)**2)\n",
    "    delta_Phi = torch.sum((Phi_curr - Phi_next)**2)\n",
    "    W_curr = W_next\n",
    "    Phi_curr = Phi_next\n",
    "    if (i%100 == 0): \n",
    "        print(delta_W, delta_Phi, micca_model.loglik(W_curr.T @ W_curr + Phi_curr, Sigma_tilde, n))\n",
    "W_hat = W_curr\n",
    "Phi_hat = Phi_curr\n",
    "Sigma_hat = W_hat.T @ W_hat + Phi_hat\n",
    "Sigma_hat_inv = torch.linalg.inv(Sigma_hat)\n",
    "W1_hat = W_hat[:, psum[0]:psum[1]]\n",
    "W2_hat = W_hat[:, psum[1]:psum[2]]\n",
    "W3_hat = W_hat[:, psum[2]:psum[3]]"
   ]
  },
  {
   "cell_type": "code",
   "execution_count": 75,
   "id": "8af359e3-4416-4f69-9988-25169029e640",
   "metadata": {},
   "outputs": [
    {
     "data": {
      "text/plain": [
       "True"
      ]
     },
     "execution_count": 75,
     "metadata": {},
     "output_type": "execute_result"
    }
   ],
   "source": [
    "# Lemma 1\n",
    "all(torch.linalg.svd(Sigma_tilde - W_hat.T @ W_hat).S > 0)"
   ]
  },
  {
   "cell_type": "code",
   "execution_count": 76,
   "id": "805b1222-1dee-4be7-859b-38724eecb6ce",
   "metadata": {},
   "outputs": [
    {
     "name": "stdout",
     "output_type": "stream",
     "text": [
      "tensor([[ 5.9605e-07, -1.1727e-07, -6.0203e-07, -1.7323e-07, -2.3469e-07,  2.7870e-07,  3.5306e-06,  5.1465e-06, -9.5740e-07,  1.2666e-07,  1.0803e-07,  1.0058e-07],\n",
      "        [-1.0501e-06,  5.9605e-08,  9.2833e-07,  2.7381e-07,  2.2538e-07, -2.8126e-07, -8.9258e-06, -1.1533e-05,  1.8626e-06, -1.3411e-07, -1.1642e-07, -3.9488e-07],\n",
      "        [-1.2577e-06,  2.8051e-07,  1.4901e-06,  3.5856e-07,  3.7858e-07, -4.4960e-07, -8.6324e-06, -1.1725e-05,  2.0321e-06, -1.8626e-07, -1.8196e-07, -3.4599e-07],\n",
      "        [-2.8312e-07,  6.7987e-08,  2.8685e-07,  2.3842e-07,  1.0072e-07, -1.2166e-07, -1.9614e-06, -2.6803e-06,  4.6846e-07, -4.6566e-08, -4.4703e-08, -7.2177e-08],\n",
      "        [-1.8775e-06,  5.2899e-07,  1.8589e-06,  4.4809e-07,  4.1723e-07, -5.3565e-07, -1.3143e-05, -1.7524e-05,  3.0249e-06, -3.0547e-07, -2.8126e-07, -5.4762e-07],\n",
      "        [ 1.2666e-07, -3.7253e-08, -1.5087e-07, -1.1456e-07, -1.1699e-07, -1.1921e-07,  8.1956e-07,  1.2890e-06, -2.0117e-07,  3.3528e-08,  2.2352e-08,  3.1665e-08],\n",
      "        [ 4.1537e-06, -9.9465e-07, -3.9311e-06, -1.0412e-06, -1.0878e-06,  1.3523e-06,  2.5928e-05,  3.5093e-05, -6.0817e-06,  5.9605e-07,  5.2596e-07,  1.0412e-06],\n",
      "        [ 1.7453e-06, -4.4983e-07, -1.6775e-06, -4.7591e-07, -4.9360e-07,  5.9605e-07,  1.1330e-05,  1.5318e-05, -2.6846e-06,  2.6077e-07,  2.3656e-07,  4.5821e-07],\n",
      "        [-1.4305e-06,  3.5972e-07,  1.3597e-06,  3.8976e-07,  4.2841e-07, -5.0664e-07, -9.5538e-06, -1.2955e-05,  2.2650e-06, -2.1979e-07, -2.0210e-07, -3.5972e-07],\n",
      "        [ 8.9407e-08, -3.3528e-08, -1.1921e-07, -3.5390e-08, -4.3772e-08,  5.2154e-08,  6.8918e-07,  9.8348e-07, -1.7509e-07,  5.9605e-08,  2.1535e-08,  2.5592e-08],\n",
      "        [ 9.2387e-07, -2.2817e-07, -8.9442e-07, -2.3842e-07, -2.5705e-07,  3.1665e-07,  6.1970e-06,  8.2701e-06, -1.4324e-06,  1.1184e-07,  1.1921e-07,  2.3297e-07],\n",
      "        [ 9.4250e-07, -2.0675e-07, -8.2515e-07, -2.5332e-07, -2.5460e-07,  3.2457e-07,  5.9260e-06,  8.0541e-06, -1.3871e-06,  1.3407e-07,  1.1292e-07,  2.9802e-07]])\n",
      "tensor(2.6627e-11)\n"
     ]
    }
   ],
   "source": [
    "# Lemma 2\n",
    "left = Sigma_tilde @ Sigma_hat_inv\n",
    "right = (Sigma_tilde - W_hat.T @ W_hat) @ torch.linalg.inv(Phi_hat)\n",
    "print(left - right)\n",
    "print(torch.mean((left - right)**2))"
   ]
  },
  {
   "cell_type": "code",
   "execution_count": 77,
   "id": "be3d4f42-f569-438c-93c5-66f7bf41d0ff",
   "metadata": {},
   "outputs": [
    {
     "name": "stdout",
     "output_type": "stream",
     "text": [
      "tensor([[-9.8837e-08,  4.4598e-07,  4.1443e-07,  1.0245e-07,  8.3447e-07, -5.2154e-08, -1.1716e-06, -5.0734e-07,  4.1351e-07, -4.4703e-08, -3.6880e-07, -1.7043e-07],\n",
      "        [ 3.7422e-07, -5.1317e-07, -7.3437e-07, -1.3225e-07, -8.9407e-07,  1.3411e-07,  3.1106e-06,  1.0580e-06, -6.0722e-07,  1.0431e-07,  3.2037e-07,  7.4506e-07],\n",
      "        [ 3.7027e-07, -8.4911e-07, -9.3627e-07, -1.9744e-07, -1.4231e-06,  1.0477e-07,  2.9616e-06,  1.1092e-06, -7.3947e-07,  1.0617e-07,  6.4122e-07,  6.2771e-07],\n",
      "        [ 9.1270e-08, -1.9558e-07, -2.1607e-07,  1.0148e-08, -2.5128e-07,  2.3868e-08,  6.8918e-07,  2.4913e-07, -1.7975e-07,  2.5146e-08,  1.5646e-07,  1.4529e-07],\n",
      "        [ 5.7369e-07, -1.4305e-06, -1.3579e-06, -4.1479e-07, -3.6030e-06,  9.3376e-07,  4.3660e-06,  1.6452e-06, -1.2815e-06,  1.6019e-07,  1.0058e-06,  9.0525e-07],\n",
      "        [-4.4703e-08,  7.4506e-08,  1.2480e-07, -5.2384e-08, -2.4059e-07,  5.0116e-07, -3.8184e-07, -1.1548e-07, -1.1176e-08, -2.9802e-08, -5.9605e-08, -1.3411e-07],\n",
      "        [-1.1316e-06,  2.7716e-06,  2.7381e-06,  6.1095e-07,  4.3437e-06, -3.3900e-07, -8.9683e-06, -3.3037e-06,  2.3360e-06, -3.2037e-07, -1.9511e-06, -1.9511e-06],\n",
      "        [-5.1921e-07,  1.1995e-06,  1.2149e-06,  2.6124e-07,  1.9493e-06, -1.0990e-07, -3.9365e-06, -1.4220e-06,  1.0072e-06, -1.4529e-07, -8.3819e-07, -8.4378e-07],\n",
      "        [ 4.2841e-07, -9.7230e-07, -1.0189e-06, -2.2165e-07, -1.5348e-06,  1.3784e-07,  3.2717e-06,  1.1761e-06, -8.4614e-07,  1.1176e-07,  7.0035e-07,  7.0649e-07],\n",
      "        [-3.7253e-08,  7.4506e-08,  1.0058e-07,  1.5600e-08,  1.9372e-07, -3.7253e-09, -2.2724e-07, -1.0245e-07,  8.1956e-08, -6.0480e-08, -8.2118e-08, -5.1810e-08],\n",
      "        [-2.6822e-07,  6.4075e-07,  6.5519e-07,  1.4156e-07,  1.0207e-06, -7.4506e-08, -2.1765e-06, -7.4971e-07,  5.3272e-07, -6.5769e-08, -4.6618e-07, -4.3107e-07],\n",
      "        [-2.6170e-07,  6.1840e-07,  6.2492e-07,  1.3225e-07,  1.0021e-06, -6.8918e-08, -2.1048e-06, -7.2271e-07,  5.1593e-07, -6.4122e-08, -4.0872e-07, -4.7251e-07]])\n",
      "tensor(1.9305e-12)\n"
     ]
    }
   ],
   "source": [
    "# Lemma 3\n",
    "left = Phi_hat @ (Sigma_hat_inv - Sigma_hat_inv @ Sigma_tilde @ Sigma_hat_inv) @ Phi_hat\n",
    "right = Phi_hat - (Sigma_tilde - W_hat.T @ W_hat)\n",
    "print(left - right)\n",
    "print(torch.mean((left - right)**2))"
   ]
  },
  {
   "cell_type": "code",
   "execution_count": 78,
   "id": "801e1931-7ae3-4de3-ab78-c5f8a5ce8df5",
   "metadata": {},
   "outputs": [
    {
     "name": "stdout",
     "output_type": "stream",
     "text": [
      "True\n",
      "True\n",
      "True\n"
     ]
    }
   ],
   "source": [
    "# Lemma 4\n",
    "print(all(torch.linalg.svd(Phi_hat[psum[0]:psum[1], psum[0]:psum[1]]).S > 0))\n",
    "print(all(torch.linalg.svd(Phi_hat[psum[1]:psum[2], psum[1]:psum[2]]).S > 0))\n",
    "print(all(torch.linalg.svd(Phi_hat[psum[2]:psum[3], psum[2]:psum[3]]).S > 0))"
   ]
  },
  {
   "cell_type": "code",
   "execution_count": 98,
   "id": "e1457ca4-8a71-419e-bf6a-6fbef3cf97f0",
   "metadata": {},
   "outputs": [
    {
     "name": "stdout",
     "output_type": "stream",
     "text": [
      "tensor([[ 6.0797e-06],\n",
      "        [-4.0531e-06],\n",
      "        [-7.3910e-06],\n",
      "        [-4.6194e-07],\n",
      "        [ 6.0797e-06],\n",
      "        [-3.7551e-06],\n",
      "        [ 2.5146e-07],\n",
      "        [ 1.2368e-06],\n",
      "        [ 1.5367e-08],\n",
      "        [-5.1409e-07],\n",
      "        [-3.5763e-06],\n",
      "        [ 3.7253e-08],\n",
      "        [ 3.0398e-06],\n",
      "        [ 4.8280e-06],\n",
      "        [-1.4901e-06]])\n",
      "tensor(1.3914e-11)\n"
     ]
    }
   ],
   "source": [
    "# Lemma 5\n",
    "mid = Sigma_tilde - W_hat.T @ W_hat\n",
    "\n",
    "for i_l, i_r in zip(psum[:-1], psum[1:]):                                                                                                                   \n",
    "    mid[i_l:i_r, i_r:] = 0                                                                                                                             \n",
    "    mid[i_r:, i_l:i_r] = 0 \n",
    "\n",
    "right = (Sigma_tilde - W_hat.T @ W_hat) @ torch.linalg.inv(mid) @ W_hat.T\n",
    "print(W_hat.T - right)\n",
    "print(torch.mean((W_hat.T - right)**2))"
   ]
  },
  {
   "cell_type": "code",
   "execution_count": 99,
   "id": "07562971-6185-4db6-8ced-be02af3c9d3a",
   "metadata": {},
   "outputs": [
    {
     "name": "stdout",
     "output_type": "stream",
     "text": [
      "tensor([[0.0016]])\n",
      "tensor([[0.0100]])\n",
      "tensor([[0.0002]])\n",
      "tensor([[-0.0020]])\n"
     ]
    }
   ],
   "source": [
    "# Lemma 6 as written\n",
    "W1_tilde = W1_hat @ S11_inv2\n",
    "W2_tilde = W2_hat @ S22_inv2\n",
    "W3_tilde = W3_hat @ S33_inv2\n",
    "\n",
    "B1, S1, A1T = torch.linalg.svd(W1_tilde, full_matrices=False)\n",
    "B2, S2, A2T = torch.linalg.svd(W2_tilde, full_matrices=False)\n",
    "B3, S3, A3T = torch.linalg.svd(W3_tilde, full_matrices=False)\n",
    "A1 = A1T.T\n",
    "A2 = A2T.T\n",
    "A3 = A3T.T\n",
    "\n",
    "# print(C12_tilde @ A2 - (A1*S1) @ B1.T @ (B2*S2))\n",
    "# print(torch.mean((C12_tilde @ A2 - (A1*S1) @ B1.T @ (B2*S2))**2))\n",
    "\n",
    "# print(C12_tilde.T @ C12_tilde @ A2 - (A2*S2) @ B2.T @ (B1*(S1**2)) @ B1.T @ (B2*S2))\n",
    "# print(torch.mean((C12_tilde.T @ C12_tilde @ A2 - (A2*S2) @ B2.T @ (B1*(S1**2)) @ B1.T @ (B2*S2))**2))\n",
    "\n",
    "# A potential modification\n",
    "# This is TRUE?\n",
    "print(A1.T @ C12_tilde @ A2 - (B1*S1).T @ (B2*S2))\n",
    "print(A1.T @ C13_tilde @ A3 - (B1*S1).T @ (B3*S3))\n",
    "print(A2.T @ C23_tilde @ A3 - (B2*S2).T @ (B3*S3))\n",
    "\n",
    "# This is False?\n",
    "print(A2.T @ C12_tilde.T @ C12_tilde @ A2 - (B2@S2).T @ (B1*(S1**2)) @ B1.T @ (B2*S2))"
   ]
  },
  {
   "cell_type": "code",
   "execution_count": 102,
   "id": "6d9da0eb-4cb1-4df3-b05f-5c0a6f68d593",
   "metadata": {},
   "outputs": [
    {
     "data": {
      "text/plain": [
       "tensor([[-1.]])"
      ]
     },
     "execution_count": 102,
     "metadata": {},
     "output_type": "execute_result"
    }
   ],
   "source": [
    "B1"
   ]
  },
  {
   "cell_type": "code",
   "execution_count": 85,
   "id": "60ecf6df-db45-4fd0-aea6-841e8b9dd7e5",
   "metadata": {},
   "outputs": [
    {
     "data": {
      "text/plain": [
       "tensor([[-0.3958]])"
      ]
     },
     "execution_count": 85,
     "metadata": {},
     "output_type": "execute_result"
    }
   ],
   "source": [
    "(B1*S1).T @ (B2*S2)"
   ]
  },
  {
   "cell_type": "code",
   "execution_count": null,
   "id": "78c52368-5b5f-43fc-b36a-57c7109c2d53",
   "metadata": {},
   "outputs": [],
   "source": []
  }
 ],
 "metadata": {
  "kernelspec": {
   "display_name": "Python 3 (ipykernel)",
   "language": "python",
   "name": "python3"
  },
  "language_info": {
   "codemirror_mode": {
    "name": "ipython",
    "version": 3
   },
   "file_extension": ".py",
   "mimetype": "text/x-python",
   "name": "python",
   "nbconvert_exporter": "python",
   "pygments_lexer": "ipython3",
   "version": "3.8.3"
  }
 },
 "nbformat": 4,
 "nbformat_minor": 5
}
