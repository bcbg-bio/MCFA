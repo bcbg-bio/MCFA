{
 "cells": [
  {
   "cell_type": "code",
   "execution_count": 86,
   "metadata": {},
   "outputs": [],
   "source": [
    "import torch\n",
    "import numpy as np\n",
    "import matplotlib.pyplot as plt\n",
    "import torch.distributions as tdist"
   ]
  },
  {
   "cell_type": "code",
   "execution_count": 2,
   "metadata": {},
   "outputs": [],
   "source": [
    "M = 3  # total number of datasets\n",
    "N = 1000  # total number of samples\n",
    "d = 5  # latent variable z dimension\n",
    "y_dims = torch.tensor([20, 30, 50])  # dimensions of each dataset\n",
    "x_dims = torch.tensor([4, 5, 6])\n"
   ]
  },
  {
   "cell_type": "code",
   "execution_count": 125,
   "metadata": {},
   "outputs": [],
   "source": [
    "# slightly weird simulation seed values\n",
    "def generate_W_L_Phi(y_dims, x_dims, d=5, M=3, minval=-100, maxval=100, max_noise=5):\n",
    "    all_Ws = []\n",
    "    all_Ls = []\n",
    "    all_Phis = []\n",
    "    \n",
    "    for i, y_val in enumerate(y_dims):\n",
    "        # declare new uniform distributions from which to sample ground truth W, L, and Phi for each dataset\n",
    "        W_uniform = tdist.uniform.Uniform(torch.ones(y_val, d)*minval, torch.ones(y_val, d)*maxval)\n",
    "        L_uniform = tdist.uniform.Uniform(torch.ones(y_val, x_dims[i])*minval, torch.ones(y_val, x_dims[i])*maxval)\n",
    "        Phi_uniform = tdist.uniform.Uniform(torch.zeros(y_val), max_noise*torch.ones(y_val))\n",
    "\n",
    "        # store ground truth W, L, and Phi\n",
    "        all_Ws.append(W_uniform.sample())\n",
    "        all_Ls.append(L_uniform.sample())\n",
    "        all_Phis.append(torch.diag(Phi_uniform.sample()))\n",
    "    \n",
    "    return all_Ws, all_Ls, all_Phis\n",
    "\n",
    "# standard normals for W and L, identity for Phi\n",
    "def generate_W_L_gaussian_Phi_identity(y_dims, x_dims, W_stdev=2.0, L_stdev=2.0):\n",
    "    all_Ws = []\n",
    "    all_Ls = []\n",
    "    all_Phis = []\n",
    "    \n",
    "    for i, y_val in enumerate(y_dims):\n",
    "        # declare new uniform distributions from which to sample ground truth W, L, and Phi for each dataset\n",
    "        W_dist = tdist.normal.Normal(torch.zeros(y_val, d), torch.ones(y_val, d) * W_stdev)\n",
    "        L_dist = tdist.normal.Normal(torch.zeros(y_val, x_dims[i]), torch.ones(y_val, x_dims[i]) * L_stdev)\n",
    "\n",
    "        # store ground truth W, L, and Phi\n",
    "        all_Ws.append(W_dist.sample())\n",
    "        all_Ls.append(L_dist.sample())\n",
    "\n",
    "        # append identity matrix instead of sampling uniform values\n",
    "        all_Phis.append(torch.eye(y_val))\n",
    "        \n",
    "    return all_Ws, all_Ls, all_Phis\n"
   ]
  },
  {
   "cell_type": "code",
   "execution_count": 126,
   "metadata": {},
   "outputs": [
    {
     "name": "stdout",
     "output_type": "stream",
     "text": [
      "[torch.Size([20, 5]), torch.Size([30, 5]), torch.Size([50, 5])]\n",
      "[torch.Size([20, 4]), torch.Size([30, 5]), torch.Size([50, 6])]\n",
      "[torch.Size([20, 20]), torch.Size([30, 30]), torch.Size([50, 50])]\n"
     ]
    }
   ],
   "source": [
    "# all_Ws, all_Ls, all_Phis = generate_W_L_Phi(y_dims, x_dims)\n",
    "all_Ws, all_Ls, all_Phis = generate_W_L_gaussian_Phi_identity(y_dims, x_dims)\n",
    "print([W.shape for W in all_Ws])\n",
    "print([L.shape for L in all_Ls])\n",
    "print([Phi.shape for Phi in all_Phis])"
   ]
  },
  {
   "cell_type": "code",
   "execution_count": 127,
   "metadata": {},
   "outputs": [],
   "source": [
    "def generate_samples(all_Ws, all_Ls, all_Phis, y_dims, x_dims, N=1000, d=5):\n",
    "    datasets = [torch.zeros(1, y_d) for y_d in y_dims]\n",
    "\n",
    "    # z-distribution remains fixed\n",
    "    z_distribution = tdist.multivariate_normal.MultivariateNormal(torch.zeros(d), torch.eye(d))\n",
    "    \n",
    "    # simulate the graphical model\n",
    "    for sample in range(N):\n",
    "        print('Generating sample: {}/{}'.format(sample, N), end='\\r', flush=True)\n",
    "        # for each sample, retrieve the latent z latent variable\n",
    "        z = z_distribution.sample()\n",
    "        # for each dataset, compute the dataset-specific mean and variance, and obtain 1 sample\n",
    "        for i, dim in enumerate(x_dims):\n",
    "            x = tdist.multivariate_normal.MultivariateNormal(torch.zeros(dim), torch.eye(dim)).sample()\n",
    "            y_i = tdist.multivariate_normal.MultivariateNormal(all_Ws[i] @ z + all_Ls[i] @ x, all_Phis[i]).sample()\n",
    "            datasets[i] = torch.cat([datasets[i], y_i[None,:]])\n",
    "    datasets = [dataset[1:] for dataset in datasets]      \n",
    "    return datasets"
   ]
  },
  {
   "cell_type": "code",
   "execution_count": 128,
   "metadata": {},
   "outputs": [
    {
     "name": "stdout",
     "output_type": "stream",
     "text": [
      "torch.Size([100, 1000])1000\n"
     ]
    }
   ],
   "source": [
    "# generate datasets according to simulation\n",
    "datasets = generate_samples(all_Ws, all_Ls, all_Phis, y_dims, x_dims)\n",
    "# concatenate the y-vectors for each sample together\n",
    "y_concat = torch.cat(datasets, axis=1)\n",
    "y_concat_T = y_concat.T\n",
    "print(y_concat_T.shape)"
   ]
  },
  {
   "cell_type": "code",
   "execution_count": 163,
   "metadata": {},
   "outputs": [],
   "source": [
    "# we have the low-rank structure and shit here\n",
    "def initialize_model(y_dims, x_dims, datasets, d=5, std=1, mean=0):\n",
    "    Ws_to_stack = []\n",
    "    Phis_to_stack = []\n",
    "    Ls_to_stack = []\n",
    "    \n",
    "    for i, y_dim in enumerate(y_dims):\n",
    "        # set W and L to standard normal initialization around 0 \n",
    "        cur_W = torch.nn.init.normal_(torch.zeros(y_dim, d), mean=mean, std=std)\n",
    "        cur_L = torch.nn.init.normal_(torch.zeros(y_dim, x_dims[i]), mean=mean, std=std)\n",
    "\n",
    "        # set Phi to the empirical covariance matrix \n",
    "        cur_dataset = datasets[i] # (n_samples x dimension)\n",
    "        ymu = torch.mean(cur_dataset, axis=0, keepdim=True)\n",
    "        cur_dataset = cur_dataset - ymu\n",
    "        \n",
    "        # due to design matrix construction, covariance = 1/n(Y^T Y)\n",
    "        cur_Phi = (1/cur_dataset.shape[0]) * cur_dataset.T @ cur_dataset\n",
    "\n",
    "        Ws_to_stack.append(cur_W)\n",
    "        Ls_to_stack.append(cur_L)\n",
    "        Phis_to_stack.append(cur_Phi)\n",
    "\n",
    "    return torch.cat(Ws_to_stack, axis=0), torch.block_diag(*Ls_to_stack), torch.block_diag(*Phis_to_stack)\n"
   ]
  },
  {
   "cell_type": "code",
   "execution_count": 164,
   "metadata": {},
   "outputs": [],
   "source": [
    "# compute the ground-truth parameters\n",
    "W_GT = torch.cat(all_Ws, axis=0)\n",
    "L_GT = torch.block_diag(*all_Ls)\n",
    "Phi_GT = torch.block_diag(*all_Phis)\n",
    "# initialize the model parameters\n",
    "W_model, L_model, Phi_model = initialize_model(y_dims, x_dims, datasets)"
   ]
  },
  {
   "cell_type": "code",
   "execution_count": 178,
   "metadata": {},
   "outputs": [],
   "source": [
    "# the E-Step required values (is there a way to batch this intelligently?)\n",
    "def E_step(W, L, Phi, x_dims, d, y_i):\n",
    "    # schur-complement (M/D)^{-1}; need to make sure that this is not blowing up!\n",
    "    sigma_22_inv = torch.inverse(W@W.T + L @ L.T + Phi)\n",
    "    #     print(sigma_22_inv)\n",
    "\n",
    "    # other necessary block matrices\n",
    "    sigma_12 = torch.cat([W.T, L.T], axis=0)\n",
    "    sigma_11 = torch.eye(torch.sum(x_dims)+d)\n",
    "\n",
    "    # compute the posterior mean of z and x; y should be a matrix with all samples aligned as columns\n",
    "    posterior_z_x_mean = sigma_12 @ sigma_22_inv @ (y_i)\n",
    "    posterior_z_mean = posterior_z_x_mean[:d]\n",
    "    posterior_x_mean = posterior_z_x_mean[d:]\n",
    "\n",
    "    # posterior covariance\n",
    "    posterior_x1_cov = sigma_11 - sigma_12 @ sigma_22_inv @ sigma_12.T\n",
    "    posterior_z_x_cov = posterior_x1_cov[:d, d:]  # cross covariance\n",
    "    posterior_z_z_cov = posterior_x1_cov[:d, :d]  # upper left block matrix\n",
    "    posterior_x_x_cov = posterior_x1_cov[d:, d:]  # bottom right block matrix\n",
    "    \n",
    "    # need to batch zmu and xmu: [n_samples, <[z, x]>.shape, 1]\n",
    "    zmu_batched = posterior_z_mean.T[:, :, None]\n",
    "    xmu_batched = posterior_x_mean.T[:, :, None]\n",
    "\n",
    "    # posterior <zx.T> = cov(z, x) + <z><x.T>\n",
    "    posterior_zxT = posterior_z_x_cov + zmu_batched @ xmu_batched.permute(0, 2, 1)  # shape: (n_samples, z_dim, x_dim)\n",
    "    posterior_zzT = posterior_z_z_cov + zmu_batched @ zmu_batched.permute(0, 2, 1)  # shape: (n_samples, z_dim, z_dim)\n",
    "    posterior_xxT = posterior_x_x_cov + xmu_batched @ xmu_batched.permute(0, 2, 1)  # shape: (n_samples, x_dim, x_dim)\n",
    "\n",
    "    return posterior_zxT, posterior_zzT, posterior_xxT, zmu_batched, xmu_batched\n",
    "def M_step(zxT, zzT, xxT, zmu, xmu, y_i, Phi_model, L_model, W_model, N):\n",
    "    y_i_batched = y_i[:, :, None]  # (n_samples, batch_dim, 1)\n",
    "    new_L = torch.sum(y_i_batched @ xmu.permute(0, 2, 1) - W_model @ zxT, axis=0) @ torch.inverse(torch.sum(xxT, axis=0))\n",
    "    new_W = torch.sum(y_i_batched @ zmu.permute(0, 2, 1) - L_model @ zxT.permute(0, 2, 1), axis=0) @ torch.inverse(torch.sum(zzT, axis=0))\n",
    "    \n",
    "    phi_term_1 = 2 / N * torch.sum( (L_model @ xmu + W_model @ zmu) @ y_i_batched.permute(0, 2, 1), axis=0)\n",
    "    phi_term_2 = -1 / N * torch.sum(y_i_batched @ y_i_batched.permute(0, 2, 1), axis=0)\n",
    "    phi_term_3 = -1 / N * torch.sum( (L_model @ xxT @ L_model.T) + W_model @ zzT @ W_model.T + 2 * L_model @ zxT.permute(0, 2, 1) @ W_model.T, axis=0)\n",
    "    new_Phi = torch.inverse(phi_term_1 + phi_term_2 + phi_term_3)\n",
    "\n",
    "    #     print(phi_term_1.shape)\n",
    "    #     print(phi_term_2.shape)\n",
    "    #     print(new_L.shape)\n",
    "    #     print(new_W.shape)    \n",
    "    \n",
    "    return new_W, new_L, new_Phi"
   ]
  },
  {
   "cell_type": "code",
   "execution_count": 179,
   "metadata": {},
   "outputs": [],
   "source": [
    "zxT, zzT, xxT, zmu, xmu = E_step(W_model, L_model, Phi_model, x_dims, d, y_concat_T)\n",
    "new_W, new_L, new_Phi = M_step(zxT, zzT, xxT, zmu, xmu, y_concat, Phi_model, L_model, W_model, N)"
   ]
  },
  {
   "cell_type": "code",
   "execution_count": 180,
   "metadata": {},
   "outputs": [
    {
     "name": "stdout",
     "output_type": "stream",
     "text": [
      "----------------------------------------------------------------------------------------------------\n",
      "Initial F-Norm (W-WGT)_F: 49.89502716064453 (L-LGT)_F: 51.235958099365234 (Phi-PhiGT)_F: 0.0\n",
      "----------------------------------------------------------------------------------------------------\n",
      "0/1000: (W-WGT)_F: 49.89502716064453 (L-LGT)_F: 51.235958099365234 (Phi-PhiGT)_F: 0.0\n",
      "50/1000: (W-WGT)_F: 69.72433471679688 (L-LGT)_F: 80.46775817871094 (Phi-PhiGT)_F: 0.0\n",
      "100/1000: (W-WGT)_F: 65.29612731933594 (L-LGT)_F: 78.29511260986328 (Phi-PhiGT)_F: 0.0\n",
      "150/1000: (W-WGT)_F: 62.482093811035156 (L-LGT)_F: 77.10384368896484 (Phi-PhiGT)_F: 0.0\n",
      "200/1000: (W-WGT)_F: 60.50444793701172 (L-LGT)_F: 76.28849792480469 (Phi-PhiGT)_F: 0.0\n",
      "250/1000: (W-WGT)_F: 59.04951858520508 (L-LGT)_F: 75.63645935058594 (Phi-PhiGT)_F: 0.0\n",
      "300/1000: (W-WGT)_F: 57.9642219543457 (L-LGT)_F: 75.0776138305664 (Phi-PhiGT)_F: 0.0\n",
      "350/1000: (W-WGT)_F: 57.15309524536133 (L-LGT)_F: 74.58623504638672 (Phi-PhiGT)_F: 0.0\n",
      "400/1000: (W-WGT)_F: 56.548282623291016 (L-LGT)_F: 74.14478302001953 (Phi-PhiGT)_F: 0.0\n",
      "450/1000: (W-WGT)_F: 56.102691650390625 (L-LGT)_F: 73.75164031982422 (Phi-PhiGT)_F: 0.0\n",
      "500/1000: (W-WGT)_F: 55.77603530883789 (L-LGT)_F: 73.402587890625 (Phi-PhiGT)_F: 0.0\n",
      "550/1000: (W-WGT)_F: 55.537933349609375 (L-LGT)_F: 73.09309387207031 (Phi-PhiGT)_F: 0.0\n",
      "600/1000: (W-WGT)_F: 55.36602783203125 (L-LGT)_F: 72.82027435302734 (Phi-PhiGT)_F: 0.0\n",
      "650/1000: (W-WGT)_F: 55.24522018432617 (L-LGT)_F: 72.58090209960938 (Phi-PhiGT)_F: 0.0\n",
      "700/1000: (W-WGT)_F: 55.160621643066406 (L-LGT)_F: 72.37029266357422 (Phi-PhiGT)_F: 0.0\n",
      "750/1000: (W-WGT)_F: 55.102874755859375 (L-LGT)_F: 72.18651580810547 (Phi-PhiGT)_F: 0.0\n",
      "800/1000: (W-WGT)_F: 55.065059661865234 (L-LGT)_F: 72.02629089355469 (Phi-PhiGT)_F: 0.0\n",
      "850/1000: (W-WGT)_F: 55.039974212646484 (L-LGT)_F: 71.88721466064453 (Phi-PhiGT)_F: 0.0\n",
      "900/1000: (W-WGT)_F: 55.02519989013672 (L-LGT)_F: 71.76658630371094 (Phi-PhiGT)_F: 0.0\n",
      "950/1000: (W-WGT)_F: 55.017818450927734 (L-LGT)_F: 71.66272735595703 (Phi-PhiGT)_F: 0.0\n",
      "----------------------------------------------------------------------------------------------------\n",
      "Steps: 999 (W-WGT)_F: 55.015480041503906 (L-LGT)_F: 71.57313537597656 (Phi-PhiGT)_F: 0.0\n"
     ]
    },
    {
     "data": {
      "image/png": "[encoded data removed]",
      "text/plain": [
       "<Figure size 720x720 with 1 Axes>"
      ]
     },
     "metadata": {
      "needs_background": "light"
     },
     "output_type": "display_data"
    },
    {
     "data": {
      "image/png": "[encoded data removed]",
      "text/plain": [
       "<Figure size 720x720 with 1 Axes>"
      ]
     },
     "metadata": {
      "needs_background": "light"
     },
     "output_type": "display_data"
    },
    {
     "data": {
      "text/plain": [
       "<Figure size 720x720 with 0 Axes>"
      ]
     },
     "metadata": {},
     "output_type": "display_data"
    }
   ],
   "source": [
    "# Experiment Set Phi = Phi_GT and don't update it in the M-Step\n",
    "plt.rcParams['figure.figsize'] = (10, 10)\n",
    "def M_step(zxT, zzT, xxT, zmu, xmu, y_i, Phi_model, L_model, W_model, N):\n",
    "    y_i_batched = y_i[:, :, None]  # (n_samples, batch_dim, 1)\n",
    "    new_L = torch.sum(y_i_batched @ xmu.permute(0, 2, 1) - W_model @ zxT, axis=0) @ torch.inverse(torch.sum(xxT, axis=0))\n",
    "    new_W = torch.sum(y_i_batched @ zmu.permute(0, 2, 1) - L_model @ zxT.permute(0, 2, 1), axis=0) @ torch.inverse(torch.sum(zzT, axis=0))\n",
    "    new_Phi = Phi_model # Experiment Set Phi = Phi_GT and don't update it in the M-Step\n",
    "\n",
    "    return new_W, new_L, new_Phi\n",
    "\n",
    "\n",
    "# number of E/M-Steps To Run\n",
    "steps = 1000\n",
    "# initialize the model parameters\n",
    "W_model, L_model, Phi_model = initialize_model(y_dims, x_dims, datasets)\n",
    "# stop training when the F-norm b/w current/prev update is too small\n",
    "eps = 1e-3\n",
    "\n",
    "# ground truth (GT) values\n",
    "W_GT = torch.cat(all_Ws, axis=0)\n",
    "L_GT = torch.block_diag(*all_Ls)\n",
    "Phi_GT = torch.block_diag(*all_Phis)\n",
    "\n",
    "# EXPERIMENT: Set Phi=Phi_GT and never update it; do we get convergence?\n",
    "Phi_model = Phi_GT\n",
    "\n",
    "# Check initial F-Norm\n",
    "W_norm = torch.norm(W_GT - W_model).item()\n",
    "L_norm = torch.norm(L_GT - L_model).item()\n",
    "Phi_norm = torch.norm(Phi_GT - Phi_model).item()\n",
    "print(\"-\"*100)\n",
    "print(\"Initial F-Norm (W-WGT)_F: {} (L-LGT)_F: {} (Phi-PhiGT)_F: {}\".format(W_norm, L_norm, Phi_norm))\n",
    "print(\"-\"*100)\n",
    "\n",
    "# store the reconstruction error\n",
    "W_losses = []\n",
    "L_losses = []\n",
    "Phi_losses = []\n",
    "\n",
    "# iterate through E/M Steps\n",
    "for i in range(steps):\n",
    "    # E-Step, then M-Step\n",
    "    zxT, zzT, xxT, zmu, xmu = E_step(W_model, L_model, Phi_model, x_dims, d, y_concat_T)\n",
    "    W_tprime, L_tprime, Phi_tprime = M_step(zxT, zzT, xxT, zmu, xmu, y_concat, Phi_model, L_model, W_model, N)\n",
    "\n",
    "    # F-norm between current estimators and true values\n",
    "    W_norm = torch.norm(W_GT - W_model).item()\n",
    "    L_norm = torch.norm(L_GT - L_model).item()\n",
    "    Phi_norm = torch.norm(Phi_GT - Phi_model).item()\n",
    "\n",
    "    # F-norm between prev params and updated\n",
    "    W_diff = torch.norm(W_tprime-W_model).item()\n",
    "    L_diff = torch.norm(L_tprime-L_model).item()\n",
    "    Phi_diff = torch.norm(Phi_tprime - Phi_model).item()\n",
    "\n",
    "    # store training stats\n",
    "    W_losses.append(W_norm)\n",
    "    L_losses.append(L_norm)\n",
    "    Phi_losses.append(Phi_norm)\n",
    "    \n",
    "    # update parameters\n",
    "    W_model = W_tprime\n",
    "    L_model = L_tprime\n",
    "    Phi_model = Phi_tprime\n",
    "\n",
    "    if W_diff <= eps and L_diff <= eps and Phi_diff <= eps:\n",
    "        print('Stopping... step between W_t, W_t+1 <= {}'.format(eps))\n",
    "        break\n",
    "\n",
    "    if (i % 50 == 0):\n",
    "        print(\"{}/{}: (W-WGT)_F: {} (L-LGT)_F: {} (Phi-PhiGT)_F: {}\".format(i, steps, W_norm, L_norm, Phi_norm))\n",
    "\n",
    "W_norm = torch.norm(W_GT - W_model).item()\n",
    "L_norm = torch.norm(L_GT - L_model).item()\n",
    "Phi_norm = torch.norm(Phi_GT - Phi_model).item()\n",
    "\n",
    "print(\"-\"*100)\n",
    "print(\"Steps: {} (W-WGT)_F: {} (L-LGT)_F: {} (Phi-PhiGT)_F: {}\".format(i, W_norm, L_norm, Phi_norm))\n",
    "plt.plot(np.arange(i+1), W_losses)\n",
    "plt.grid()\n",
    "plt.yscale('log')\n",
    "plt.ylabel('F-Norm Between W_hat and W during Training')\n",
    "plt.xlabel('Training Step')\n",
    "plt.title('Training Error for W when Phi Fixed to Ground Truth')\n",
    "plt.savefig('./phi_fixed_updates_to_W.png')\n",
    "plt.show()\n",
    "plt.clf()\n",
    "plt.plot(np.arange(i+1), L_losses)\n",
    "plt.grid()\n",
    "plt.yscale('log')\n",
    "plt.ylabel('F-Norm Between L_hat and L During Training')\n",
    "plt.xlabel('Training Step')\n",
    "plt.title('Training Error for L when Phi Fixed to Ground Truth')\n",
    "plt.savefig('./phi_fixed_updates_to_L.png')\n",
    "plt.show()\n",
    "plt.clf()\n",
    "\n"
   ]
  },
  {
   "cell_type": "code",
   "execution_count": 184,
   "metadata": {},
   "outputs": [
    {
     "data": {
      "text/plain": [
       "tensor(1.9572)"
      ]
     },
     "execution_count": 184,
     "metadata": {},
     "output_type": "execute_result"
    }
   ],
   "source": [
    "(W_model - W_GT).abs().mean()"
   ]
  },
  {
   "cell_type": "code",
   "execution_count": null,
   "metadata": {},
   "outputs": [],
   "source": []
  },
  {
   "cell_type": "code",
   "execution_count": null,
   "metadata": {},
   "outputs": [],
   "source": []
  },
  {
   "cell_type": "code",
   "execution_count": null,
   "metadata": {},
   "outputs": [],
   "source": []
  },
  {
   "cell_type": "code",
   "execution_count": null,
   "metadata": {},
   "outputs": [],
   "source": []
  }
 ],
 "metadata": {
  "kernelspec": {
   "display_name": "Python 3",
   "language": "python",
   "name": "python3"
  },
  "language_info": {
   "codemirror_mode": {
    "name": "ipython",
    "version": 3
   },
   "file_extension": ".py",
   "mimetype": "text/x-python",
   "name": "python",
   "nbconvert_exporter": "python",
   "pygments_lexer": "ipython3",
   "version": "3.7.7"
  }
 },
 "nbformat": 4,
 "nbformat_minor": 4
}
