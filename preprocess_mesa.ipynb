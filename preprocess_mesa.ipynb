{
  "nbformat": 4,
  "nbformat_minor": 0,
  "metadata": {
    "colab": {
      "name": "preprocess_mesa.ipynb",
      "provenance": []
    },
    "kernelspec": {
      "name": "python3",
      "display_name": "Python 3"
    },
    "language_info": {
      "name": "python"
    }
  },
  "cells": [
    {
      "cell_type": "code",
      "metadata": {
        "id": "PMnUxdiaDqnb"
      },
      "source": [
        "import glob\n",
        "import numpy as np\n",
        "import pandas as pd\n",
        "import torch\n",
        "import mpcca_collin.MPCCA.micca_model as micca\n",
        "np.set_printoptions(linewidth = 200)"
      ],
      "execution_count": null,
      "outputs": []
    },
    {
      "cell_type": "code",
      "metadata": {
        "id": "H3pXdTn7TZHO"
      },
      "source": [
        "def filter_data(X, min_mean = None, min_var = None, max_missing = None):\n",
        "  drop = []\n",
        "  if min_mean is not None:\n",
        "    mean_X = X.mean()\n",
        "    drop += list(mean_X.index[mean_X <= min_mean])\n",
        "  if min_var is not None:\n",
        "    var_X = X.var()\n",
        "    drop += list(var_X.index[var_X <= min_var])\n",
        "  if max_missing is not None:\n",
        "    missing_X = pd.isna(X).mean()\n",
        "    drop += list(missing_X.index[missing_X > max_missing])\n",
        "  return X.drop(columns = drop)"
      ],
      "execution_count": null,
      "outputs": []
    },
    {
      "cell_type": "code",
      "metadata": {
        "id": "RM4ebPUQB1tQ"
      },
      "source": [
        "geno_pc_fn = '/gpfs/commons/datasets/controlled/MESA/topmed_mesa_exchange/covariates/mesa.1319_samples.covariates.txt'\n",
        "exp_fn ='/gpfs/commons/datasets/controlled/MESA/SHARe_TOPMed/Transcriptomics/TOPMed_MESA_RNAseq_Pilot_expression_data/TOPMed_MESA_RNAseq_Pilot_RSEMv1.3.0.rsem_genes_tpm.txt'\n",
        "methyl_fn = '/gpfs/commons/projects/MESA/projects/preprocess_methylation/normalization/norm.beta.pc11.exam1.no_duplicates.no_relatives.txt.gz'\n",
        "metab_fn = '/gpfs/commons/datasets/controlled/MESA/topmed_mesa_exchange/metabolites/phenotype_matrices/Metabolites_Exam_1.invnorm.parquet'\n",
        "protein_fn = '/gpfs/commons/datasets/controlled/MESA/topmed_mesa_exchange/proteins/phenotype_matrices/Proteins_Exam_1.invnorm.parquet'\n",
        "\n",
        "probe_snp_overlap_fn = '/gpfs/commons/projects/MESA/projects/annotation/EPIC_polymorphicprobes/freeze8.pass_only.phased.mesa_1319samples.maf01.biallelic.SNVs_overlapping_with_probes.txt.gz'\n",
        "probe_manifest_fn = '/gpfs/commons/projects/MESA/projects/annotation/EPIC_hg38/EPIC.hg38.manifest.tsv.gz'\n",
        "\n",
        "sample_info_fn = '/gpfs/commons/projects/MESA/projects/summary_of_data/unique_individuals_across_molecular_data.txt'\n",
        "methyl_celltype_fn = '/gpfs/commons/projects/MESA/projects/preprocess_methylation/houseman/estimated_cellcounts_houseman.txt'\n",
        "exp_celltype_fn = '/gpfs/commons/datasets/controlled/MESA/topmed_mesa_exchange/deconvolution/TOPMed_MESA_RNAseq.2648_freeze_samples.cibersort_lm22.collapsed.txt'\n",
        "methyl_batch_fn = '/gpfs/commons/projects/MESA/projects/preprocess_methylation/samplesheet/samplesheet_with_feno.mixup_fix.only_BIS.pass_QC.no_duplicates.no_relatives.freeze_8.multiethnic.txt'\n",
        "exp_batch_fn = '/gpfs/commons/datasets/controlled/MESA/topmed_mesa_exchange/metadata/TOPMed_MESA_RNAseq_2973samples_metadata.txt'\n",
        "metab_batch_fn = '/gpfs/commons/datasets/controlled/MESA/topmed_mesa_exchange/metabolites/covariates/Metabolites_Exam_1.txt'\n",
        "\n",
        "phenotype_fp = '/gpfs/commons/projects/MESA/projects/pheno_data/exam_1.*.txt'"
      ],
      "execution_count": null,
      "outputs": []
    },
    {
      "cell_type": "code",
      "metadata": {
        "id": "vMdLwO5KCekT"
      },
      "source": [
        "methyl_data_save_fn=\"/gpfs/commons/projects/MESA/projects/mpcca/methyl_cca_collated.json\"\n",
        "metab_data_save_fn=\"/gpfs/commons/projects/MESA/projects/mpcca/metab_cca_collated.json\"\n",
        "exp_data_save_fn=\"/gpfs/commons/projects/MESA/projects/mpcca/exp_cca_collated.json\"\n",
        "geno_data_save_fn=\"/gpfs/commons/projects/MESA/projects/mpcca/geno_cca_collated.json\"\n",
        "protein_data_save_fn=\"/gpfs/commons/projects/MESA/projects/mpcca/protein_cca_collated.json\"\n",
        "meta_df_save_fn=\"/gpfs/commons/projects/MESA/projects/mpcca/metadata_cca_collated.json\"\n",
        "pheno_df_save_fn=\"/gpfs/commons/projects/MESA/projects/mpcca/phenotypes_cca_collated.json\""
      ],
      "execution_count": null,
      "outputs": []
    },
    {
      "cell_type": "code",
      "metadata": {
        "id": "XfU98ijKEVT1"
      },
      "source": [
        "sample_info = pd.read_table(sample_info_fn)\n",
        "metab_batch = pd.read_table(metab_batch_fn, index_col=0).T\n",
        "exp_batch = pd.read_table(exp_batch_fn, index_col=0)\n",
        "methyl_batch = pd.read_table(methyl_batch_fn, index_col='TOEID')\n",
        "\n",
        "methyl_ct = pd.read_table(methyl_celltype_fn, index_col='TOEID')\n",
        "exp_ct = pd.read_table(exp_celltype_fn, index_col=0)"
      ],
      "execution_count": null,
      "outputs": []
    },
    {
      "cell_type": "code",
      "metadata": {
        "id": "YDQsnpK-WI2z"
      },
      "source": [
        "split_columns = ['Metabolomics', 'Methylomics', 'Proteomics', 'Transcriptomics_PBMC']\n",
        "for column in split_columns:\n",
        "  sample_info[column] = sample_info[column].str.split(';')\n",
        "  sample_info = sample_info.explode(column)\n",
        "\n",
        "sample_info = sample_info[(sample_info['Exam'] == 1) & \n",
        "                          (~pd.isna(sample_info['Metabolomics'])) &\n",
        "                          (~pd.isna(sample_info['Methylomics'])) &\n",
        "                          (~pd.isna(sample_info['Proteomics'])) &\n",
        "                          (~pd.isna(sample_info['Transcriptomics_PBMC'])) ].drop(\n",
        "    columns=['Exam', 'Transcriptomics_Mono', 'Transcriptomics_Tcell',\n",
        "             'nr_molecular_file']).drop_duplicates()"
      ],
      "execution_count": null,
      "outputs": []
    },
    {
      "cell_type": "code",
      "metadata": {
        "id": "GiezIMew8w6I"
      },
      "source": [
        "methyl_batch = methyl_batch.drop(\n",
        "    columns=['Sample_Name', 'Sample_Group', 'Pool_ID', 'sidno', 'DecodedID',\n",
        "             'LEVELE1.id', 'exam', 'age', 'race', 'race.1', 'sex', 'sex.1',\n",
        "             'Basename', 'sidno_exam.ID', 'NWDid'])"
      ],
      "execution_count": null,
      "outputs": []
    },
    {
      "cell_type": "code",
      "metadata": {
        "id": "z1S2X_WACfSm"
      },
      "source": [
        "exp_batch = exp_batch.drop(\n",
        "    columns=['age', 'exam', 'latest_run_ended', 'participant_id', 'race',\n",
        "             'sample_type', 'sex', 'study', 'cohort', 'cohort2', 'has_genotype',\n",
        "             'exclusion_reason', 'phase', 'source', 'nwd_id'])"
      ],
      "execution_count": null,
      "outputs": []
    },
    {
      "cell_type": "code",
      "metadata": {
        "id": "lYIPGUkF3l0C"
      },
      "source": [
        "# NOTE: This metadata df has duplicate individuals contributing multiple\n",
        "#       samples. Keeping all for reference but must be filtered based on\n",
        "#       missingness patterns in the covariates. May also contain related\n",
        "#       individuals?\n",
        "meta_df = sample_info.join(\n",
        "    exp_batch, on='Transcriptomics_PBMC').join(\n",
        "    metab_batch[['bmi1c', 'column_2', 'column_3']], on=\"NWDID\").join(\n",
        "    methyl_batch, on='Methylomics').join(\n",
        "    methyl_ct.drop(columns='IID'), on='Methylomics').join(\n",
        "    exp_ct, on='Transcriptomics_PBMC')\n",
        "meta_df['num_nans'] = pd.isna(meta_df).sum(1).values\n",
        "meta_df.reset_index(inplace=True)\n",
        "meta_df.to_json(meta_df_save_fn)"
      ],
      "execution_count": null,
      "outputs": []
    },
    {
      "cell_type": "code",
      "metadata": {
        "id": "DDVsedvd-UTR"
      },
      "source": [
        "probe_distance = pd.read_table(probe_snp_overlap_fn, usecols=[11, 12]).apply(\n",
        "    lambda x: x.str.split(';')).explode(['probe', 'distance'])\n",
        "bad_probes_dist = probe_distance[probe_distance['distance'].astype('int') < 5].probe\n",
        "\n",
        "probe_chr = pd.read_table(probe_manifest_fn, usecols=[0, 4])\n",
        "bad_probes_chr = probe_chr[(probe_chr['CpG_chrm'] == 'chrM') |\n",
        "                           (probe_chr['CpG_chrm'] == 'chrX') |\n",
        "                           (probe_chr['CpG_chrm'] == 'chrY')].probeID\n",
        "bad_probes = pd.unique(list(bad_probes_chr) + list(bad_probes_dist))"
      ],
      "execution_count": null,
      "outputs": []
    },
    {
      "cell_type": "code",
      "metadata": {
        "id": "dnxZl3jFC8Jw"
      },
      "source": [
        "skip_f = lambda x: False if x==0 else np.random.choice([True, False], p = [0.8, 0.2])\n",
        "methyl_data = pd.read_table(methyl_fn, index_col=0, skiprows=skip_f)\n",
        "methyl_data = methyl_data.drop(methyl_data.index.intersection(bad_probes)).T"
      ],
      "execution_count": null,
      "outputs": []
    },
    {
      "cell_type": "code",
      "metadata": {
        "id": "8D9MphDpKa97"
      },
      "source": [
        "geno_data = pd.read_table(geno_pc_fn, index_col=0).drop(columns='gender')\n",
        "metab_data = pd.read_parquet(metab_fn).T\n",
        "protein_data = pd.read_parquet(protein_fn).T"
      ],
      "execution_count": null,
      "outputs": []
    },
    {
      "cell_type": "code",
      "metadata": {
        "id": "DrGiIa-GTq06"
      },
      "source": [
        "exp_data = pd.read_table(exp_fn, index_col=0).drop(columns='transcript_id(s)').T\n",
        "# Some inds have duplicate samples, keep the one with the least batch/ct nans.\n",
        "exp_data = meta_df.join(exp_data, on='Transcriptomics_PBMC', how='inner').sort_values(by=['sidno', 'NWDID', 'num_nans']).drop_duplicates(subset='NWDID')\n",
        "exp_data.set_index('NWDID')\n",
        "exp_data = exp_data.drop(columns=meta_df.columns)"
      ],
      "execution_count": null,
      "outputs": []
    },
    {
      "cell_type": "code",
      "metadata": {
        "id": "ADD9wIBmVKE2"
      },
      "source": [
        "common_inds = exp_data.index.intersection(geno_data.index).intersection(methyl_data.index).intersection(metab_data.index).intersection(protein_data.index)\n",
        "geno_data = geno_data.loc[common_inds]\n",
        "exp_data = exp_data.loc[common_inds]\n",
        "methyl_data = methyl_data.loc[common_inds]\n",
        "metab_data = metab_data.loc[common_inds]\n",
        "protein_data = protein_data.loc[common_inds]"
      ],
      "execution_count": null,
      "outputs": []
    },
    {
      "cell_type": "code",
      "metadata": {
        "id": "K3jRyZykOY2F"
      },
      "source": [
        "exp_data = filter_data(exp_data, min_mean=0.1, min_var=0)\n",
        "methyl_data = filter_data(methyl_data, max_missing=0)\n",
        "# methyl_data.fillna(methyl_data.mean())"
      ],
      "execution_count": null,
      "outputs": []
    },
    {
      "cell_type": "code",
      "metadata": {
        "id": "oKhxtZkNYHVb"
      },
      "source": [
        "# I don't love saving this as json, open to better options.\n",
        "geno_data.to_json(geno_data_save_fn)\n",
        "exp_data.to_json(exp_data_save_fn)\n",
        "methyl_data.to_json(methyl_data_save_fn)\n",
        "metab_data.to_json(metab_data_save_fn)\n",
        "protein_data.to_json(protein_data_save_fn)"
      ],
      "execution_count": null,
      "outputs": []
    },
    {
      "cell_type": "code",
      "metadata": {
        "id": "SOsoFW1aUDqw"
      },
      "source": [
        "pheno_df = pd.concat(\n",
        "    [pd.read_table(fn, index_col=0) for fn in glob.glob(phenotype_fp)], axis=1).drop(\n",
        "    columns=['sex', 'sidno', 'age', 'race', 'race_1', 'sex_1', 'race_white',\n",
        "             'race_black', 'race_chinese', 'race_hispanic', 'bmi'])\n",
        "pheno_df.to_json(pheno_df_save_fn)"
      ],
      "execution_count": null,
      "outputs": []
    }
  ]
}